{
 "cells": [
  {
   "cell_type": "code",
   "execution_count": 1,
   "metadata": {
    "collapsed": true
   },
   "outputs": [],
   "source": [
    "import pandas as pd\n",
    "import numpy as np\n",
    "import scipy.stats as scipy"
   ]
  },
  {
   "cell_type": "code",
   "execution_count": 2,
   "metadata": {
    "collapsed": true
   },
   "outputs": [],
   "source": [
    "df = pd.read_csv(\"./Data/E0_13.csv\")\n",
    "df_14 = pd.read_csv(\"./Data/E0_14.csv\")"
   ]
  },
  {
   "cell_type": "code",
   "execution_count": 3,
   "metadata": {
    "collapsed": false
   },
   "outputs": [
    {
     "data": {
      "text/plain": [
       "Index([u'Div', u'Date', u'HomeTeam', u'AwayTeam', u'FTHG', u'FTAG', u'FTR',\n",
       "       u'HTHG', u'HTAG', u'HTR', u'Referee', u'HS', u'AS', u'HST', u'AST',\n",
       "       u'HF', u'AF', u'HC', u'AC', u'HY', u'AY', u'HR', u'AR', u'B365H',\n",
       "       u'B365D', u'B365A', u'BWH', u'BWD', u'BWA', u'IWH', u'IWD', u'IWA',\n",
       "       u'LBH', u'LBD', u'LBA', u'PSH', u'PSD', u'PSA', u'WHH', u'WHD', u'WHA',\n",
       "       u'SJH', u'SJD', u'SJA', u'VCH', u'VCD', u'VCA', u'Bb1X2', u'BbMxH',\n",
       "       u'BbAvH', u'BbMxD', u'BbAvD', u'BbMxA', u'BbAvA', u'BbOU', u'BbMx>2.5',\n",
       "       u'BbAv>2.5', u'BbMx<2.5', u'BbAv<2.5', u'BbAH', u'BbAHh', u'BbMxAHH',\n",
       "       u'BbAvAHH', u'BbMxAHA', u'BbAvAHA', u'PSCH', u'PSCD', u'PSCA'],\n",
       "      dtype='object')"
      ]
     },
     "execution_count": 3,
     "metadata": {},
     "output_type": "execute_result"
    }
   ],
   "source": [
    "df.columns"
   ]
  },
  {
   "cell_type": "code",
   "execution_count": 4,
   "metadata": {
    "collapsed": false
   },
   "outputs": [],
   "source": [
    "res_13 = df.ix[:,:23]\n",
    "res_13 = res_13.drop(['Div','Date','Referee'],axis=1)\n",
    "res_14 = df_14.ix[:,:23]\n",
    "res_14 = res_14.drop(['Div','Date','Referee'],axis=1)\n",
    "table_features = df.ix[:,:7]\n",
    "table_features = table_features.drop(['FTHG','FTAG','Div','Date'],axis=1)\n",
    "bet_13 = df.ix[:,23:]\n"
   ]
  },
  {
   "cell_type": "code",
   "execution_count": 5,
   "metadata": {
    "collapsed": false,
    "scrolled": true
   },
   "outputs": [],
   "source": [
    "res_13.head()\n",
    "feature_table = df.ix[:,:23]"
   ]
  },
  {
   "cell_type": "code",
   "execution_count": 6,
   "metadata": {
    "collapsed": false
   },
   "outputs": [],
   "source": [
    "#Team, Home Goals Score, Away Goals Score, Attack Strength, Home Goals Conceded, Away Goals Conceded, Defensive Strength\n",
    "table_13 = pd.DataFrame(columns=('Team','HGS','AGS','HAS','AAS','HGC','AGC','HDS','ADS'))"
   ]
  },
  {
   "cell_type": "code",
   "execution_count": 7,
   "metadata": {
    "collapsed": false
   },
   "outputs": [
    {
     "name": "stdout",
     "output_type": "stream",
     "text": [
      "Average number of goals at home 1.57368421053\n",
      "Average number of goals away 1.19473684211\n",
      "Average number of goals conceded at home 1.57368421053\n",
      "Average number of goals conceded away 1.19473684211\n"
     ]
    }
   ],
   "source": [
    "avg_home_scored_13 = res_13.FTHG.sum() / 380.0\n",
    "avg_away_scored_13 = res_13.FTAG.sum() / 380.0\n",
    "avg_home_conceded_13 = avg_away_scored_13\n",
    "avg_away_conceded_13 = avg_home_scored_13\n",
    "print \"Average number of goals at home\",avg_home_scored_13\n",
    "print \"Average number of goals away\", avg_away_scored_13\n",
    "print \"Average number of goals conceded at home\",avg_away_conceded_13\n",
    "print \"Average number of goals conceded away\",avg_home_conceded_13\n"
   ]
  },
  {
   "cell_type": "code",
   "execution_count": 8,
   "metadata": {
    "collapsed": false
   },
   "outputs": [],
   "source": [
    "res_home = res_13.groupby('HomeTeam')\n",
    "res_away = res_13.groupby('AwayTeam')"
   ]
  },
  {
   "cell_type": "code",
   "execution_count": 9,
   "metadata": {
    "collapsed": false
   },
   "outputs": [
    {
     "data": {
      "text/plain": [
       "('Arsenal',\n",
       "     HomeTeam        AwayTeam  FTHG  FTAG FTR  HTHG  HTAG HTR  HS  AS  HST  \\\n",
       " 0    Arsenal     Aston Villa     1     3   A     1     1   D  16   9    4   \n",
       " 27   Arsenal       Tottenham     1     0   H     1     0   H  12  14    5   \n",
       " 46   Arsenal           Stoke     3     1   H     2     1   H  16   9    8   \n",
       " 70   Arsenal         Norwich     4     1   H     1     0   H  20  12   11   \n",
       " 90   Arsenal       Liverpool     2     0   H     1     0   H  12  12    7   \n",
       " 110  Arsenal     Southampton     2     0   H     1     0   H   9  10    4   \n",
       " 131  Arsenal            Hull     2     0   H     1     0   H  20   7    7   \n",
       " 147  Arsenal         Everton     1     1   D     0     0   D  11  12    5   \n",
       " 169  Arsenal         Chelsea     0     0   D     0     0   D   7  13    2   \n",
       " 190  Arsenal         Cardiff     2     0   H     0     0   D  28   8    6   \n",
       " 210  Arsenal          Fulham     2     0   H     0     0   D  22   8    8   \n",
       " 237  Arsenal  Crystal Palace     2     0   H     0     0   D  11  10    6   \n",
       " 254  Arsenal      Man United     0     0   D     0     0   D  17   6    5   \n",
       " 258  Arsenal      Sunderland     4     1   H     3     0   H  12   7    9   \n",
       " 301  Arsenal         Swansea     2     2   D     0     1   A  13   8    4   \n",
       " 306  Arsenal        Man City     1     1   D     0     1   A  10  15    3   \n",
       " 334  Arsenal        West Ham     3     1   H     1     1   D  14  12    8   \n",
       " 356  Arsenal       Newcastle     3     0   H     2     0   H  20   8    8   \n",
       " 364  Arsenal       West Brom     1     0   H     1     0   H  15  11    4   \n",
       " \n",
       "      AST  HF  AF  HC  AC  HY  AY  HR  AR  \n",
       " 0      4  15  18   4   3   4   5   1   0  \n",
       " 27     4  15  14   3   6   2   2   0   0  \n",
       " 46     3   8  15   6   7   0   2   0   0  \n",
       " 70     6   8   7  10   1   0   0   0   0  \n",
       " 90     4  11   7   3   5   2   1   0   0  \n",
       " 110    4  10  14   5   6   0   3   0   0  \n",
       " 131    2   9   6  11   1   0   0   0   0  \n",
       " 147    4  13  11   3   2   0   4   0   0  \n",
       " 169    4   7  11   8   6   2   1   0   0  \n",
       " 190    2   6  11  12   2   1   2   0   0  \n",
       " 210    2   5   7   4   4   0   0   0   0  \n",
       " 237    2   9  14   6   5   1   2   0   0  \n",
       " 254    2  10  14   5   5   1   2   0   0  \n",
       " 258    3  10  11   7   3   0   1   0   0  \n",
       " 301    2  11  12   7   0   0   1   0   0  \n",
       " 306    4   8  11   6   6   1   4   0   0  \n",
       " 334    2  14  12   4   3   2   2   0   0  \n",
       " 356    3   9   8  14   0   3   2   0   0  \n",
       " 364    1   9   6   9  10   2   2   0   0  )"
      ]
     },
     "execution_count": 9,
     "metadata": {},
     "output_type": "execute_result"
    }
   ],
   "source": [
    "list(res_home)[0]"
   ]
  },
  {
   "cell_type": "code",
   "execution_count": 10,
   "metadata": {
    "collapsed": false
   },
   "outputs": [
    {
     "data": {
      "text/html": [
       "<div>\n",
       "<table border=\"1\" class=\"dataframe\">\n",
       "  <thead>\n",
       "    <tr style=\"text-align: right;\">\n",
       "      <th></th>\n",
       "      <th>Team</th>\n",
       "      <th>HGS</th>\n",
       "      <th>AGS</th>\n",
       "      <th>HAS</th>\n",
       "      <th>AAS</th>\n",
       "      <th>HGC</th>\n",
       "      <th>AGC</th>\n",
       "      <th>HDS</th>\n",
       "      <th>ADS</th>\n",
       "    </tr>\n",
       "  </thead>\n",
       "  <tbody>\n",
       "    <tr>\n",
       "      <th>0</th>\n",
       "      <td>Arsenal</td>\n",
       "      <td>36</td>\n",
       "      <td>32</td>\n",
       "      <td>NaN</td>\n",
       "      <td>NaN</td>\n",
       "      <td>11</td>\n",
       "      <td>30</td>\n",
       "      <td>NaN</td>\n",
       "      <td>NaN</td>\n",
       "    </tr>\n",
       "    <tr>\n",
       "      <th>1</th>\n",
       "      <td>Aston Villa</td>\n",
       "      <td>22</td>\n",
       "      <td>17</td>\n",
       "      <td>NaN</td>\n",
       "      <td>NaN</td>\n",
       "      <td>29</td>\n",
       "      <td>32</td>\n",
       "      <td>NaN</td>\n",
       "      <td>NaN</td>\n",
       "    </tr>\n",
       "    <tr>\n",
       "      <th>2</th>\n",
       "      <td>Cardiff</td>\n",
       "      <td>20</td>\n",
       "      <td>12</td>\n",
       "      <td>NaN</td>\n",
       "      <td>NaN</td>\n",
       "      <td>35</td>\n",
       "      <td>39</td>\n",
       "      <td>NaN</td>\n",
       "      <td>NaN</td>\n",
       "    </tr>\n",
       "    <tr>\n",
       "      <th>3</th>\n",
       "      <td>Chelsea</td>\n",
       "      <td>43</td>\n",
       "      <td>28</td>\n",
       "      <td>NaN</td>\n",
       "      <td>NaN</td>\n",
       "      <td>11</td>\n",
       "      <td>16</td>\n",
       "      <td>NaN</td>\n",
       "      <td>NaN</td>\n",
       "    </tr>\n",
       "    <tr>\n",
       "      <th>4</th>\n",
       "      <td>Crystal Palace</td>\n",
       "      <td>18</td>\n",
       "      <td>15</td>\n",
       "      <td>NaN</td>\n",
       "      <td>NaN</td>\n",
       "      <td>23</td>\n",
       "      <td>25</td>\n",
       "      <td>NaN</td>\n",
       "      <td>NaN</td>\n",
       "    </tr>\n",
       "  </tbody>\n",
       "</table>\n",
       "</div>"
      ],
      "text/plain": [
       "             Team  HGS  AGS  HAS  AAS  HGC  AGC  HDS  ADS\n",
       "0         Arsenal   36   32  NaN  NaN   11   30  NaN  NaN\n",
       "1     Aston Villa   22   17  NaN  NaN   29   32  NaN  NaN\n",
       "2         Cardiff   20   12  NaN  NaN   35   39  NaN  NaN\n",
       "3         Chelsea   43   28  NaN  NaN   11   16  NaN  NaN\n",
       "4  Crystal Palace   18   15  NaN  NaN   23   25  NaN  NaN"
      ]
     },
     "execution_count": 10,
     "metadata": {},
     "output_type": "execute_result"
    }
   ],
   "source": [
    "table_13.Team = res_home.HomeTeam.all().values\n",
    "table_13.HGS = res_home.FTHG.sum().values\n",
    "table_13.HGC = res_home.FTAG.sum().values\n",
    "table_13.AGS = res_away.FTAG.sum().values\n",
    "table_13.AGC = res_away.FTHG.sum().values\n",
    "table_13.head()"
   ]
  },
  {
   "cell_type": "code",
   "execution_count": 11,
   "metadata": {
    "collapsed": false
   },
   "outputs": [
    {
     "data": {
      "text/html": [
       "<div>\n",
       "<table border=\"1\" class=\"dataframe\">\n",
       "  <thead>\n",
       "    <tr style=\"text-align: right;\">\n",
       "      <th></th>\n",
       "      <th>Team</th>\n",
       "      <th>HGS</th>\n",
       "      <th>AGS</th>\n",
       "      <th>HAS</th>\n",
       "      <th>AAS</th>\n",
       "      <th>HGC</th>\n",
       "      <th>AGC</th>\n",
       "      <th>HDS</th>\n",
       "      <th>ADS</th>\n",
       "    </tr>\n",
       "  </thead>\n",
       "  <tbody>\n",
       "    <tr>\n",
       "      <th>0</th>\n",
       "      <td>Arsenal</td>\n",
       "      <td>36</td>\n",
       "      <td>32</td>\n",
       "      <td>1.204013</td>\n",
       "      <td>1.409692</td>\n",
       "      <td>11</td>\n",
       "      <td>30</td>\n",
       "      <td>0.484581</td>\n",
       "      <td>1.003344</td>\n",
       "    </tr>\n",
       "    <tr>\n",
       "      <th>1</th>\n",
       "      <td>Aston Villa</td>\n",
       "      <td>22</td>\n",
       "      <td>17</td>\n",
       "      <td>0.735786</td>\n",
       "      <td>0.748899</td>\n",
       "      <td>29</td>\n",
       "      <td>32</td>\n",
       "      <td>1.277533</td>\n",
       "      <td>1.070234</td>\n",
       "    </tr>\n",
       "    <tr>\n",
       "      <th>2</th>\n",
       "      <td>Cardiff</td>\n",
       "      <td>20</td>\n",
       "      <td>12</td>\n",
       "      <td>0.668896</td>\n",
       "      <td>0.528634</td>\n",
       "      <td>35</td>\n",
       "      <td>39</td>\n",
       "      <td>1.541850</td>\n",
       "      <td>1.304348</td>\n",
       "    </tr>\n",
       "    <tr>\n",
       "      <th>3</th>\n",
       "      <td>Chelsea</td>\n",
       "      <td>43</td>\n",
       "      <td>28</td>\n",
       "      <td>1.438127</td>\n",
       "      <td>1.233480</td>\n",
       "      <td>11</td>\n",
       "      <td>16</td>\n",
       "      <td>0.484581</td>\n",
       "      <td>0.535117</td>\n",
       "    </tr>\n",
       "    <tr>\n",
       "      <th>4</th>\n",
       "      <td>Crystal Palace</td>\n",
       "      <td>18</td>\n",
       "      <td>15</td>\n",
       "      <td>0.602007</td>\n",
       "      <td>0.660793</td>\n",
       "      <td>23</td>\n",
       "      <td>25</td>\n",
       "      <td>1.013216</td>\n",
       "      <td>0.836120</td>\n",
       "    </tr>\n",
       "  </tbody>\n",
       "</table>\n",
       "</div>"
      ],
      "text/plain": [
       "             Team  HGS  AGS       HAS       AAS  HGC  AGC       HDS       ADS\n",
       "0         Arsenal   36   32  1.204013  1.409692   11   30  0.484581  1.003344\n",
       "1     Aston Villa   22   17  0.735786  0.748899   29   32  1.277533  1.070234\n",
       "2         Cardiff   20   12  0.668896  0.528634   35   39  1.541850  1.304348\n",
       "3         Chelsea   43   28  1.438127  1.233480   11   16  0.484581  0.535117\n",
       "4  Crystal Palace   18   15  0.602007  0.660793   23   25  1.013216  0.836120"
      ]
     },
     "execution_count": 11,
     "metadata": {},
     "output_type": "execute_result"
    }
   ],
   "source": [
    "table_13.HAS = (table_13.HGS / 19.0) / avg_home_scored_13\n",
    "table_13.AAS = (table_13.AGS / 19.0) / avg_away_scored_13\n",
    "table_13.HDS = (table_13.HGC / 19.0) / avg_home_conceded_13\n",
    "table_13.ADS = (table_13.AGC / 19.0) / avg_away_conceded_13\n",
    "table_13.head()"
   ]
  },
  {
   "cell_type": "code",
   "execution_count": 12,
   "metadata": {
    "collapsed": false
   },
   "outputs": [],
   "source": [
    "feature_table = feature_table[['HomeTeam','AwayTeam','FTR']]\n",
    "f_HAS = []\n",
    "f_HDS = []\n",
    "f_AAS = []\n",
    "f_ADS = []\n",
    "for index,row in feature_table.iterrows():\n",
    "    f_HAS.append(table_13[table_13['Team'] == row['HomeTeam']]['HAS'].values[0])\n",
    "    f_HDS.append(table_13[table_13['Team'] == row['HomeTeam']]['HDS'].values[0])\n",
    "    f_AAS.append(table_13[table_13['Team'] == row['HomeTeam']]['AAS'].values[0])\n",
    "    f_ADS.append(table_13[table_13['Team'] == row['HomeTeam']]['ADS'].values[0])\n",
    "    \n",
    "feature_table['HAS'] = f_HAS\n",
    "feature_table['HDS'] = f_HDS\n",
    "feature_table['AAS'] = f_AAS\n",
    "feature_table['ADS'] = f_ADS"
   ]
  },
  {
   "cell_type": "code",
   "execution_count": 13,
   "metadata": {
    "collapsed": false
   },
   "outputs": [
    {
     "data": {
      "text/html": [
       "<div>\n",
       "<table border=\"1\" class=\"dataframe\">\n",
       "  <thead>\n",
       "    <tr style=\"text-align: right;\">\n",
       "      <th></th>\n",
       "      <th>HomeTeam</th>\n",
       "      <th>AwayTeam</th>\n",
       "      <th>FTR</th>\n",
       "      <th>HAS</th>\n",
       "      <th>HDS</th>\n",
       "      <th>AAS</th>\n",
       "      <th>ADS</th>\n",
       "    </tr>\n",
       "  </thead>\n",
       "  <tbody>\n",
       "    <tr>\n",
       "      <th>0</th>\n",
       "      <td>Arsenal</td>\n",
       "      <td>Aston Villa</td>\n",
       "      <td>A</td>\n",
       "      <td>1.204013</td>\n",
       "      <td>0.484581</td>\n",
       "      <td>1.409692</td>\n",
       "      <td>1.003344</td>\n",
       "    </tr>\n",
       "    <tr>\n",
       "      <th>1</th>\n",
       "      <td>Liverpool</td>\n",
       "      <td>Stoke</td>\n",
       "      <td>H</td>\n",
       "      <td>1.772575</td>\n",
       "      <td>0.792952</td>\n",
       "      <td>2.114537</td>\n",
       "      <td>1.070234</td>\n",
       "    </tr>\n",
       "    <tr>\n",
       "      <th>2</th>\n",
       "      <td>Norwich</td>\n",
       "      <td>Everton</td>\n",
       "      <td>D</td>\n",
       "      <td>0.568562</td>\n",
       "      <td>0.792952</td>\n",
       "      <td>0.484581</td>\n",
       "      <td>1.471572</td>\n",
       "    </tr>\n",
       "    <tr>\n",
       "      <th>3</th>\n",
       "      <td>Sunderland</td>\n",
       "      <td>Fulham</td>\n",
       "      <td>A</td>\n",
       "      <td>0.702341</td>\n",
       "      <td>1.189427</td>\n",
       "      <td>0.881057</td>\n",
       "      <td>1.103679</td>\n",
       "    </tr>\n",
       "    <tr>\n",
       "      <th>4</th>\n",
       "      <td>Swansea</td>\n",
       "      <td>Man United</td>\n",
       "      <td>A</td>\n",
       "      <td>1.103679</td>\n",
       "      <td>1.145374</td>\n",
       "      <td>0.925110</td>\n",
       "      <td>0.936455</td>\n",
       "    </tr>\n",
       "  </tbody>\n",
       "</table>\n",
       "</div>"
      ],
      "text/plain": [
       "     HomeTeam     AwayTeam FTR       HAS       HDS       AAS       ADS\n",
       "0     Arsenal  Aston Villa   A  1.204013  0.484581  1.409692  1.003344\n",
       "1   Liverpool        Stoke   H  1.772575  0.792952  2.114537  1.070234\n",
       "2     Norwich      Everton   D  0.568562  0.792952  0.484581  1.471572\n",
       "3  Sunderland       Fulham   A  0.702341  1.189427  0.881057  1.103679\n",
       "4     Swansea   Man United   A  1.103679  1.145374  0.925110  0.936455"
      ]
     },
     "execution_count": 13,
     "metadata": {},
     "output_type": "execute_result"
    }
   ],
   "source": [
    "feature_table.head()"
   ]
  },
  {
   "cell_type": "code",
   "execution_count": 14,
   "metadata": {
    "collapsed": true
   },
   "outputs": [],
   "source": [
    "def transformResult(row):\n",
    "    if(row.FTR == 'H'):\n",
    "        return 1\n",
    "    elif(row.FTR == 'A'):\n",
    "        return -1\n",
    "    else:\n",
    "        return 0"
   ]
  },
  {
   "cell_type": "code",
   "execution_count": 15,
   "metadata": {
    "collapsed": false
   },
   "outputs": [],
   "source": [
    "feature_table[\"Result\"] = feature_table.apply(lambda row: transformResult(row),axis=1)"
   ]
  },
  {
   "cell_type": "code",
   "execution_count": 16,
   "metadata": {
    "collapsed": false
   },
   "outputs": [
    {
     "data": {
      "text/html": [
       "<div>\n",
       "<table border=\"1\" class=\"dataframe\">\n",
       "  <thead>\n",
       "    <tr style=\"text-align: right;\">\n",
       "      <th></th>\n",
       "      <th>HomeTeam</th>\n",
       "      <th>AwayTeam</th>\n",
       "      <th>FTR</th>\n",
       "      <th>HAS</th>\n",
       "      <th>HDS</th>\n",
       "      <th>AAS</th>\n",
       "      <th>ADS</th>\n",
       "      <th>Result</th>\n",
       "    </tr>\n",
       "  </thead>\n",
       "  <tbody>\n",
       "    <tr>\n",
       "      <th>0</th>\n",
       "      <td>Arsenal</td>\n",
       "      <td>Aston Villa</td>\n",
       "      <td>A</td>\n",
       "      <td>1.204013</td>\n",
       "      <td>0.484581</td>\n",
       "      <td>1.409692</td>\n",
       "      <td>1.003344</td>\n",
       "      <td>-1</td>\n",
       "    </tr>\n",
       "    <tr>\n",
       "      <th>1</th>\n",
       "      <td>Liverpool</td>\n",
       "      <td>Stoke</td>\n",
       "      <td>H</td>\n",
       "      <td>1.772575</td>\n",
       "      <td>0.792952</td>\n",
       "      <td>2.114537</td>\n",
       "      <td>1.070234</td>\n",
       "      <td>1</td>\n",
       "    </tr>\n",
       "    <tr>\n",
       "      <th>2</th>\n",
       "      <td>Norwich</td>\n",
       "      <td>Everton</td>\n",
       "      <td>D</td>\n",
       "      <td>0.568562</td>\n",
       "      <td>0.792952</td>\n",
       "      <td>0.484581</td>\n",
       "      <td>1.471572</td>\n",
       "      <td>0</td>\n",
       "    </tr>\n",
       "    <tr>\n",
       "      <th>3</th>\n",
       "      <td>Sunderland</td>\n",
       "      <td>Fulham</td>\n",
       "      <td>A</td>\n",
       "      <td>0.702341</td>\n",
       "      <td>1.189427</td>\n",
       "      <td>0.881057</td>\n",
       "      <td>1.103679</td>\n",
       "      <td>-1</td>\n",
       "    </tr>\n",
       "    <tr>\n",
       "      <th>4</th>\n",
       "      <td>Swansea</td>\n",
       "      <td>Man United</td>\n",
       "      <td>A</td>\n",
       "      <td>1.103679</td>\n",
       "      <td>1.145374</td>\n",
       "      <td>0.925110</td>\n",
       "      <td>0.936455</td>\n",
       "      <td>-1</td>\n",
       "    </tr>\n",
       "  </tbody>\n",
       "</table>\n",
       "</div>"
      ],
      "text/plain": [
       "     HomeTeam     AwayTeam FTR       HAS       HDS       AAS       ADS  Result\n",
       "0     Arsenal  Aston Villa   A  1.204013  0.484581  1.409692  1.003344      -1\n",
       "1   Liverpool        Stoke   H  1.772575  0.792952  2.114537  1.070234       1\n",
       "2     Norwich      Everton   D  0.568562  0.792952  0.484581  1.471572       0\n",
       "3  Sunderland       Fulham   A  0.702341  1.189427  0.881057  1.103679      -1\n",
       "4     Swansea   Man United   A  1.103679  1.145374  0.925110  0.936455      -1"
      ]
     },
     "execution_count": 16,
     "metadata": {},
     "output_type": "execute_result"
    }
   ],
   "source": [
    "feature_table.head()"
   ]
  },
  {
   "cell_type": "code",
   "execution_count": 17,
   "metadata": {
    "collapsed": true
   },
   "outputs": [],
   "source": [
    "X_train = feature_table[['HAS','HDS','AAS','ADS']]\n",
    "y_train = feature_table['Result']"
   ]
  },
  {
   "cell_type": "code",
   "execution_count": 18,
   "metadata": {
    "collapsed": false
   },
   "outputs": [],
   "source": [
    "from sklearn.tree import DecisionTreeClassifier\n",
    "from sklearn.naive_bayes import MultinomialNB\n",
    "from xgboost import XGBClassifier\n",
    "from sklearn.metrics import accuracy_score"
   ]
  },
  {
   "cell_type": "code",
   "execution_count": 19,
   "metadata": {
    "collapsed": false
   },
   "outputs": [
    {
     "ename": "NameError",
     "evalue": "name 'clf2' is not defined",
     "output_type": "error",
     "traceback": [
      "\u001b[1;31m---------------------------------------------------------------------------\u001b[0m",
      "\u001b[1;31mNameError\u001b[0m                                 Traceback (most recent call last)",
      "\u001b[1;32m<ipython-input-19-172f81969ab2>\u001b[0m in \u001b[0;36m<module>\u001b[1;34m()\u001b[0m\n\u001b[0;32m      1\u001b[0m \u001b[0mclf\u001b[0m \u001b[1;33m=\u001b[0m \u001b[0mDecisionTreeClassifier\u001b[0m\u001b[1;33m(\u001b[0m\u001b[1;33m)\u001b[0m\u001b[1;33m\u001b[0m\u001b[0m\n\u001b[1;32m----> 2\u001b[1;33m \u001b[0mclf2\u001b[0m\u001b[1;33m.\u001b[0m\u001b[0mfit\u001b[0m\u001b[1;33m(\u001b[0m\u001b[0mX_train\u001b[0m\u001b[1;33m,\u001b[0m\u001b[0my_train\u001b[0m\u001b[1;33m)\u001b[0m\u001b[1;33m\u001b[0m\u001b[0m\n\u001b[0m\u001b[0;32m      3\u001b[0m \u001b[0mclf3\u001b[0m \u001b[1;33m=\u001b[0m \u001b[0mXGBClassifier\u001b[0m\u001b[1;33m(\u001b[0m\u001b[1;33m)\u001b[0m\u001b[1;33m\u001b[0m\u001b[0m\n\u001b[0;32m      4\u001b[0m \u001b[0mclf3\u001b[0m\u001b[1;33m.\u001b[0m\u001b[0mfit\u001b[0m\u001b[1;33m(\u001b[0m\u001b[0mX_train\u001b[0m\u001b[1;33m,\u001b[0m\u001b[0my_train\u001b[0m\u001b[1;33m)\u001b[0m\u001b[1;33m\u001b[0m\u001b[0m\n",
      "\u001b[1;31mNameError\u001b[0m: name 'clf2' is not defined"
     ]
    }
   ],
   "source": [
    "clf = DecisionTreeClassifier()\n",
    "clf2.fit(X_train,y_train)\n",
    "clf3 = XGBClassifier()\n",
    "clf3.fit(X_train,y_train)"
   ]
  },
  {
   "cell_type": "code",
   "execution_count": null,
   "metadata": {
    "collapsed": false
   },
   "outputs": [],
   "source": [
    "y_pred = clf3.predict(X_train)\n",
    "accuracy_score(y_pred,y_train)"
   ]
  },
  {
   "cell_type": "code",
   "execution_count": null,
   "metadata": {
    "collapsed": true
   },
   "outputs": [],
   "source": []
  },
  {
   "cell_type": "code",
   "execution_count": null,
   "metadata": {
    "collapsed": true
   },
   "outputs": [],
   "source": []
  },
  {
   "cell_type": "code",
   "execution_count": null,
   "metadata": {
    "collapsed": true
   },
   "outputs": [],
   "source": []
  },
  {
   "cell_type": "code",
   "execution_count": null,
   "metadata": {
    "collapsed": true
   },
   "outputs": [],
   "source": []
  },
  {
   "cell_type": "code",
   "execution_count": null,
   "metadata": {
    "collapsed": true
   },
   "outputs": [],
   "source": []
  }
 ],
 "metadata": {
  "kernelspec": {
   "display_name": "Python [Root]",
   "language": "python",
   "name": "Python [Root]"
  },
  "language_info": {
   "codemirror_mode": {
    "name": "ipython",
    "version": 2
   },
   "file_extension": ".py",
   "mimetype": "text/x-python",
   "name": "python",
   "nbconvert_exporter": "python",
   "pygments_lexer": "ipython2",
   "version": "2.7.12"
  }
 },
 "nbformat": 4,
 "nbformat_minor": 0
}
