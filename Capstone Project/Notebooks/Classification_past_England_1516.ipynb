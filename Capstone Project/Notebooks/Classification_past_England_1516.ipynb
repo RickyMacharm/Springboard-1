{
 "cells": [
  {
   "cell_type": "code",
   "execution_count": 255,
   "metadata": {
    "collapsed": true
   },
   "outputs": [],
   "source": [
    "import pandas as pd\n",
    "import numpy as np\n",
    "import scipy.stats as scipy\n",
    "from __future__ import division"
   ]
  },
  {
   "cell_type": "code",
   "execution_count": 256,
   "metadata": {
    "collapsed": false
   },
   "outputs": [],
   "source": [
    "df = pd.read_csv(\"./Data/England/E0_16.csv\")\n",
    "df_14 = pd.read_csv(\"./Data/England/E0_14.csv\")"
   ]
  },
  {
   "cell_type": "code",
   "execution_count": 257,
   "metadata": {
    "collapsed": false
   },
   "outputs": [
    {
     "data": {
      "text/plain": [
       "Index([u'Div', u'Date', u'HomeTeam', u'AwayTeam', u'FTHG', u'FTAG', u'FTR',\n",
       "       u'HTHG', u'HTAG', u'HTR', u'Referee', u'HS', u'AS', u'HST', u'AST',\n",
       "       u'HF', u'AF', u'HC', u'AC', u'HY', u'AY', u'HR', u'AR', u'B365H',\n",
       "       u'B365D', u'B365A', u'BWH', u'BWD', u'BWA', u'IWH', u'IWD', u'IWA',\n",
       "       u'LBH', u'LBD', u'LBA', u'PSH', u'PSD', u'PSA', u'WHH', u'WHD', u'WHA',\n",
       "       u'VCH', u'VCD', u'VCA', u'Bb1X2', u'BbMxH', u'BbAvH', u'BbMxD',\n",
       "       u'BbAvD', u'BbMxA', u'BbAvA', u'BbOU', u'BbMx>2.5', u'BbAv>2.5',\n",
       "       u'BbMx<2.5', u'BbAv<2.5', u'BbAH', u'BbAHh', u'BbMxAHH', u'BbAvAHH',\n",
       "       u'BbMxAHA', u'BbAvAHA', u'PSCH', u'PSCD', u'PSCA'],\n",
       "      dtype='object')"
      ]
     },
     "execution_count": 257,
     "metadata": {},
     "output_type": "execute_result"
    }
   ],
   "source": [
    "df.columns"
   ]
  },
  {
   "cell_type": "code",
   "execution_count": 258,
   "metadata": {
    "collapsed": false
   },
   "outputs": [],
   "source": [
    "res_13 = df.ix[:,:23]\n",
    "res_13 = res_13.drop(['Div','Date'],axis=1)\n",
    "res_14 = df_14.ix[:,:23]\n",
    "res_14 = res_14.drop(['Div','Date'],axis=1)\n",
    "table_features = df.ix[:,:7]\n",
    "table_features = table_features.drop(['FTHG','FTAG','Div','Date'],axis=1)\n",
    "bet_13 = df.ix[:,23:]\n"
   ]
  },
  {
   "cell_type": "code",
   "execution_count": 259,
   "metadata": {
    "collapsed": false,
    "scrolled": true
   },
   "outputs": [],
   "source": [
    "res_13.head()\n",
    "feature_table = df.ix[:,:23]"
   ]
  },
  {
   "cell_type": "code",
   "execution_count": 260,
   "metadata": {
    "collapsed": false
   },
   "outputs": [
    {
     "data": {
      "text/html": [
       "<div>\n",
       "<table border=\"1\" class=\"dataframe\">\n",
       "  <thead>\n",
       "    <tr style=\"text-align: right;\">\n",
       "      <th></th>\n",
       "      <th>HomeTeam</th>\n",
       "      <th>AwayTeam</th>\n",
       "      <th>FTHG</th>\n",
       "      <th>FTAG</th>\n",
       "      <th>FTR</th>\n",
       "      <th>HTHG</th>\n",
       "      <th>HTAG</th>\n",
       "      <th>HTR</th>\n",
       "      <th>Referee</th>\n",
       "      <th>HS</th>\n",
       "      <th>...</th>\n",
       "      <th>HST</th>\n",
       "      <th>AST</th>\n",
       "      <th>HF</th>\n",
       "      <th>AF</th>\n",
       "      <th>HC</th>\n",
       "      <th>AC</th>\n",
       "      <th>HY</th>\n",
       "      <th>AY</th>\n",
       "      <th>HR</th>\n",
       "      <th>AR</th>\n",
       "    </tr>\n",
       "  </thead>\n",
       "  <tbody>\n",
       "    <tr>\n",
       "      <th>165</th>\n",
       "      <td>West Ham</td>\n",
       "      <td>Hull</td>\n",
       "      <td>1</td>\n",
       "      <td>0</td>\n",
       "      <td>H</td>\n",
       "      <td>0</td>\n",
       "      <td>0</td>\n",
       "      <td>D</td>\n",
       "      <td>L Mason</td>\n",
       "      <td>18</td>\n",
       "      <td>...</td>\n",
       "      <td>6</td>\n",
       "      <td>5</td>\n",
       "      <td>13</td>\n",
       "      <td>9</td>\n",
       "      <td>10</td>\n",
       "      <td>6</td>\n",
       "      <td>2</td>\n",
       "      <td>4</td>\n",
       "      <td>0</td>\n",
       "      <td>0</td>\n",
       "    </tr>\n",
       "    <tr>\n",
       "      <th>166</th>\n",
       "      <td>Bournemouth</td>\n",
       "      <td>Southampton</td>\n",
       "      <td>1</td>\n",
       "      <td>3</td>\n",
       "      <td>A</td>\n",
       "      <td>1</td>\n",
       "      <td>1</td>\n",
       "      <td>D</td>\n",
       "      <td>M Clattenburg</td>\n",
       "      <td>10</td>\n",
       "      <td>...</td>\n",
       "      <td>5</td>\n",
       "      <td>8</td>\n",
       "      <td>6</td>\n",
       "      <td>12</td>\n",
       "      <td>7</td>\n",
       "      <td>4</td>\n",
       "      <td>0</td>\n",
       "      <td>2</td>\n",
       "      <td>0</td>\n",
       "      <td>0</td>\n",
       "    </tr>\n",
       "    <tr>\n",
       "      <th>167</th>\n",
       "      <td>Man City</td>\n",
       "      <td>Arsenal</td>\n",
       "      <td>2</td>\n",
       "      <td>1</td>\n",
       "      <td>H</td>\n",
       "      <td>0</td>\n",
       "      <td>1</td>\n",
       "      <td>A</td>\n",
       "      <td>M Atkinson</td>\n",
       "      <td>14</td>\n",
       "      <td>...</td>\n",
       "      <td>5</td>\n",
       "      <td>1</td>\n",
       "      <td>9</td>\n",
       "      <td>13</td>\n",
       "      <td>8</td>\n",
       "      <td>1</td>\n",
       "      <td>4</td>\n",
       "      <td>2</td>\n",
       "      <td>0</td>\n",
       "      <td>0</td>\n",
       "    </tr>\n",
       "    <tr>\n",
       "      <th>168</th>\n",
       "      <td>Tottenham</td>\n",
       "      <td>Burnley</td>\n",
       "      <td>2</td>\n",
       "      <td>1</td>\n",
       "      <td>H</td>\n",
       "      <td>1</td>\n",
       "      <td>1</td>\n",
       "      <td>D</td>\n",
       "      <td>K Friend</td>\n",
       "      <td>30</td>\n",
       "      <td>...</td>\n",
       "      <td>9</td>\n",
       "      <td>2</td>\n",
       "      <td>10</td>\n",
       "      <td>11</td>\n",
       "      <td>11</td>\n",
       "      <td>2</td>\n",
       "      <td>1</td>\n",
       "      <td>2</td>\n",
       "      <td>0</td>\n",
       "      <td>0</td>\n",
       "    </tr>\n",
       "    <tr>\n",
       "      <th>169</th>\n",
       "      <td>Everton</td>\n",
       "      <td>Liverpool</td>\n",
       "      <td>0</td>\n",
       "      <td>1</td>\n",
       "      <td>A</td>\n",
       "      <td>0</td>\n",
       "      <td>0</td>\n",
       "      <td>D</td>\n",
       "      <td>M Dean</td>\n",
       "      <td>6</td>\n",
       "      <td>...</td>\n",
       "      <td>1</td>\n",
       "      <td>4</td>\n",
       "      <td>13</td>\n",
       "      <td>9</td>\n",
       "      <td>1</td>\n",
       "      <td>6</td>\n",
       "      <td>3</td>\n",
       "      <td>1</td>\n",
       "      <td>0</td>\n",
       "      <td>0</td>\n",
       "    </tr>\n",
       "  </tbody>\n",
       "</table>\n",
       "<p>5 rows × 21 columns</p>\n",
       "</div>"
      ],
      "text/plain": [
       "        HomeTeam     AwayTeam  FTHG  FTAG FTR  HTHG  HTAG HTR        Referee  \\\n",
       "165     West Ham         Hull     1     0   H     0     0   D        L Mason   \n",
       "166  Bournemouth  Southampton     1     3   A     1     1   D  M Clattenburg   \n",
       "167     Man City      Arsenal     2     1   H     0     1   A     M Atkinson   \n",
       "168    Tottenham      Burnley     2     1   H     1     1   D       K Friend   \n",
       "169      Everton    Liverpool     0     1   A     0     0   D         M Dean   \n",
       "\n",
       "     HS ...  HST  AST  HF  AF  HC  AC  HY  AY  HR  AR  \n",
       "165  18 ...    6    5  13   9  10   6   2   4   0   0  \n",
       "166  10 ...    5    8   6  12   7   4   0   2   0   0  \n",
       "167  14 ...    5    1   9  13   8   1   4   2   0   0  \n",
       "168  30 ...    9    2  10  11  11   2   1   2   0   0  \n",
       "169   6 ...    1    4  13   9   1   6   3   1   0   0  \n",
       "\n",
       "[5 rows x 21 columns]"
      ]
     },
     "execution_count": 260,
     "metadata": {},
     "output_type": "execute_result"
    }
   ],
   "source": [
    "res_13.tail()"
   ]
  },
  {
   "cell_type": "code",
   "execution_count": 261,
   "metadata": {
    "collapsed": false
   },
   "outputs": [],
   "source": [
    "#Team, Home Goals Score, Away Goals Score, Attack Strength, Home Goals Conceded, Away Goals Conceded, Defensive Strength\n",
    "table_13 = pd.DataFrame(columns=('Team','HGS','AGS','HAS','AAS','HGC','AGC','HDS','ADS',))"
   ]
  },
  {
   "cell_type": "code",
   "execution_count": 262,
   "metadata": {
    "collapsed": false
   },
   "outputs": [
    {
     "data": {
      "text/plain": [
       "170"
      ]
     },
     "execution_count": 262,
     "metadata": {},
     "output_type": "execute_result"
    }
   ],
   "source": [
    "res_13.shape[0]"
   ]
  },
  {
   "cell_type": "code",
   "execution_count": 263,
   "metadata": {
    "collapsed": false
   },
   "outputs": [
    {
     "name": "stdout",
     "output_type": "stream",
     "text": [
      "Average number of goals at home 1.61764705882\n",
      "Average number of goals away 1.19411764706\n",
      "Average number of goals conceded at home 1.61764705882\n",
      "Average number of goals conceded away 1.19411764706\n"
     ]
    }
   ],
   "source": [
    "avg_home_scored_13 = res_13.FTHG.sum()*1.0 / res_13.shape[0]\n",
    "avg_away_scored_13 = res_13.FTAG.sum()*1.0 / res_13.shape[0]\n",
    "avg_home_conceded_13 = avg_away_scored_13\n",
    "avg_away_conceded_13 = avg_home_scored_13\n",
    "print \"Average number of goals at home\",avg_home_scored_13\n",
    "print \"Average number of goals away\", avg_away_scored_13\n",
    "print \"Average number of goals conceded at home\",avg_away_conceded_13\n",
    "print \"Average number of goals conceded away\",avg_home_conceded_13\n"
   ]
  },
  {
   "cell_type": "code",
   "execution_count": 264,
   "metadata": {
    "collapsed": false
   },
   "outputs": [],
   "source": [
    "res_home = res_13.groupby('HomeTeam')\n",
    "res_away = res_13.groupby('AwayTeam')"
   ]
  },
  {
   "cell_type": "code",
   "execution_count": 265,
   "metadata": {
    "collapsed": false
   },
   "outputs": [],
   "source": [
    "# list(res_home)[0]"
   ]
  },
  {
   "cell_type": "code",
   "execution_count": 266,
   "metadata": {
    "collapsed": false
   },
   "outputs": [
    {
     "data": {
      "text/html": [
       "<div>\n",
       "<table border=\"1\" class=\"dataframe\">\n",
       "  <thead>\n",
       "    <tr style=\"text-align: right;\">\n",
       "      <th></th>\n",
       "      <th>Team</th>\n",
       "      <th>HGS</th>\n",
       "      <th>AGS</th>\n",
       "      <th>HAS</th>\n",
       "      <th>AAS</th>\n",
       "      <th>HGC</th>\n",
       "      <th>AGC</th>\n",
       "      <th>HDS</th>\n",
       "      <th>ADS</th>\n",
       "    </tr>\n",
       "  </thead>\n",
       "  <tbody>\n",
       "    <tr>\n",
       "      <th>0</th>\n",
       "      <td>Arsenal</td>\n",
       "      <td>18</td>\n",
       "      <td>20</td>\n",
       "      <td>NaN</td>\n",
       "      <td>NaN</td>\n",
       "      <td>10</td>\n",
       "      <td>9</td>\n",
       "      <td>NaN</td>\n",
       "      <td>NaN</td>\n",
       "    </tr>\n",
       "    <tr>\n",
       "      <th>1</th>\n",
       "      <td>Bournemouth</td>\n",
       "      <td>16</td>\n",
       "      <td>7</td>\n",
       "      <td>NaN</td>\n",
       "      <td>NaN</td>\n",
       "      <td>12</td>\n",
       "      <td>16</td>\n",
       "      <td>NaN</td>\n",
       "      <td>NaN</td>\n",
       "    </tr>\n",
       "    <tr>\n",
       "      <th>2</th>\n",
       "      <td>Burnley</td>\n",
       "      <td>14</td>\n",
       "      <td>2</td>\n",
       "      <td>NaN</td>\n",
       "      <td>NaN</td>\n",
       "      <td>10</td>\n",
       "      <td>18</td>\n",
       "      <td>NaN</td>\n",
       "      <td>NaN</td>\n",
       "    </tr>\n",
       "    <tr>\n",
       "      <th>3</th>\n",
       "      <td>Chelsea</td>\n",
       "      <td>21</td>\n",
       "      <td>14</td>\n",
       "      <td>NaN</td>\n",
       "      <td>NaN</td>\n",
       "      <td>4</td>\n",
       "      <td>7</td>\n",
       "      <td>NaN</td>\n",
       "      <td>NaN</td>\n",
       "    </tr>\n",
       "    <tr>\n",
       "      <th>4</th>\n",
       "      <td>Crystal Palace</td>\n",
       "      <td>12</td>\n",
       "      <td>16</td>\n",
       "      <td>NaN</td>\n",
       "      <td>NaN</td>\n",
       "      <td>13</td>\n",
       "      <td>19</td>\n",
       "      <td>NaN</td>\n",
       "      <td>NaN</td>\n",
       "    </tr>\n",
       "  </tbody>\n",
       "</table>\n",
       "</div>"
      ],
      "text/plain": [
       "             Team  HGS  AGS  HAS  AAS  HGC  AGC  HDS  ADS\n",
       "0         Arsenal   18   20  NaN  NaN   10    9  NaN  NaN\n",
       "1     Bournemouth   16    7  NaN  NaN   12   16  NaN  NaN\n",
       "2         Burnley   14    2  NaN  NaN   10   18  NaN  NaN\n",
       "3         Chelsea   21   14  NaN  NaN    4    7  NaN  NaN\n",
       "4  Crystal Palace   12   16  NaN  NaN   13   19  NaN  NaN"
      ]
     },
     "execution_count": 266,
     "metadata": {},
     "output_type": "execute_result"
    }
   ],
   "source": [
    "table_13.Team = res_home.HomeTeam.all().values\n",
    "table_13.HGS = res_home.FTHG.sum().values\n",
    "table_13.HGC = res_home.FTAG.sum().values\n",
    "table_13.AGS = res_away.FTAG.sum().values\n",
    "table_13.AGC = res_away.FTHG.sum().values\n",
    "table_13.head()"
   ]
  },
  {
   "cell_type": "code",
   "execution_count": 267,
   "metadata": {
    "collapsed": false
   },
   "outputs": [
    {
     "data": {
      "text/html": [
       "<div>\n",
       "<table border=\"1\" class=\"dataframe\">\n",
       "  <thead>\n",
       "    <tr style=\"text-align: right;\">\n",
       "      <th></th>\n",
       "      <th>Team</th>\n",
       "      <th>HGS</th>\n",
       "      <th>AGS</th>\n",
       "      <th>HAS</th>\n",
       "      <th>AAS</th>\n",
       "      <th>HGC</th>\n",
       "      <th>AGC</th>\n",
       "      <th>HDS</th>\n",
       "      <th>ADS</th>\n",
       "    </tr>\n",
       "  </thead>\n",
       "  <tbody>\n",
       "    <tr>\n",
       "      <th>0</th>\n",
       "      <td>Arsenal</td>\n",
       "      <td>18</td>\n",
       "      <td>20</td>\n",
       "      <td>1.236364</td>\n",
       "      <td>1.860974</td>\n",
       "      <td>10</td>\n",
       "      <td>9</td>\n",
       "      <td>0.930487</td>\n",
       "      <td>0.618182</td>\n",
       "    </tr>\n",
       "    <tr>\n",
       "      <th>1</th>\n",
       "      <td>Bournemouth</td>\n",
       "      <td>16</td>\n",
       "      <td>7</td>\n",
       "      <td>1.098990</td>\n",
       "      <td>0.651341</td>\n",
       "      <td>12</td>\n",
       "      <td>16</td>\n",
       "      <td>1.116585</td>\n",
       "      <td>1.098990</td>\n",
       "    </tr>\n",
       "    <tr>\n",
       "      <th>2</th>\n",
       "      <td>Burnley</td>\n",
       "      <td>14</td>\n",
       "      <td>2</td>\n",
       "      <td>0.961616</td>\n",
       "      <td>0.186097</td>\n",
       "      <td>10</td>\n",
       "      <td>18</td>\n",
       "      <td>0.930487</td>\n",
       "      <td>1.236364</td>\n",
       "    </tr>\n",
       "    <tr>\n",
       "      <th>3</th>\n",
       "      <td>Chelsea</td>\n",
       "      <td>21</td>\n",
       "      <td>14</td>\n",
       "      <td>1.442424</td>\n",
       "      <td>1.302682</td>\n",
       "      <td>4</td>\n",
       "      <td>7</td>\n",
       "      <td>0.372195</td>\n",
       "      <td>0.480808</td>\n",
       "    </tr>\n",
       "    <tr>\n",
       "      <th>4</th>\n",
       "      <td>Crystal Palace</td>\n",
       "      <td>12</td>\n",
       "      <td>16</td>\n",
       "      <td>0.824242</td>\n",
       "      <td>1.488779</td>\n",
       "      <td>13</td>\n",
       "      <td>19</td>\n",
       "      <td>1.209633</td>\n",
       "      <td>1.305051</td>\n",
       "    </tr>\n",
       "  </tbody>\n",
       "</table>\n",
       "</div>"
      ],
      "text/plain": [
       "             Team  HGS  AGS       HAS       AAS  HGC  AGC       HDS       ADS\n",
       "0         Arsenal   18   20  1.236364  1.860974   10    9  0.930487  0.618182\n",
       "1     Bournemouth   16    7  1.098990  0.651341   12   16  1.116585  1.098990\n",
       "2         Burnley   14    2  0.961616  0.186097   10   18  0.930487  1.236364\n",
       "3         Chelsea   21   14  1.442424  1.302682    4    7  0.372195  0.480808\n",
       "4  Crystal Palace   12   16  0.824242  1.488779   13   19  1.209633  1.305051"
      ]
     },
     "execution_count": 267,
     "metadata": {},
     "output_type": "execute_result"
    }
   ],
   "source": [
    "table_13.HAS = (table_13.HGS / 9.0) / avg_home_scored_13\n",
    "table_13.AAS = (table_13.AGS / 9.0) / avg_away_scored_13\n",
    "table_13.HDS = (table_13.HGC / 9.0) / avg_home_conceded_13\n",
    "table_13.ADS = (table_13.AGC / 9.0) / avg_away_conceded_13\n",
    "table_13.head()"
   ]
  },
  {
   "cell_type": "code",
   "execution_count": 268,
   "metadata": {
    "collapsed": false
   },
   "outputs": [],
   "source": [
    "feature_table = feature_table[['HomeTeam','AwayTeam','FTR','HST','AST']]\n",
    "f_HAS = []\n",
    "f_HDS = []\n",
    "f_AAS = []\n",
    "f_ADS = []\n",
    "for index,row in feature_table.iterrows():\n",
    "    f_HAS.append(table_13[table_13['Team'] == row['HomeTeam']]['HAS'].values[0])\n",
    "    f_HDS.append(table_13[table_13['Team'] == row['HomeTeam']]['HDS'].values[0])\n",
    "    f_AAS.append(table_13[table_13['Team'] == row['HomeTeam']]['AAS'].values[0])\n",
    "    f_ADS.append(table_13[table_13['Team'] == row['HomeTeam']]['ADS'].values[0])\n",
    "    \n",
    "feature_table['HAS'] = f_HAS\n",
    "feature_table['HDS'] = f_HDS\n",
    "feature_table['AAS'] = f_AAS\n",
    "feature_table['ADS'] = f_ADS"
   ]
  },
  {
   "cell_type": "code",
   "execution_count": 269,
   "metadata": {
    "collapsed": false
   },
   "outputs": [
    {
     "data": {
      "text/html": [
       "<div>\n",
       "<table border=\"1\" class=\"dataframe\">\n",
       "  <thead>\n",
       "    <tr style=\"text-align: right;\">\n",
       "      <th></th>\n",
       "      <th>HomeTeam</th>\n",
       "      <th>AwayTeam</th>\n",
       "      <th>FTR</th>\n",
       "      <th>HST</th>\n",
       "      <th>AST</th>\n",
       "      <th>HAS</th>\n",
       "      <th>HDS</th>\n",
       "      <th>AAS</th>\n",
       "      <th>ADS</th>\n",
       "    </tr>\n",
       "  </thead>\n",
       "  <tbody>\n",
       "    <tr>\n",
       "      <th>0</th>\n",
       "      <td>Burnley</td>\n",
       "      <td>Swansea</td>\n",
       "      <td>A</td>\n",
       "      <td>3</td>\n",
       "      <td>9</td>\n",
       "      <td>0.961616</td>\n",
       "      <td>0.930487</td>\n",
       "      <td>0.186097</td>\n",
       "      <td>1.236364</td>\n",
       "    </tr>\n",
       "    <tr>\n",
       "      <th>1</th>\n",
       "      <td>Crystal Palace</td>\n",
       "      <td>West Brom</td>\n",
       "      <td>A</td>\n",
       "      <td>4</td>\n",
       "      <td>3</td>\n",
       "      <td>0.824242</td>\n",
       "      <td>1.209633</td>\n",
       "      <td>1.488779</td>\n",
       "      <td>1.305051</td>\n",
       "    </tr>\n",
       "    <tr>\n",
       "      <th>2</th>\n",
       "      <td>Everton</td>\n",
       "      <td>Tottenham</td>\n",
       "      <td>D</td>\n",
       "      <td>6</td>\n",
       "      <td>4</td>\n",
       "      <td>0.824242</td>\n",
       "      <td>0.651341</td>\n",
       "      <td>0.837438</td>\n",
       "      <td>0.961616</td>\n",
       "    </tr>\n",
       "    <tr>\n",
       "      <th>3</th>\n",
       "      <td>Hull</td>\n",
       "      <td>Leicester</td>\n",
       "      <td>H</td>\n",
       "      <td>5</td>\n",
       "      <td>5</td>\n",
       "      <td>0.618182</td>\n",
       "      <td>1.395731</td>\n",
       "      <td>0.465244</td>\n",
       "      <td>1.442424</td>\n",
       "    </tr>\n",
       "    <tr>\n",
       "      <th>4</th>\n",
       "      <td>Man City</td>\n",
       "      <td>Sunderland</td>\n",
       "      <td>H</td>\n",
       "      <td>4</td>\n",
       "      <td>3</td>\n",
       "      <td>1.167677</td>\n",
       "      <td>0.837438</td>\n",
       "      <td>1.767926</td>\n",
       "      <td>0.755556</td>\n",
       "    </tr>\n",
       "  </tbody>\n",
       "</table>\n",
       "</div>"
      ],
      "text/plain": [
       "         HomeTeam    AwayTeam FTR  HST  AST       HAS       HDS       AAS  \\\n",
       "0         Burnley     Swansea   A    3    9  0.961616  0.930487  0.186097   \n",
       "1  Crystal Palace   West Brom   A    4    3  0.824242  1.209633  1.488779   \n",
       "2         Everton   Tottenham   D    6    4  0.824242  0.651341  0.837438   \n",
       "3            Hull   Leicester   H    5    5  0.618182  1.395731  0.465244   \n",
       "4        Man City  Sunderland   H    4    3  1.167677  0.837438  1.767926   \n",
       "\n",
       "        ADS  \n",
       "0  1.236364  \n",
       "1  1.305051  \n",
       "2  0.961616  \n",
       "3  1.442424  \n",
       "4  0.755556  "
      ]
     },
     "execution_count": 269,
     "metadata": {},
     "output_type": "execute_result"
    }
   ],
   "source": [
    "feature_table.head()"
   ]
  },
  {
   "cell_type": "code",
   "execution_count": 270,
   "metadata": {
    "collapsed": true
   },
   "outputs": [],
   "source": [
    "def transformResult(row):\n",
    "    if(row.FTR == 'H'):\n",
    "        return 1\n",
    "    elif(row.FTR == 'A'):\n",
    "        return -1\n",
    "    else:\n",
    "        return 0"
   ]
  },
  {
   "cell_type": "code",
   "execution_count": 271,
   "metadata": {
    "collapsed": false
   },
   "outputs": [],
   "source": [
    "feature_table[\"Result\"] = feature_table.apply(lambda row: transformResult(row),axis=1)"
   ]
  },
  {
   "cell_type": "code",
   "execution_count": 272,
   "metadata": {
    "collapsed": false
   },
   "outputs": [
    {
     "data": {
      "text/html": [
       "<div>\n",
       "<table border=\"1\" class=\"dataframe\">\n",
       "  <thead>\n",
       "    <tr style=\"text-align: right;\">\n",
       "      <th></th>\n",
       "      <th>HomeTeam</th>\n",
       "      <th>AwayTeam</th>\n",
       "      <th>FTR</th>\n",
       "      <th>HST</th>\n",
       "      <th>AST</th>\n",
       "      <th>HAS</th>\n",
       "      <th>HDS</th>\n",
       "      <th>AAS</th>\n",
       "      <th>ADS</th>\n",
       "      <th>Result</th>\n",
       "    </tr>\n",
       "  </thead>\n",
       "  <tbody>\n",
       "    <tr>\n",
       "      <th>160</th>\n",
       "      <td>Crystal Palace</td>\n",
       "      <td>Chelsea</td>\n",
       "      <td>A</td>\n",
       "      <td>2</td>\n",
       "      <td>6</td>\n",
       "      <td>0.824242</td>\n",
       "      <td>1.209633</td>\n",
       "      <td>1.488779</td>\n",
       "      <td>1.305051</td>\n",
       "      <td>-1</td>\n",
       "    </tr>\n",
       "    <tr>\n",
       "      <th>161</th>\n",
       "      <td>Middlesbrough</td>\n",
       "      <td>Swansea</td>\n",
       "      <td>H</td>\n",
       "      <td>4</td>\n",
       "      <td>2</td>\n",
       "      <td>0.618182</td>\n",
       "      <td>0.930487</td>\n",
       "      <td>0.651341</td>\n",
       "      <td>0.618182</td>\n",
       "      <td>1</td>\n",
       "    </tr>\n",
       "    <tr>\n",
       "      <th>162</th>\n",
       "      <td>Stoke</td>\n",
       "      <td>Leicester</td>\n",
       "      <td>D</td>\n",
       "      <td>7</td>\n",
       "      <td>8</td>\n",
       "      <td>0.755556</td>\n",
       "      <td>1.209633</td>\n",
       "      <td>0.744390</td>\n",
       "      <td>0.755556</td>\n",
       "      <td>0</td>\n",
       "    </tr>\n",
       "    <tr>\n",
       "      <th>163</th>\n",
       "      <td>Sunderland</td>\n",
       "      <td>Watford</td>\n",
       "      <td>H</td>\n",
       "      <td>4</td>\n",
       "      <td>4</td>\n",
       "      <td>0.755556</td>\n",
       "      <td>1.395731</td>\n",
       "      <td>0.372195</td>\n",
       "      <td>0.892929</td>\n",
       "      <td>1</td>\n",
       "    </tr>\n",
       "    <tr>\n",
       "      <th>164</th>\n",
       "      <td>West Brom</td>\n",
       "      <td>Man United</td>\n",
       "      <td>A</td>\n",
       "      <td>1</td>\n",
       "      <td>5</td>\n",
       "      <td>1.098990</td>\n",
       "      <td>1.209633</td>\n",
       "      <td>0.651341</td>\n",
       "      <td>0.549495</td>\n",
       "      <td>-1</td>\n",
       "    </tr>\n",
       "    <tr>\n",
       "      <th>165</th>\n",
       "      <td>West Ham</td>\n",
       "      <td>Hull</td>\n",
       "      <td>H</td>\n",
       "      <td>6</td>\n",
       "      <td>5</td>\n",
       "      <td>0.618182</td>\n",
       "      <td>1.302682</td>\n",
       "      <td>0.930487</td>\n",
       "      <td>1.167677</td>\n",
       "      <td>1</td>\n",
       "    </tr>\n",
       "    <tr>\n",
       "      <th>166</th>\n",
       "      <td>Bournemouth</td>\n",
       "      <td>Southampton</td>\n",
       "      <td>A</td>\n",
       "      <td>5</td>\n",
       "      <td>8</td>\n",
       "      <td>1.098990</td>\n",
       "      <td>1.116585</td>\n",
       "      <td>0.651341</td>\n",
       "      <td>1.098990</td>\n",
       "      <td>-1</td>\n",
       "    </tr>\n",
       "    <tr>\n",
       "      <th>167</th>\n",
       "      <td>Man City</td>\n",
       "      <td>Arsenal</td>\n",
       "      <td>H</td>\n",
       "      <td>5</td>\n",
       "      <td>1</td>\n",
       "      <td>1.167677</td>\n",
       "      <td>0.837438</td>\n",
       "      <td>1.767926</td>\n",
       "      <td>0.755556</td>\n",
       "      <td>1</td>\n",
       "    </tr>\n",
       "    <tr>\n",
       "      <th>168</th>\n",
       "      <td>Tottenham</td>\n",
       "      <td>Burnley</td>\n",
       "      <td>H</td>\n",
       "      <td>9</td>\n",
       "      <td>2</td>\n",
       "      <td>1.305051</td>\n",
       "      <td>0.465244</td>\n",
       "      <td>0.930487</td>\n",
       "      <td>0.480808</td>\n",
       "      <td>1</td>\n",
       "    </tr>\n",
       "    <tr>\n",
       "      <th>169</th>\n",
       "      <td>Everton</td>\n",
       "      <td>Liverpool</td>\n",
       "      <td>A</td>\n",
       "      <td>1</td>\n",
       "      <td>4</td>\n",
       "      <td>0.824242</td>\n",
       "      <td>0.651341</td>\n",
       "      <td>0.837438</td>\n",
       "      <td>0.961616</td>\n",
       "      <td>-1</td>\n",
       "    </tr>\n",
       "  </tbody>\n",
       "</table>\n",
       "</div>"
      ],
      "text/plain": [
       "           HomeTeam     AwayTeam FTR  HST  AST       HAS       HDS       AAS  \\\n",
       "160  Crystal Palace      Chelsea   A    2    6  0.824242  1.209633  1.488779   \n",
       "161   Middlesbrough      Swansea   H    4    2  0.618182  0.930487  0.651341   \n",
       "162           Stoke    Leicester   D    7    8  0.755556  1.209633  0.744390   \n",
       "163      Sunderland      Watford   H    4    4  0.755556  1.395731  0.372195   \n",
       "164       West Brom   Man United   A    1    5  1.098990  1.209633  0.651341   \n",
       "165        West Ham         Hull   H    6    5  0.618182  1.302682  0.930487   \n",
       "166     Bournemouth  Southampton   A    5    8  1.098990  1.116585  0.651341   \n",
       "167        Man City      Arsenal   H    5    1  1.167677  0.837438  1.767926   \n",
       "168       Tottenham      Burnley   H    9    2  1.305051  0.465244  0.930487   \n",
       "169         Everton    Liverpool   A    1    4  0.824242  0.651341  0.837438   \n",
       "\n",
       "          ADS  Result  \n",
       "160  1.305051      -1  \n",
       "161  0.618182       1  \n",
       "162  0.755556       0  \n",
       "163  0.892929       1  \n",
       "164  0.549495      -1  \n",
       "165  1.167677       1  \n",
       "166  1.098990      -1  \n",
       "167  0.755556       1  \n",
       "168  0.480808       1  \n",
       "169  0.961616      -1  "
      ]
     },
     "execution_count": 272,
     "metadata": {},
     "output_type": "execute_result"
    }
   ],
   "source": [
    "feature_table.tail(10)"
   ]
  },
  {
   "cell_type": "code",
   "execution_count": 273,
   "metadata": {
    "collapsed": true
   },
   "outputs": [],
   "source": [
    "X_train = feature_table[['HST','AST','HAS','HDS','AAS','ADS',]]\n",
    "y_train = feature_table['Result']"
   ]
  },
  {
   "cell_type": "code",
   "execution_count": 274,
   "metadata": {
    "collapsed": false
   },
   "outputs": [],
   "source": [
    "from sklearn.tree import DecisionTreeClassifier\n",
    "from sklearn.naive_bayes import MultinomialNB\n",
    "from xgboost import XGBClassifier\n",
    "from sklearn.metrics import accuracy_score\n",
    "from sklearn.model_selection import cross_val_score\n",
    "from sklearn.linear_model import LogisticRegression\n",
    "from sklearn.ensemble import RandomForestClassifier\n",
    "from sklearn.neighbors import KNeighborsClassifier"
   ]
  },
  {
   "cell_type": "code",
   "execution_count": 275,
   "metadata": {
    "collapsed": false
   },
   "outputs": [
    {
     "data": {
      "text/plain": [
       "XGBClassifier(base_score=0.5, colsample_bytree=1, gamma=0, learning_rate=0.1,\n",
       "       max_delta_step=0, max_depth=3, min_child_weight=1, missing=None,\n",
       "       n_estimators=100, nthread=-1, objective='multi:softprob', seed=0,\n",
       "       silent=True, subsample=1)"
      ]
     },
     "execution_count": 275,
     "metadata": {},
     "output_type": "execute_result"
    }
   ],
   "source": [
    "clf = DecisionTreeClassifier()\n",
    "clf2 = MultinomialNB()\n",
    "clf3 = XGBClassifier()\n",
    "\n",
    "clf3.fit(X_train,y_train)"
   ]
  },
  {
   "cell_type": "code",
   "execution_count": 276,
   "metadata": {
    "collapsed": false
   },
   "outputs": [],
   "source": [
    "y_pred = clf3.predict(X_train)\n",
    "accuracy_score(y_pred,y_train)\n",
    "scores = cross_val_score(clf2, X_train, y_train, cv=10)\n"
   ]
  },
  {
   "cell_type": "code",
   "execution_count": 277,
   "metadata": {
    "collapsed": false
   },
   "outputs": [
    {
     "name": "stdout",
     "output_type": "stream",
     "text": [
      "[ 0.61111111  0.64705882  0.64705882  0.64705882  0.52941176  0.52941176\n",
      "  0.70588235  0.52941176  0.64705882  0.75      ]\n",
      "0.624346405229\n"
     ]
    }
   ],
   "source": [
    "print scores\n",
    "print scores.mean()"
   ]
  },
  {
   "cell_type": "markdown",
   "metadata": {},
   "source": [
    "## Adding Recent Performance"
   ]
  },
  {
   "cell_type": "code",
   "execution_count": 278,
   "metadata": {
    "collapsed": false
   },
   "outputs": [],
   "source": [
    "ht = res_13.loc[40].HomeTeam\n",
    "at = res_13.loc[40].AwayTeam"
   ]
  },
  {
   "cell_type": "code",
   "execution_count": 279,
   "metadata": {
    "collapsed": false
   },
   "outputs": [],
   "source": [
    "feat_table = res_13.sort_index(ascending=False)\n",
    "feat_table = feat_table[['HomeTeam','AwayTeam','FTR','FTHG','FTAG','HS','AS','HC','AC']]\n"
   ]
  },
  {
   "cell_type": "code",
   "execution_count": 280,
   "metadata": {
    "collapsed": false
   },
   "outputs": [],
   "source": [
    "new_fixtures = pd.DataFrame( [['Watford','Crystal Palace','D',0,0,0,0,0,0],\n",
    "                             ['Arsenal','West Brom','D',0,0,0,0,0,0],\n",
    "                             ['Burnley','Middlesbrough','D',0,0,0,0,0,0],\n",
    "                             ['Chelsea','Bournemouth','D',0,0,0,0,0,0],\n",
    "                             ['Leicester','Everton','D',0,0,0,0,0,0],\n",
    "                             ['Man United','Sunderland','D',0,0,0,0,0,0],\n",
    "                             ['Swansea','West Ham','D',0,0,0,0,0,0],\n",
    "                             ['Hull','Man City','D',0,0,0,0,0,0],\n",
    "                             ['Liverpool','Stoke City','D',0,0,0,0,0,0],\n",
    "                             ['Southampton','Tottenham','D',0,0,0,0,0,0]],columns=feat_table.columns)"
   ]
  },
  {
   "cell_type": "code",
   "execution_count": 281,
   "metadata": {
    "collapsed": false
   },
   "outputs": [
    {
     "data": {
      "text/html": [
       "<div>\n",
       "<table border=\"1\" class=\"dataframe\">\n",
       "  <thead>\n",
       "    <tr style=\"text-align: right;\">\n",
       "      <th></th>\n",
       "      <th>HomeTeam</th>\n",
       "      <th>AwayTeam</th>\n",
       "      <th>FTR</th>\n",
       "      <th>FTHG</th>\n",
       "      <th>FTAG</th>\n",
       "      <th>HS</th>\n",
       "      <th>AS</th>\n",
       "      <th>HC</th>\n",
       "      <th>AC</th>\n",
       "    </tr>\n",
       "  </thead>\n",
       "  <tbody>\n",
       "    <tr>\n",
       "      <th>169</th>\n",
       "      <td>Everton</td>\n",
       "      <td>Liverpool</td>\n",
       "      <td>A</td>\n",
       "      <td>0</td>\n",
       "      <td>1</td>\n",
       "      <td>6</td>\n",
       "      <td>11</td>\n",
       "      <td>1</td>\n",
       "      <td>6</td>\n",
       "    </tr>\n",
       "    <tr>\n",
       "      <th>168</th>\n",
       "      <td>Tottenham</td>\n",
       "      <td>Burnley</td>\n",
       "      <td>H</td>\n",
       "      <td>2</td>\n",
       "      <td>1</td>\n",
       "      <td>30</td>\n",
       "      <td>5</td>\n",
       "      <td>11</td>\n",
       "      <td>2</td>\n",
       "    </tr>\n",
       "    <tr>\n",
       "      <th>167</th>\n",
       "      <td>Man City</td>\n",
       "      <td>Arsenal</td>\n",
       "      <td>H</td>\n",
       "      <td>2</td>\n",
       "      <td>1</td>\n",
       "      <td>14</td>\n",
       "      <td>6</td>\n",
       "      <td>8</td>\n",
       "      <td>1</td>\n",
       "    </tr>\n",
       "    <tr>\n",
       "      <th>166</th>\n",
       "      <td>Bournemouth</td>\n",
       "      <td>Southampton</td>\n",
       "      <td>A</td>\n",
       "      <td>1</td>\n",
       "      <td>3</td>\n",
       "      <td>10</td>\n",
       "      <td>14</td>\n",
       "      <td>7</td>\n",
       "      <td>4</td>\n",
       "    </tr>\n",
       "    <tr>\n",
       "      <th>165</th>\n",
       "      <td>West Ham</td>\n",
       "      <td>Hull</td>\n",
       "      <td>H</td>\n",
       "      <td>1</td>\n",
       "      <td>0</td>\n",
       "      <td>18</td>\n",
       "      <td>16</td>\n",
       "      <td>10</td>\n",
       "      <td>6</td>\n",
       "    </tr>\n",
       "  </tbody>\n",
       "</table>\n",
       "</div>"
      ],
      "text/plain": [
       "        HomeTeam     AwayTeam FTR  FTHG  FTAG  HS  AS  HC  AC\n",
       "169      Everton    Liverpool   A     0     1   6  11   1   6\n",
       "168    Tottenham      Burnley   H     2     1  30   5  11   2\n",
       "167     Man City      Arsenal   H     2     1  14   6   8   1\n",
       "166  Bournemouth  Southampton   A     1     3  10  14   7   4\n",
       "165     West Ham         Hull   H     1     0  18  16  10   6"
      ]
     },
     "execution_count": 281,
     "metadata": {},
     "output_type": "execute_result"
    }
   ],
   "source": [
    "n = new_fixtures.append(feat_table,ignore_index=True)\n",
    "n = n.sort_index(ascending=False)\n",
    "n = n.reset_index().drop(['index'], axis=1)\n",
    "n = n.sort_index(ascending=False)\n",
    "feat_table.head()"
   ]
  },
  {
   "cell_type": "code",
   "execution_count": 282,
   "metadata": {
    "collapsed": true
   },
   "outputs": [],
   "source": [
    "feat_table[\"pastHS\"] = 0.0\n",
    "feat_table[\"pastHC\"] = 0.0\n",
    "feat_table[\"pastAS\"] = 0.0\n",
    "feat_table[\"pastAC\"] = 0.0\n",
    "feat_table[\"pastHG\"] = 0.0\n",
    "feat_table[\"pastAG\"] = 0.0\n",
    "\n"
   ]
  },
  {
   "cell_type": "code",
   "execution_count": 283,
   "metadata": {
    "collapsed": false
   },
   "outputs": [
    {
     "data": {
      "text/html": [
       "<div>\n",
       "<table border=\"1\" class=\"dataframe\">\n",
       "  <thead>\n",
       "    <tr style=\"text-align: right;\">\n",
       "      <th></th>\n",
       "      <th>HomeTeam</th>\n",
       "      <th>AwayTeam</th>\n",
       "      <th>FTR</th>\n",
       "      <th>FTHG</th>\n",
       "      <th>FTAG</th>\n",
       "      <th>HS</th>\n",
       "      <th>AS</th>\n",
       "      <th>HC</th>\n",
       "      <th>AC</th>\n",
       "      <th>pastHS</th>\n",
       "      <th>pastHC</th>\n",
       "      <th>pastAS</th>\n",
       "      <th>pastAC</th>\n",
       "      <th>pastHG</th>\n",
       "      <th>pastAG</th>\n",
       "    </tr>\n",
       "  </thead>\n",
       "  <tbody>\n",
       "    <tr>\n",
       "      <th>169</th>\n",
       "      <td>Everton</td>\n",
       "      <td>Liverpool</td>\n",
       "      <td>A</td>\n",
       "      <td>0</td>\n",
       "      <td>1</td>\n",
       "      <td>6</td>\n",
       "      <td>11</td>\n",
       "      <td>1</td>\n",
       "      <td>6</td>\n",
       "      <td>0.0</td>\n",
       "      <td>0.0</td>\n",
       "      <td>0.0</td>\n",
       "      <td>0.0</td>\n",
       "      <td>0.0</td>\n",
       "      <td>0.0</td>\n",
       "    </tr>\n",
       "    <tr>\n",
       "      <th>168</th>\n",
       "      <td>Tottenham</td>\n",
       "      <td>Burnley</td>\n",
       "      <td>H</td>\n",
       "      <td>2</td>\n",
       "      <td>1</td>\n",
       "      <td>30</td>\n",
       "      <td>5</td>\n",
       "      <td>11</td>\n",
       "      <td>2</td>\n",
       "      <td>0.0</td>\n",
       "      <td>0.0</td>\n",
       "      <td>0.0</td>\n",
       "      <td>0.0</td>\n",
       "      <td>0.0</td>\n",
       "      <td>0.0</td>\n",
       "    </tr>\n",
       "    <tr>\n",
       "      <th>167</th>\n",
       "      <td>Man City</td>\n",
       "      <td>Arsenal</td>\n",
       "      <td>H</td>\n",
       "      <td>2</td>\n",
       "      <td>1</td>\n",
       "      <td>14</td>\n",
       "      <td>6</td>\n",
       "      <td>8</td>\n",
       "      <td>1</td>\n",
       "      <td>0.0</td>\n",
       "      <td>0.0</td>\n",
       "      <td>0.0</td>\n",
       "      <td>0.0</td>\n",
       "      <td>0.0</td>\n",
       "      <td>0.0</td>\n",
       "    </tr>\n",
       "    <tr>\n",
       "      <th>166</th>\n",
       "      <td>Bournemouth</td>\n",
       "      <td>Southampton</td>\n",
       "      <td>A</td>\n",
       "      <td>1</td>\n",
       "      <td>3</td>\n",
       "      <td>10</td>\n",
       "      <td>14</td>\n",
       "      <td>7</td>\n",
       "      <td>4</td>\n",
       "      <td>0.0</td>\n",
       "      <td>0.0</td>\n",
       "      <td>0.0</td>\n",
       "      <td>0.0</td>\n",
       "      <td>0.0</td>\n",
       "      <td>0.0</td>\n",
       "    </tr>\n",
       "    <tr>\n",
       "      <th>165</th>\n",
       "      <td>West Ham</td>\n",
       "      <td>Hull</td>\n",
       "      <td>H</td>\n",
       "      <td>1</td>\n",
       "      <td>0</td>\n",
       "      <td>18</td>\n",
       "      <td>16</td>\n",
       "      <td>10</td>\n",
       "      <td>6</td>\n",
       "      <td>0.0</td>\n",
       "      <td>0.0</td>\n",
       "      <td>0.0</td>\n",
       "      <td>0.0</td>\n",
       "      <td>0.0</td>\n",
       "      <td>0.0</td>\n",
       "    </tr>\n",
       "  </tbody>\n",
       "</table>\n",
       "</div>"
      ],
      "text/plain": [
       "        HomeTeam     AwayTeam FTR  FTHG  FTAG  HS  AS  HC  AC  pastHS  pastHC  \\\n",
       "169      Everton    Liverpool   A     0     1   6  11   1   6     0.0     0.0   \n",
       "168    Tottenham      Burnley   H     2     1  30   5  11   2     0.0     0.0   \n",
       "167     Man City      Arsenal   H     2     1  14   6   8   1     0.0     0.0   \n",
       "166  Bournemouth  Southampton   A     1     3  10  14   7   4     0.0     0.0   \n",
       "165     West Ham         Hull   H     1     0  18  16  10   6     0.0     0.0   \n",
       "\n",
       "     pastAS  pastAC  pastHG  pastAG  \n",
       "169     0.0     0.0     0.0     0.0  \n",
       "168     0.0     0.0     0.0     0.0  \n",
       "167     0.0     0.0     0.0     0.0  \n",
       "166     0.0     0.0     0.0     0.0  \n",
       "165     0.0     0.0     0.0     0.0  "
      ]
     },
     "execution_count": 283,
     "metadata": {},
     "output_type": "execute_result"
    }
   ],
   "source": [
    "feat_table.head()"
   ]
  },
  {
   "cell_type": "code",
   "execution_count": 309,
   "metadata": {
    "collapsed": false,
    "scrolled": true
   },
   "outputs": [
    {
     "name": "stderr",
     "output_type": "stream",
     "text": [
      "/home/sibi/acad/prog_tools/anaconda2/lib/python2.7/site-packages/ipykernel/__main__.py:6: UserWarning: Boolean Series key will be reindexed to match DataFrame index.\n",
      "/home/sibi/acad/prog_tools/anaconda2/lib/python2.7/site-packages/ipykernel/__main__.py:7: UserWarning: Boolean Series key will be reindexed to match DataFrame index.\n"
     ]
    }
   ],
   "source": [
    "k = 5\n",
    "for i in range(feat_table.shape[0]-1,-1,-1):\n",
    "    row = feat_table.loc[i]\n",
    "    ht = row.HomeTeam\n",
    "    at = row.AwayTeam\n",
    "    ht_stats = feat_table.loc[i-1:-1][(feat_table.HomeTeam == ht) | (feat_table.AwayTeam == ht)].head(k)\n",
    "    at_stats = feat_table.loc[i-1:-1][(feat_table.HomeTeam == at) | (feat_table.AwayTeam == at)].head(k)\n",
    "\n",
    "    feat_table.set_value(i, 'pastHC', (ht_stats[ht_stats[\"AwayTeam\"] == ht].sum().HC + ht_stats[ht_stats[\"HomeTeam\"] == ht].sum().HC)/k)\n",
    "    feat_table.set_value(i, 'pastAC', (at_stats[at_stats[\"AwayTeam\"] == at].sum().HC + at_stats[at_stats[\"HomeTeam\"] == at].sum().HC)/k)\n",
    "    feat_table.set_value(i, 'pastHS', (ht_stats[ht_stats[\"AwayTeam\"] == ht].sum().HS + ht_stats[ht_stats[\"HomeTeam\"] == ht].sum().AS)/k)\n",
    "    feat_table.set_value(i, 'pastAS', (at_stats[at_stats[\"AwayTeam\"] == at].sum().HS + at_stats[at_stats[\"HomeTeam\"] == at].sum().AS)/k)\n",
    "    feat_table.set_value(i, 'pastHG', (ht_stats[ht_stats[\"AwayTeam\"] == ht].sum().FTAG + ht_stats[ht_stats[\"HomeTeam\"] == ht].sum().FTHG)/k)\n",
    "    feat_table.set_value(i, 'pastAG', (at_stats[at_stats[\"AwayTeam\"] == at].sum().FTAG + at_stats[at_stats[\"HomeTeam\"] == at].sum().FTHG)/k)\n",
    "\n",
    "f_HAS = []\n",
    "f_HDS = []\n",
    "f_AAS = []\n",
    "f_ADS = []\n",
    "for index,row in feat_table.iterrows():\n",
    "    f_HAS.append(table_13[table_13['Team'] == row['HomeTeam']]['HAS'].values[0])\n",
    "    f_HDS.append(table_13[table_13['Team'] == row['HomeTeam']]['HDS'].values[0])\n",
    "    f_AAS.append(table_13[table_13['Team'] == row['HomeTeam']]['AAS'].values[0])\n",
    "    f_ADS.append(table_13[table_13['Team'] == row['HomeTeam']]['ADS'].values[0])\n",
    "    \n",
    "feat_table['HAS'] = f_HAS\n",
    "feat_table['HDS'] = f_HDS\n",
    "feat_table['AAS'] = f_AAS\n",
    "feat_table['ADS'] = f_ADS"
   ]
  },
  {
   "cell_type": "code",
   "execution_count": 310,
   "metadata": {
    "collapsed": false
   },
   "outputs": [],
   "source": [
    "test_table = feat_table.drop(['FTHG','FTAG','HS','AS','HC','AC'],axis=1)"
   ]
  },
  {
   "cell_type": "code",
   "execution_count": 311,
   "metadata": {
    "collapsed": false
   },
   "outputs": [],
   "source": [
    "test_table[\"Result\"] = test_table.apply(lambda row: transformResult(row),axis=1)\n",
    "test_table.sort_index(inplace=True)"
   ]
  },
  {
   "cell_type": "code",
   "execution_count": 312,
   "metadata": {
    "collapsed": false
   },
   "outputs": [
    {
     "data": {
      "text/plain": [
       "159"
      ]
     },
     "execution_count": 312,
     "metadata": {},
     "output_type": "execute_result"
    }
   ],
   "source": [
    "num_games = feat_table.shape[0]-1-10\n",
    "num_games"
   ]
  },
  {
   "cell_type": "code",
   "execution_count": 313,
   "metadata": {
    "collapsed": false
   },
   "outputs": [],
   "source": [
    "X_train = test_table[['pastHS','pastHC','pastAS','pastAC','pastHG','pastAG','HAS','HDS','AAS','ADS']].loc[0:num_games]\n",
    "y_train = test_table['Result'].loc[0:num_games]\n",
    "X_test = test_table[['pastHS','pastHC','pastAS','pastAC','pastHG','pastAG','HAS','HDS','AAS','ADS']].loc[num_games:]\n",
    "y_test = test_table['Result'].loc[num_games:]"
   ]
  },
  {
   "cell_type": "code",
   "execution_count": 314,
   "metadata": {
    "collapsed": false
   },
   "outputs": [
    {
     "data": {
      "text/html": [
       "<div>\n",
       "<table border=\"1\" class=\"dataframe\">\n",
       "  <thead>\n",
       "    <tr style=\"text-align: right;\">\n",
       "      <th></th>\n",
       "      <th>pastHS</th>\n",
       "      <th>pastHC</th>\n",
       "      <th>pastAS</th>\n",
       "      <th>pastAC</th>\n",
       "      <th>pastHG</th>\n",
       "      <th>pastAG</th>\n",
       "      <th>HAS</th>\n",
       "      <th>HDS</th>\n",
       "      <th>AAS</th>\n",
       "      <th>ADS</th>\n",
       "    </tr>\n",
       "  </thead>\n",
       "  <tbody>\n",
       "    <tr>\n",
       "      <th>159</th>\n",
       "      <td>16.0</td>\n",
       "      <td>6.4</td>\n",
       "      <td>16.0</td>\n",
       "      <td>4.2</td>\n",
       "      <td>1.4</td>\n",
       "      <td>1.4</td>\n",
       "      <td>0.618182</td>\n",
       "      <td>1.302682</td>\n",
       "      <td>0.930487</td>\n",
       "      <td>1.167677</td>\n",
       "    </tr>\n",
       "    <tr>\n",
       "      <th>160</th>\n",
       "      <td>15.2</td>\n",
       "      <td>4.2</td>\n",
       "      <td>10.4</td>\n",
       "      <td>4.4</td>\n",
       "      <td>2.4</td>\n",
       "      <td>1.6</td>\n",
       "      <td>0.824242</td>\n",
       "      <td>1.209633</td>\n",
       "      <td>1.488779</td>\n",
       "      <td>1.305051</td>\n",
       "    </tr>\n",
       "    <tr>\n",
       "      <th>161</th>\n",
       "      <td>11.8</td>\n",
       "      <td>5.2</td>\n",
       "      <td>15.6</td>\n",
       "      <td>6.4</td>\n",
       "      <td>0.6</td>\n",
       "      <td>2.0</td>\n",
       "      <td>0.618182</td>\n",
       "      <td>0.930487</td>\n",
       "      <td>0.651341</td>\n",
       "      <td>0.618182</td>\n",
       "    </tr>\n",
       "    <tr>\n",
       "      <th>162</th>\n",
       "      <td>14.0</td>\n",
       "      <td>4.0</td>\n",
       "      <td>13.2</td>\n",
       "      <td>3.2</td>\n",
       "      <td>0.8</td>\n",
       "      <td>1.6</td>\n",
       "      <td>0.755556</td>\n",
       "      <td>1.209633</td>\n",
       "      <td>0.744390</td>\n",
       "      <td>0.755556</td>\n",
       "    </tr>\n",
       "    <tr>\n",
       "      <th>163</th>\n",
       "      <td>18.8</td>\n",
       "      <td>5.2</td>\n",
       "      <td>11.8</td>\n",
       "      <td>3.4</td>\n",
       "      <td>1.0</td>\n",
       "      <td>1.2</td>\n",
       "      <td>0.755556</td>\n",
       "      <td>1.395731</td>\n",
       "      <td>0.372195</td>\n",
       "      <td>0.892929</td>\n",
       "    </tr>\n",
       "    <tr>\n",
       "      <th>164</th>\n",
       "      <td>10.4</td>\n",
       "      <td>2.4</td>\n",
       "      <td>8.4</td>\n",
       "      <td>5.6</td>\n",
       "      <td>2.2</td>\n",
       "      <td>1.2</td>\n",
       "      <td>1.098990</td>\n",
       "      <td>1.209633</td>\n",
       "      <td>0.651341</td>\n",
       "      <td>0.549495</td>\n",
       "    </tr>\n",
       "    <tr>\n",
       "      <th>165</th>\n",
       "      <td>15.2</td>\n",
       "      <td>6.4</td>\n",
       "      <td>15.8</td>\n",
       "      <td>5.2</td>\n",
       "      <td>1.4</td>\n",
       "      <td>0.8</td>\n",
       "      <td>0.618182</td>\n",
       "      <td>1.302682</td>\n",
       "      <td>0.930487</td>\n",
       "      <td>1.167677</td>\n",
       "    </tr>\n",
       "    <tr>\n",
       "      <th>166</th>\n",
       "      <td>13.6</td>\n",
       "      <td>3.6</td>\n",
       "      <td>9.6</td>\n",
       "      <td>3.4</td>\n",
       "      <td>1.8</td>\n",
       "      <td>0.4</td>\n",
       "      <td>1.098990</td>\n",
       "      <td>1.116585</td>\n",
       "      <td>0.651341</td>\n",
       "      <td>1.098990</td>\n",
       "    </tr>\n",
       "    <tr>\n",
       "      <th>167</th>\n",
       "      <td>8.8</td>\n",
       "      <td>4.8</td>\n",
       "      <td>11.4</td>\n",
       "      <td>6.2</td>\n",
       "      <td>1.8</td>\n",
       "      <td>2.6</td>\n",
       "      <td>1.167677</td>\n",
       "      <td>0.837438</td>\n",
       "      <td>1.767926</td>\n",
       "      <td>0.755556</td>\n",
       "    </tr>\n",
       "    <tr>\n",
       "      <th>168</th>\n",
       "      <td>9.2</td>\n",
       "      <td>4.0</td>\n",
       "      <td>16.8</td>\n",
       "      <td>4.6</td>\n",
       "      <td>2.4</td>\n",
       "      <td>0.8</td>\n",
       "      <td>1.305051</td>\n",
       "      <td>0.465244</td>\n",
       "      <td>0.930487</td>\n",
       "      <td>0.480808</td>\n",
       "    </tr>\n",
       "    <tr>\n",
       "      <th>169</th>\n",
       "      <td>10.4</td>\n",
       "      <td>6.2</td>\n",
       "      <td>7.2</td>\n",
       "      <td>6.0</td>\n",
       "      <td>1.2</td>\n",
       "      <td>2.0</td>\n",
       "      <td>0.824242</td>\n",
       "      <td>0.651341</td>\n",
       "      <td>0.837438</td>\n",
       "      <td>0.961616</td>\n",
       "    </tr>\n",
       "  </tbody>\n",
       "</table>\n",
       "</div>"
      ],
      "text/plain": [
       "     pastHS  pastHC  pastAS  pastAC  pastHG  pastAG       HAS       HDS  \\\n",
       "159    16.0     6.4    16.0     4.2     1.4     1.4  0.618182  1.302682   \n",
       "160    15.2     4.2    10.4     4.4     2.4     1.6  0.824242  1.209633   \n",
       "161    11.8     5.2    15.6     6.4     0.6     2.0  0.618182  0.930487   \n",
       "162    14.0     4.0    13.2     3.2     0.8     1.6  0.755556  1.209633   \n",
       "163    18.8     5.2    11.8     3.4     1.0     1.2  0.755556  1.395731   \n",
       "164    10.4     2.4     8.4     5.6     2.2     1.2  1.098990  1.209633   \n",
       "165    15.2     6.4    15.8     5.2     1.4     0.8  0.618182  1.302682   \n",
       "166    13.6     3.6     9.6     3.4     1.8     0.4  1.098990  1.116585   \n",
       "167     8.8     4.8    11.4     6.2     1.8     2.6  1.167677  0.837438   \n",
       "168     9.2     4.0    16.8     4.6     2.4     0.8  1.305051  0.465244   \n",
       "169    10.4     6.2     7.2     6.0     1.2     2.0  0.824242  0.651341   \n",
       "\n",
       "          AAS       ADS  \n",
       "159  0.930487  1.167677  \n",
       "160  1.488779  1.305051  \n",
       "161  0.651341  0.618182  \n",
       "162  0.744390  0.755556  \n",
       "163  0.372195  0.892929  \n",
       "164  0.651341  0.549495  \n",
       "165  0.930487  1.167677  \n",
       "166  0.651341  1.098990  \n",
       "167  1.767926  0.755556  \n",
       "168  0.930487  0.480808  \n",
       "169  0.837438  0.961616  "
      ]
     },
     "execution_count": 314,
     "metadata": {},
     "output_type": "execute_result"
    }
   ],
   "source": [
    "X_test"
   ]
  },
  {
   "cell_type": "code",
   "execution_count": 315,
   "metadata": {
    "collapsed": false
   },
   "outputs": [
    {
     "data": {
      "text/plain": [
       "LogisticRegression(C=1.0, class_weight=None, dual=False, fit_intercept=True,\n",
       "          intercept_scaling=1, max_iter=100, multi_class='multinomial',\n",
       "          n_jobs=1, penalty='l2', random_state=None, solver='lbfgs',\n",
       "          tol=0.0001, verbose=0, warm_start=False)"
      ]
     },
     "execution_count": 315,
     "metadata": {},
     "output_type": "execute_result"
    }
   ],
   "source": [
    "clf1 = DecisionTreeClassifier()\n",
    "clf2 = MultinomialNB(alpha=3)\n",
    "clf3 = XGBClassifier(n_estimators=3)\n",
    "clf4 = RandomForestClassifier()\n",
    "clf5 = KNeighborsClassifier(n_neighbors=5)\n",
    "clf6 = LogisticRegression(solver='lbfgs',multi_class='multinomial')\n",
    "clf1.fit(X_train,y_train)\n",
    "clf2.fit(X_train,y_train)\n",
    "clf3.fit(X_train,y_train)\n",
    "clf4.fit(X_train,y_train)\n",
    "clf5.fit(X_train,y_train)\n",
    "clf6.fit(X_train,y_train)"
   ]
  },
  {
   "cell_type": "code",
   "execution_count": 316,
   "metadata": {
    "collapsed": false
   },
   "outputs": [],
   "source": [
    "for b in xrange(1,50):\n",
    "    clf5 = KNeighborsClassifier(n_neighbors=b)\n",
    "    clf5.fit(X_train,y_train)\n",
    "    scores = accuracy_score(y_test,clf5.predict(X_test))\n",
    "    scores, scores.mean()\n",
    "    #Best n =16 to 22"
   ]
  },
  {
   "cell_type": "markdown",
   "metadata": {
    "collapsed": true
   },
   "source": [
    "# Adding home advantage"
   ]
  },
  {
   "cell_type": "code",
   "execution_count": 317,
   "metadata": {
    "collapsed": false
   },
   "outputs": [],
   "source": [
    "test_table[\"pastCornerDiff\"] = test_table[\"pastHC\"] - test_table[\"pastAC\"]\n",
    "test_table[\"pastGoalDiff\"] = test_table[\"pastHG\"] - test_table[\"pastAG\"]\n",
    "test_table[\"pastShotsDiff\"] = test_table[\"pastHS\"] - test_table[\"pastAG\"]"
   ]
  },
  {
   "cell_type": "code",
   "execution_count": 319,
   "metadata": {
    "collapsed": false
   },
   "outputs": [],
   "source": [
    "test_table.drop(['pastHC','pastAS','pastAC','pastHG','pastAG'],axis=1)\n",
    "X_train = test_table[['pastCornerDiff','pastGoalDiff','pastShotsDiff','HAS','HDS','AAS','ADS']].loc[0:num_games]\n",
    "y_train = test_table['Result'].loc[0:num_games]\n",
    "X_test = test_table[['pastCornerDiff','pastGoalDiff','pastShotsDiff','HAS','HDS','AAS','ADS']].loc[num_games:]\n",
    "y_test = test_table['Result'].loc[num_games:]\n",
    "\n"
   ]
  },
  {
   "cell_type": "code",
   "execution_count": 320,
   "metadata": {
    "collapsed": false
   },
   "outputs": [
    {
     "data": {
      "text/plain": [
       "LogisticRegression(C=1.0, class_weight=None, dual=False, fit_intercept=True,\n",
       "          intercept_scaling=1, max_iter=100, multi_class='multinomial',\n",
       "          n_jobs=1, penalty='l2', random_state=None, solver='lbfgs',\n",
       "          tol=0.0001, verbose=0, warm_start=False)"
      ]
     },
     "execution_count": 320,
     "metadata": {},
     "output_type": "execute_result"
    }
   ],
   "source": [
    "clf1.fit(X_train,y_train)\n",
    "#clf2.fit(X_train,y_train)\n",
    "clf3.fit(X_train,y_train)\n",
    "clf4.fit(X_train,y_train)\n",
    "clf5.fit(X_train,y_train)\n",
    "clf6.fit(X_train,y_train)"
   ]
  },
  {
   "cell_type": "code",
   "execution_count": 321,
   "metadata": {
    "collapsed": false
   },
   "outputs": [
    {
     "data": {
      "text/plain": [
       "0.5714285714285714"
      ]
     },
     "execution_count": 321,
     "metadata": {},
     "output_type": "execute_result"
    }
   ],
   "source": [
    "accuracy_score(y_test,clf6.predict(X_test))"
   ]
  },
  {
   "cell_type": "code",
   "execution_count": 322,
   "metadata": {
    "collapsed": true
   },
   "outputs": [],
   "source": [
    " from sklearn import preprocessing"
   ]
  },
  {
   "cell_type": "code",
   "execution_count": 323,
   "metadata": {
    "collapsed": false
   },
   "outputs": [],
   "source": [
    "X_normalized = preprocessing.normalize(X_train, norm='l2')\n",
    "X_test_norm = preprocessing.normalize(X_test, norm='l2')"
   ]
  },
  {
   "cell_type": "code",
   "execution_count": 324,
   "metadata": {
    "collapsed": false
   },
   "outputs": [
    {
     "data": {
      "text/plain": [
       "LogisticRegression(C=1.0, class_weight=None, dual=False, fit_intercept=True,\n",
       "          intercept_scaling=1, max_iter=100, multi_class='multinomial',\n",
       "          n_jobs=1, penalty='l2', random_state=None, solver='lbfgs',\n",
       "          tol=0.0001, verbose=0, warm_start=False)"
      ]
     },
     "execution_count": 324,
     "metadata": {},
     "output_type": "execute_result"
    }
   ],
   "source": [
    "clf1.fit(X_normalized,y_train)\n",
    "#clf2.fit(X_normalized,y_train)\n",
    "clf3.fit(X_normalized,y_train)\n",
    "clf4.fit(X_normalized,y_train)\n",
    "clf5.fit(X_normalized,y_train)\n",
    "clf6.fit(X_normalized,y_train)"
   ]
  },
  {
   "cell_type": "code",
   "execution_count": 325,
   "metadata": {
    "collapsed": false
   },
   "outputs": [
    {
     "data": {
      "text/plain": [
       "0.61904761904761907"
      ]
     },
     "execution_count": 325,
     "metadata": {},
     "output_type": "execute_result"
    }
   ],
   "source": [
    "accuracy_score(y_test,clf5.predict(X_test_norm))"
   ]
  },
  {
   "cell_type": "code",
   "execution_count": 326,
   "metadata": {
    "collapsed": true
   },
   "outputs": [],
   "source": [
    "X_test = test_table[['pastCornerDiff','pastGoalDiff','pastShotsDiff','HAS','HDS','AAS','ADS']].loc[num_games+11:]\n",
    "X_test_norm = preprocessing.normalize(X_test, norm='l2')"
   ]
  },
  {
   "cell_type": "code",
   "execution_count": null,
   "metadata": {
    "collapsed": true
   },
   "outputs": [],
   "source": []
  },
  {
   "cell_type": "code",
   "execution_count": 341,
   "metadata": {
    "collapsed": false
   },
   "outputs": [
    {
     "data": {
      "text/plain": [
       "(10,)"
      ]
     },
     "execution_count": 341,
     "metadata": {},
     "output_type": "execute_result"
    }
   ],
   "source": [
    "y_pred = clf5.predict(X_test_norm)\n",
    "y_pred.shape"
   ]
  },
  {
   "cell_type": "code",
   "execution_count": 342,
   "metadata": {
    "collapsed": false
   },
   "outputs": [
    {
     "data": {
      "text/plain": [
       "(170, 17)"
      ]
     },
     "execution_count": 342,
     "metadata": {},
     "output_type": "execute_result"
    }
   ],
   "source": [
    "test_table.shape"
   ]
  },
  {
   "cell_type": "code",
   "execution_count": 343,
   "metadata": {
    "collapsed": false
   },
   "outputs": [],
   "source": [
    "this_week = test_table[['HomeTeam','AwayTeam']].loc[num_games+11:]\n",
    "this_week['Result']=y_pred\n"
   ]
  },
  {
   "cell_type": "code",
   "execution_count": 337,
   "metadata": {
    "collapsed": false
   },
   "outputs": [
    {
     "data": {
      "text/html": [
       "<div>\n",
       "<table border=\"1\" class=\"dataframe\">\n",
       "  <thead>\n",
       "    <tr style=\"text-align: right;\">\n",
       "      <th></th>\n",
       "      <th>HomeTeam</th>\n",
       "      <th>AwayTeam</th>\n",
       "      <th>Result</th>\n",
       "    </tr>\n",
       "  </thead>\n",
       "  <tbody>\n",
       "    <tr>\n",
       "      <th>160</th>\n",
       "      <td>Crystal Palace</td>\n",
       "      <td>Chelsea</td>\n",
       "      <td>1</td>\n",
       "    </tr>\n",
       "    <tr>\n",
       "      <th>161</th>\n",
       "      <td>Middlesbrough</td>\n",
       "      <td>Swansea</td>\n",
       "      <td>-1</td>\n",
       "    </tr>\n",
       "    <tr>\n",
       "      <th>162</th>\n",
       "      <td>Stoke</td>\n",
       "      <td>Leicester</td>\n",
       "      <td>-1</td>\n",
       "    </tr>\n",
       "    <tr>\n",
       "      <th>163</th>\n",
       "      <td>Sunderland</td>\n",
       "      <td>Watford</td>\n",
       "      <td>1</td>\n",
       "    </tr>\n",
       "    <tr>\n",
       "      <th>164</th>\n",
       "      <td>West Brom</td>\n",
       "      <td>Man United</td>\n",
       "      <td>1</td>\n",
       "    </tr>\n",
       "    <tr>\n",
       "      <th>165</th>\n",
       "      <td>West Ham</td>\n",
       "      <td>Hull</td>\n",
       "      <td>1</td>\n",
       "    </tr>\n",
       "    <tr>\n",
       "      <th>166</th>\n",
       "      <td>Bournemouth</td>\n",
       "      <td>Southampton</td>\n",
       "      <td>-1</td>\n",
       "    </tr>\n",
       "    <tr>\n",
       "      <th>167</th>\n",
       "      <td>Man City</td>\n",
       "      <td>Arsenal</td>\n",
       "      <td>-1</td>\n",
       "    </tr>\n",
       "    <tr>\n",
       "      <th>168</th>\n",
       "      <td>Tottenham</td>\n",
       "      <td>Burnley</td>\n",
       "      <td>1</td>\n",
       "    </tr>\n",
       "    <tr>\n",
       "      <th>169</th>\n",
       "      <td>Everton</td>\n",
       "      <td>Liverpool</td>\n",
       "      <td>-1</td>\n",
       "    </tr>\n",
       "  </tbody>\n",
       "</table>\n",
       "</div>"
      ],
      "text/plain": [
       "           HomeTeam     AwayTeam  Result\n",
       "160  Crystal Palace      Chelsea       1\n",
       "161   Middlesbrough      Swansea      -1\n",
       "162           Stoke    Leicester      -1\n",
       "163      Sunderland      Watford       1\n",
       "164       West Brom   Man United       1\n",
       "165        West Ham         Hull       1\n",
       "166     Bournemouth  Southampton      -1\n",
       "167        Man City      Arsenal      -1\n",
       "168       Tottenham      Burnley       1\n",
       "169         Everton    Liverpool      -1"
      ]
     },
     "execution_count": 337,
     "metadata": {},
     "output_type": "execute_result"
    }
   ],
   "source": [
    "this_week"
   ]
  },
  {
   "cell_type": "code",
   "execution_count": 331,
   "metadata": {
    "collapsed": true
   },
   "outputs": [],
   "source": [
    "def transformResultBack(row):\n",
    "    if(row.Result == 1):\n",
    "        return 'H'\n",
    "    elif(row.Result == -1):\n",
    "        return 'A'\n",
    "    else:\n",
    "        return 'D'"
   ]
  },
  {
   "cell_type": "code",
   "execution_count": 332,
   "metadata": {
    "collapsed": false
   },
   "outputs": [],
   "source": [
    "this_week[\"Res\"] = this_week.apply(lambda row: transformResultBack(row),axis=1)"
   ]
  },
  {
   "cell_type": "code",
   "execution_count": 333,
   "metadata": {
    "collapsed": false
   },
   "outputs": [
    {
     "data": {
      "text/html": [
       "<div>\n",
       "<table border=\"1\" class=\"dataframe\">\n",
       "  <thead>\n",
       "    <tr style=\"text-align: right;\">\n",
       "      <th></th>\n",
       "      <th>HomeTeam</th>\n",
       "      <th>AwayTeam</th>\n",
       "      <th>Result</th>\n",
       "      <th>Res</th>\n",
       "    </tr>\n",
       "  </thead>\n",
       "  <tbody>\n",
       "    <tr>\n",
       "      <th>160</th>\n",
       "      <td>Crystal Palace</td>\n",
       "      <td>Chelsea</td>\n",
       "      <td>1</td>\n",
       "      <td>H</td>\n",
       "    </tr>\n",
       "    <tr>\n",
       "      <th>161</th>\n",
       "      <td>Middlesbrough</td>\n",
       "      <td>Swansea</td>\n",
       "      <td>-1</td>\n",
       "      <td>A</td>\n",
       "    </tr>\n",
       "    <tr>\n",
       "      <th>162</th>\n",
       "      <td>Stoke</td>\n",
       "      <td>Leicester</td>\n",
       "      <td>-1</td>\n",
       "      <td>A</td>\n",
       "    </tr>\n",
       "    <tr>\n",
       "      <th>163</th>\n",
       "      <td>Sunderland</td>\n",
       "      <td>Watford</td>\n",
       "      <td>-1</td>\n",
       "      <td>A</td>\n",
       "    </tr>\n",
       "    <tr>\n",
       "      <th>164</th>\n",
       "      <td>West Brom</td>\n",
       "      <td>Man United</td>\n",
       "      <td>1</td>\n",
       "      <td>H</td>\n",
       "    </tr>\n",
       "    <tr>\n",
       "      <th>165</th>\n",
       "      <td>West Ham</td>\n",
       "      <td>Hull</td>\n",
       "      <td>1</td>\n",
       "      <td>H</td>\n",
       "    </tr>\n",
       "    <tr>\n",
       "      <th>166</th>\n",
       "      <td>Bournemouth</td>\n",
       "      <td>Southampton</td>\n",
       "      <td>1</td>\n",
       "      <td>H</td>\n",
       "    </tr>\n",
       "    <tr>\n",
       "      <th>167</th>\n",
       "      <td>Man City</td>\n",
       "      <td>Arsenal</td>\n",
       "      <td>-1</td>\n",
       "      <td>A</td>\n",
       "    </tr>\n",
       "    <tr>\n",
       "      <th>168</th>\n",
       "      <td>Tottenham</td>\n",
       "      <td>Burnley</td>\n",
       "      <td>1</td>\n",
       "      <td>H</td>\n",
       "    </tr>\n",
       "    <tr>\n",
       "      <th>169</th>\n",
       "      <td>Everton</td>\n",
       "      <td>Liverpool</td>\n",
       "      <td>0</td>\n",
       "      <td>D</td>\n",
       "    </tr>\n",
       "  </tbody>\n",
       "</table>\n",
       "</div>"
      ],
      "text/plain": [
       "           HomeTeam     AwayTeam  Result Res\n",
       "160  Crystal Palace      Chelsea       1   H\n",
       "161   Middlesbrough      Swansea      -1   A\n",
       "162           Stoke    Leicester      -1   A\n",
       "163      Sunderland      Watford      -1   A\n",
       "164       West Brom   Man United       1   H\n",
       "165        West Ham         Hull       1   H\n",
       "166     Bournemouth  Southampton       1   H\n",
       "167        Man City      Arsenal      -1   A\n",
       "168       Tottenham      Burnley       1   H\n",
       "169         Everton    Liverpool       0   D"
      ]
     },
     "execution_count": 333,
     "metadata": {},
     "output_type": "execute_result"
    }
   ],
   "source": [
    "this_week"
   ]
  },
  {
   "cell_type": "code",
   "execution_count": null,
   "metadata": {
    "collapsed": true
   },
   "outputs": [],
   "source": []
  }
 ],
 "metadata": {
  "kernelspec": {
   "display_name": "Python [Root]",
   "language": "python",
   "name": "Python [Root]"
  },
  "language_info": {
   "codemirror_mode": {
    "name": "ipython",
    "version": 2
   },
   "file_extension": ".py",
   "mimetype": "text/x-python",
   "name": "python",
   "nbconvert_exporter": "python",
   "pygments_lexer": "ipython2",
   "version": "2.7.12"
  }
 },
 "nbformat": 4,
 "nbformat_minor": 0
}
