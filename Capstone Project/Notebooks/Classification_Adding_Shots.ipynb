{
 "cells": [
  {
   "cell_type": "code",
   "execution_count": 9,
   "metadata": {
    "collapsed": true
   },
   "outputs": [],
   "source": [
    "import pandas as pd\n",
    "import numpy as np\n",
    "import scipy.stats as scipy\n",
    "from __future__ import division"
   ]
  },
  {
   "cell_type": "code",
   "execution_count": 10,
   "metadata": {
    "collapsed": false
   },
   "outputs": [],
   "source": [
    "df = pd.read_csv(\"./Data/England/E0_13.csv\")\n",
    "df_14 = pd.read_csv(\"./Data/England/E0_14.csv\")"
   ]
  },
  {
   "cell_type": "code",
   "execution_count": 11,
   "metadata": {
    "collapsed": false
   },
   "outputs": [
    {
     "data": {
      "text/plain": [
       "Index([u'Div', u'Date', u'HomeTeam', u'AwayTeam', u'FTHG', u'FTAG', u'FTR',\n",
       "       u'HTHG', u'HTAG', u'HTR', u'Referee', u'HS', u'AS', u'HST', u'AST',\n",
       "       u'HF', u'AF', u'HC', u'AC', u'HY', u'AY', u'HR', u'AR', u'B365H',\n",
       "       u'B365D', u'B365A', u'BWH', u'BWD', u'BWA', u'IWH', u'IWD', u'IWA',\n",
       "       u'LBH', u'LBD', u'LBA', u'PSH', u'PSD', u'PSA', u'WHH', u'WHD', u'WHA',\n",
       "       u'SJH', u'SJD', u'SJA', u'VCH', u'VCD', u'VCA', u'Bb1X2', u'BbMxH',\n",
       "       u'BbAvH', u'BbMxD', u'BbAvD', u'BbMxA', u'BbAvA', u'BbOU', u'BbMx>2.5',\n",
       "       u'BbAv>2.5', u'BbMx<2.5', u'BbAv<2.5', u'BbAH', u'BbAHh', u'BbMxAHH',\n",
       "       u'BbAvAHH', u'BbMxAHA', u'BbAvAHA', u'PSCH', u'PSCD', u'PSCA'],\n",
       "      dtype='object')"
      ]
     },
     "execution_count": 11,
     "metadata": {},
     "output_type": "execute_result"
    }
   ],
   "source": [
    "df.columns"
   ]
  },
  {
   "cell_type": "code",
   "execution_count": 12,
   "metadata": {
    "collapsed": false
   },
   "outputs": [],
   "source": [
    "res_13 = df.ix[:,:23]\n",
    "res_13 = res_13.drop(['Div','Date','Referee'],axis=1)\n",
    "res_14 = df_14.ix[:,:23]\n",
    "res_14 = res_14.drop(['Div','Date','Referee'],axis=1)\n",
    "table_features = df.ix[:,:7]\n",
    "table_features = table_features.drop(['FTHG','FTAG','Div','Date'],axis=1)\n",
    "bet_13 = df.ix[:,23:]\n"
   ]
  },
  {
   "cell_type": "code",
   "execution_count": 6,
   "metadata": {
    "collapsed": false,
    "scrolled": true
   },
   "outputs": [],
   "source": [
    "res_13.head()\n",
    "feature_table = df.ix[:,:23]"
   ]
  },
  {
   "cell_type": "code",
   "execution_count": 7,
   "metadata": {
    "collapsed": false
   },
   "outputs": [],
   "source": [
    "#Team, Home Goals Score, Away Goals Score, Attack Strength, Home Goals Conceded, Away Goals Conceded, Defensive Strength\n",
    "table_13 = pd.DataFrame(columns=('Team','HGS','AGS','HAS','AAS','HGC','AGC','HDS','ADS',))"
   ]
  },
  {
   "cell_type": "code",
   "execution_count": 8,
   "metadata": {
    "collapsed": false
   },
   "outputs": [
    {
     "name": "stdout",
     "output_type": "stream",
     "text": [
      "Average number of goals at home 1.57368421053\n",
      "Average number of goals away 1.19473684211\n",
      "Average number of goals conceded at home 1.57368421053\n",
      "Average number of goals conceded away 1.19473684211\n"
     ]
    }
   ],
   "source": [
    "avg_home_scored_13 = res_13.FTHG.sum() / 380.0\n",
    "avg_away_scored_13 = res_13.FTAG.sum() / 380.0\n",
    "avg_home_conceded_13 = avg_away_scored_13\n",
    "avg_away_conceded_13 = avg_home_scored_13\n",
    "print \"Average number of goals at home\",avg_home_scored_13\n",
    "print \"Average number of goals away\", avg_away_scored_13\n",
    "print \"Average number of goals conceded at home\",avg_away_conceded_13\n",
    "print \"Average number of goals conceded away\",avg_home_conceded_13\n"
   ]
  },
  {
   "cell_type": "code",
   "execution_count": 9,
   "metadata": {
    "collapsed": false
   },
   "outputs": [],
   "source": [
    "res_home = res_13.groupby('HomeTeam')\n",
    "res_away = res_13.groupby('AwayTeam')"
   ]
  },
  {
   "cell_type": "code",
   "execution_count": 10,
   "metadata": {
    "collapsed": false
   },
   "outputs": [],
   "source": [
    "# list(res_home)[0]"
   ]
  },
  {
   "cell_type": "code",
   "execution_count": 11,
   "metadata": {
    "collapsed": false
   },
   "outputs": [
    {
     "data": {
      "text/html": [
       "<div>\n",
       "<table border=\"1\" class=\"dataframe\">\n",
       "  <thead>\n",
       "    <tr style=\"text-align: right;\">\n",
       "      <th></th>\n",
       "      <th>Team</th>\n",
       "      <th>HGS</th>\n",
       "      <th>AGS</th>\n",
       "      <th>HAS</th>\n",
       "      <th>AAS</th>\n",
       "      <th>HGC</th>\n",
       "      <th>AGC</th>\n",
       "      <th>HDS</th>\n",
       "      <th>ADS</th>\n",
       "    </tr>\n",
       "  </thead>\n",
       "  <tbody>\n",
       "    <tr>\n",
       "      <th>0</th>\n",
       "      <td>Arsenal</td>\n",
       "      <td>36</td>\n",
       "      <td>32</td>\n",
       "      <td>NaN</td>\n",
       "      <td>NaN</td>\n",
       "      <td>11</td>\n",
       "      <td>30</td>\n",
       "      <td>NaN</td>\n",
       "      <td>NaN</td>\n",
       "    </tr>\n",
       "    <tr>\n",
       "      <th>1</th>\n",
       "      <td>Aston Villa</td>\n",
       "      <td>22</td>\n",
       "      <td>17</td>\n",
       "      <td>NaN</td>\n",
       "      <td>NaN</td>\n",
       "      <td>29</td>\n",
       "      <td>32</td>\n",
       "      <td>NaN</td>\n",
       "      <td>NaN</td>\n",
       "    </tr>\n",
       "    <tr>\n",
       "      <th>2</th>\n",
       "      <td>Cardiff</td>\n",
       "      <td>20</td>\n",
       "      <td>12</td>\n",
       "      <td>NaN</td>\n",
       "      <td>NaN</td>\n",
       "      <td>35</td>\n",
       "      <td>39</td>\n",
       "      <td>NaN</td>\n",
       "      <td>NaN</td>\n",
       "    </tr>\n",
       "    <tr>\n",
       "      <th>3</th>\n",
       "      <td>Chelsea</td>\n",
       "      <td>43</td>\n",
       "      <td>28</td>\n",
       "      <td>NaN</td>\n",
       "      <td>NaN</td>\n",
       "      <td>11</td>\n",
       "      <td>16</td>\n",
       "      <td>NaN</td>\n",
       "      <td>NaN</td>\n",
       "    </tr>\n",
       "    <tr>\n",
       "      <th>4</th>\n",
       "      <td>Crystal Palace</td>\n",
       "      <td>18</td>\n",
       "      <td>15</td>\n",
       "      <td>NaN</td>\n",
       "      <td>NaN</td>\n",
       "      <td>23</td>\n",
       "      <td>25</td>\n",
       "      <td>NaN</td>\n",
       "      <td>NaN</td>\n",
       "    </tr>\n",
       "  </tbody>\n",
       "</table>\n",
       "</div>"
      ],
      "text/plain": [
       "             Team  HGS  AGS  HAS  AAS  HGC  AGC  HDS  ADS\n",
       "0         Arsenal   36   32  NaN  NaN   11   30  NaN  NaN\n",
       "1     Aston Villa   22   17  NaN  NaN   29   32  NaN  NaN\n",
       "2         Cardiff   20   12  NaN  NaN   35   39  NaN  NaN\n",
       "3         Chelsea   43   28  NaN  NaN   11   16  NaN  NaN\n",
       "4  Crystal Palace   18   15  NaN  NaN   23   25  NaN  NaN"
      ]
     },
     "execution_count": 11,
     "metadata": {},
     "output_type": "execute_result"
    }
   ],
   "source": [
    "table_13.Team = res_home.HomeTeam.all().values\n",
    "table_13.HGS = res_home.FTHG.sum().values\n",
    "table_13.HGC = res_home.FTAG.sum().values\n",
    "table_13.AGS = res_away.FTAG.sum().values\n",
    "table_13.AGC = res_away.FTHG.sum().values\n",
    "table_13.head()"
   ]
  },
  {
   "cell_type": "code",
   "execution_count": 12,
   "metadata": {
    "collapsed": false
   },
   "outputs": [
    {
     "data": {
      "text/html": [
       "<div>\n",
       "<table border=\"1\" class=\"dataframe\">\n",
       "  <thead>\n",
       "    <tr style=\"text-align: right;\">\n",
       "      <th></th>\n",
       "      <th>Team</th>\n",
       "      <th>HGS</th>\n",
       "      <th>AGS</th>\n",
       "      <th>HAS</th>\n",
       "      <th>AAS</th>\n",
       "      <th>HGC</th>\n",
       "      <th>AGC</th>\n",
       "      <th>HDS</th>\n",
       "      <th>ADS</th>\n",
       "    </tr>\n",
       "  </thead>\n",
       "  <tbody>\n",
       "    <tr>\n",
       "      <th>0</th>\n",
       "      <td>Arsenal</td>\n",
       "      <td>36</td>\n",
       "      <td>32</td>\n",
       "      <td>1.204013</td>\n",
       "      <td>1.409692</td>\n",
       "      <td>11</td>\n",
       "      <td>30</td>\n",
       "      <td>0.484581</td>\n",
       "      <td>1.003344</td>\n",
       "    </tr>\n",
       "    <tr>\n",
       "      <th>1</th>\n",
       "      <td>Aston Villa</td>\n",
       "      <td>22</td>\n",
       "      <td>17</td>\n",
       "      <td>0.735786</td>\n",
       "      <td>0.748899</td>\n",
       "      <td>29</td>\n",
       "      <td>32</td>\n",
       "      <td>1.277533</td>\n",
       "      <td>1.070234</td>\n",
       "    </tr>\n",
       "    <tr>\n",
       "      <th>2</th>\n",
       "      <td>Cardiff</td>\n",
       "      <td>20</td>\n",
       "      <td>12</td>\n",
       "      <td>0.668896</td>\n",
       "      <td>0.528634</td>\n",
       "      <td>35</td>\n",
       "      <td>39</td>\n",
       "      <td>1.541850</td>\n",
       "      <td>1.304348</td>\n",
       "    </tr>\n",
       "    <tr>\n",
       "      <th>3</th>\n",
       "      <td>Chelsea</td>\n",
       "      <td>43</td>\n",
       "      <td>28</td>\n",
       "      <td>1.438127</td>\n",
       "      <td>1.233480</td>\n",
       "      <td>11</td>\n",
       "      <td>16</td>\n",
       "      <td>0.484581</td>\n",
       "      <td>0.535117</td>\n",
       "    </tr>\n",
       "    <tr>\n",
       "      <th>4</th>\n",
       "      <td>Crystal Palace</td>\n",
       "      <td>18</td>\n",
       "      <td>15</td>\n",
       "      <td>0.602007</td>\n",
       "      <td>0.660793</td>\n",
       "      <td>23</td>\n",
       "      <td>25</td>\n",
       "      <td>1.013216</td>\n",
       "      <td>0.836120</td>\n",
       "    </tr>\n",
       "  </tbody>\n",
       "</table>\n",
       "</div>"
      ],
      "text/plain": [
       "             Team  HGS  AGS       HAS       AAS  HGC  AGC       HDS       ADS\n",
       "0         Arsenal   36   32  1.204013  1.409692   11   30  0.484581  1.003344\n",
       "1     Aston Villa   22   17  0.735786  0.748899   29   32  1.277533  1.070234\n",
       "2         Cardiff   20   12  0.668896  0.528634   35   39  1.541850  1.304348\n",
       "3         Chelsea   43   28  1.438127  1.233480   11   16  0.484581  0.535117\n",
       "4  Crystal Palace   18   15  0.602007  0.660793   23   25  1.013216  0.836120"
      ]
     },
     "execution_count": 12,
     "metadata": {},
     "output_type": "execute_result"
    }
   ],
   "source": [
    "table_13.HAS = (table_13.HGS / 19.0) / avg_home_scored_13\n",
    "table_13.AAS = (table_13.AGS / 19.0) / avg_away_scored_13\n",
    "table_13.HDS = (table_13.HGC / 19.0) / avg_home_conceded_13\n",
    "table_13.ADS = (table_13.AGC / 19.0) / avg_away_conceded_13\n",
    "table_13.head()"
   ]
  },
  {
   "cell_type": "code",
   "execution_count": 13,
   "metadata": {
    "collapsed": false
   },
   "outputs": [],
   "source": [
    "feature_table = feature_table[['HomeTeam','AwayTeam','FTR','HST','AST']]\n",
    "f_HAS = []\n",
    "f_HDS = []\n",
    "f_AAS = []\n",
    "f_ADS = []\n",
    "for index,row in feature_table.iterrows():\n",
    "    f_HAS.append(table_13[table_13['Team'] == row['HomeTeam']]['HAS'].values[0])\n",
    "    f_HDS.append(table_13[table_13['Team'] == row['HomeTeam']]['HDS'].values[0])\n",
    "    f_AAS.append(table_13[table_13['Team'] == row['HomeTeam']]['AAS'].values[0])\n",
    "    f_ADS.append(table_13[table_13['Team'] == row['HomeTeam']]['ADS'].values[0])\n",
    "    \n",
    "feature_table['HAS'] = f_HAS\n",
    "feature_table['HDS'] = f_HDS\n",
    "feature_table['AAS'] = f_AAS\n",
    "feature_table['ADS'] = f_ADS"
   ]
  },
  {
   "cell_type": "code",
   "execution_count": 14,
   "metadata": {
    "collapsed": false
   },
   "outputs": [
    {
     "data": {
      "text/html": [
       "<div>\n",
       "<table border=\"1\" class=\"dataframe\">\n",
       "  <thead>\n",
       "    <tr style=\"text-align: right;\">\n",
       "      <th></th>\n",
       "      <th>HomeTeam</th>\n",
       "      <th>AwayTeam</th>\n",
       "      <th>FTR</th>\n",
       "      <th>HST</th>\n",
       "      <th>AST</th>\n",
       "      <th>HAS</th>\n",
       "      <th>HDS</th>\n",
       "      <th>AAS</th>\n",
       "      <th>ADS</th>\n",
       "    </tr>\n",
       "  </thead>\n",
       "  <tbody>\n",
       "    <tr>\n",
       "      <th>0</th>\n",
       "      <td>Arsenal</td>\n",
       "      <td>Aston Villa</td>\n",
       "      <td>A</td>\n",
       "      <td>4</td>\n",
       "      <td>4</td>\n",
       "      <td>1.204013</td>\n",
       "      <td>0.484581</td>\n",
       "      <td>1.409692</td>\n",
       "      <td>1.003344</td>\n",
       "    </tr>\n",
       "    <tr>\n",
       "      <th>1</th>\n",
       "      <td>Liverpool</td>\n",
       "      <td>Stoke</td>\n",
       "      <td>H</td>\n",
       "      <td>11</td>\n",
       "      <td>4</td>\n",
       "      <td>1.772575</td>\n",
       "      <td>0.792952</td>\n",
       "      <td>2.114537</td>\n",
       "      <td>1.070234</td>\n",
       "    </tr>\n",
       "    <tr>\n",
       "      <th>2</th>\n",
       "      <td>Norwich</td>\n",
       "      <td>Everton</td>\n",
       "      <td>D</td>\n",
       "      <td>2</td>\n",
       "      <td>6</td>\n",
       "      <td>0.568562</td>\n",
       "      <td>0.792952</td>\n",
       "      <td>0.484581</td>\n",
       "      <td>1.471572</td>\n",
       "    </tr>\n",
       "    <tr>\n",
       "      <th>3</th>\n",
       "      <td>Sunderland</td>\n",
       "      <td>Fulham</td>\n",
       "      <td>A</td>\n",
       "      <td>3</td>\n",
       "      <td>1</td>\n",
       "      <td>0.702341</td>\n",
       "      <td>1.189427</td>\n",
       "      <td>0.881057</td>\n",
       "      <td>1.103679</td>\n",
       "    </tr>\n",
       "    <tr>\n",
       "      <th>4</th>\n",
       "      <td>Swansea</td>\n",
       "      <td>Man United</td>\n",
       "      <td>A</td>\n",
       "      <td>6</td>\n",
       "      <td>7</td>\n",
       "      <td>1.103679</td>\n",
       "      <td>1.145374</td>\n",
       "      <td>0.925110</td>\n",
       "      <td>0.936455</td>\n",
       "    </tr>\n",
       "  </tbody>\n",
       "</table>\n",
       "</div>"
      ],
      "text/plain": [
       "     HomeTeam     AwayTeam FTR  HST  AST       HAS       HDS       AAS  \\\n",
       "0     Arsenal  Aston Villa   A    4    4  1.204013  0.484581  1.409692   \n",
       "1   Liverpool        Stoke   H   11    4  1.772575  0.792952  2.114537   \n",
       "2     Norwich      Everton   D    2    6  0.568562  0.792952  0.484581   \n",
       "3  Sunderland       Fulham   A    3    1  0.702341  1.189427  0.881057   \n",
       "4     Swansea   Man United   A    6    7  1.103679  1.145374  0.925110   \n",
       "\n",
       "        ADS  \n",
       "0  1.003344  \n",
       "1  1.070234  \n",
       "2  1.471572  \n",
       "3  1.103679  \n",
       "4  0.936455  "
      ]
     },
     "execution_count": 14,
     "metadata": {},
     "output_type": "execute_result"
    }
   ],
   "source": [
    "feature_table.head()"
   ]
  },
  {
   "cell_type": "code",
   "execution_count": 15,
   "metadata": {
    "collapsed": true
   },
   "outputs": [],
   "source": [
    "def transformResult(row):\n",
    "    if(row.FTR == 'H'):\n",
    "        return 1\n",
    "    elif(row.FTR == 'A'):\n",
    "        return -1\n",
    "    else:\n",
    "        return 0"
   ]
  },
  {
   "cell_type": "code",
   "execution_count": 16,
   "metadata": {
    "collapsed": false
   },
   "outputs": [],
   "source": [
    "feature_table[\"Result\"] = feature_table.apply(lambda row: transformResult(row),axis=1)"
   ]
  },
  {
   "cell_type": "code",
   "execution_count": 17,
   "metadata": {
    "collapsed": false
   },
   "outputs": [
    {
     "data": {
      "text/html": [
       "<div>\n",
       "<table border=\"1\" class=\"dataframe\">\n",
       "  <thead>\n",
       "    <tr style=\"text-align: right;\">\n",
       "      <th></th>\n",
       "      <th>HomeTeam</th>\n",
       "      <th>AwayTeam</th>\n",
       "      <th>FTR</th>\n",
       "      <th>HST</th>\n",
       "      <th>AST</th>\n",
       "      <th>HAS</th>\n",
       "      <th>HDS</th>\n",
       "      <th>AAS</th>\n",
       "      <th>ADS</th>\n",
       "      <th>Result</th>\n",
       "    </tr>\n",
       "  </thead>\n",
       "  <tbody>\n",
       "    <tr>\n",
       "      <th>0</th>\n",
       "      <td>Arsenal</td>\n",
       "      <td>Aston Villa</td>\n",
       "      <td>A</td>\n",
       "      <td>4</td>\n",
       "      <td>4</td>\n",
       "      <td>1.204013</td>\n",
       "      <td>0.484581</td>\n",
       "      <td>1.409692</td>\n",
       "      <td>1.003344</td>\n",
       "      <td>-1</td>\n",
       "    </tr>\n",
       "    <tr>\n",
       "      <th>1</th>\n",
       "      <td>Liverpool</td>\n",
       "      <td>Stoke</td>\n",
       "      <td>H</td>\n",
       "      <td>11</td>\n",
       "      <td>4</td>\n",
       "      <td>1.772575</td>\n",
       "      <td>0.792952</td>\n",
       "      <td>2.114537</td>\n",
       "      <td>1.070234</td>\n",
       "      <td>1</td>\n",
       "    </tr>\n",
       "    <tr>\n",
       "      <th>2</th>\n",
       "      <td>Norwich</td>\n",
       "      <td>Everton</td>\n",
       "      <td>D</td>\n",
       "      <td>2</td>\n",
       "      <td>6</td>\n",
       "      <td>0.568562</td>\n",
       "      <td>0.792952</td>\n",
       "      <td>0.484581</td>\n",
       "      <td>1.471572</td>\n",
       "      <td>0</td>\n",
       "    </tr>\n",
       "    <tr>\n",
       "      <th>3</th>\n",
       "      <td>Sunderland</td>\n",
       "      <td>Fulham</td>\n",
       "      <td>A</td>\n",
       "      <td>3</td>\n",
       "      <td>1</td>\n",
       "      <td>0.702341</td>\n",
       "      <td>1.189427</td>\n",
       "      <td>0.881057</td>\n",
       "      <td>1.103679</td>\n",
       "      <td>-1</td>\n",
       "    </tr>\n",
       "    <tr>\n",
       "      <th>4</th>\n",
       "      <td>Swansea</td>\n",
       "      <td>Man United</td>\n",
       "      <td>A</td>\n",
       "      <td>6</td>\n",
       "      <td>7</td>\n",
       "      <td>1.103679</td>\n",
       "      <td>1.145374</td>\n",
       "      <td>0.925110</td>\n",
       "      <td>0.936455</td>\n",
       "      <td>-1</td>\n",
       "    </tr>\n",
       "  </tbody>\n",
       "</table>\n",
       "</div>"
      ],
      "text/plain": [
       "     HomeTeam     AwayTeam FTR  HST  AST       HAS       HDS       AAS  \\\n",
       "0     Arsenal  Aston Villa   A    4    4  1.204013  0.484581  1.409692   \n",
       "1   Liverpool        Stoke   H   11    4  1.772575  0.792952  2.114537   \n",
       "2     Norwich      Everton   D    2    6  0.568562  0.792952  0.484581   \n",
       "3  Sunderland       Fulham   A    3    1  0.702341  1.189427  0.881057   \n",
       "4     Swansea   Man United   A    6    7  1.103679  1.145374  0.925110   \n",
       "\n",
       "        ADS  Result  \n",
       "0  1.003344      -1  \n",
       "1  1.070234       1  \n",
       "2  1.471572       0  \n",
       "3  1.103679      -1  \n",
       "4  0.936455      -1  "
      ]
     },
     "execution_count": 17,
     "metadata": {},
     "output_type": "execute_result"
    }
   ],
   "source": [
    "feature_table.head()"
   ]
  },
  {
   "cell_type": "code",
   "execution_count": 18,
   "metadata": {
    "collapsed": true
   },
   "outputs": [],
   "source": [
    "X_train = feature_table[['HST','AST','HAS','HDS','AAS','ADS',]]\n",
    "y_train = feature_table['Result']"
   ]
  },
  {
   "cell_type": "code",
   "execution_count": 297,
   "metadata": {
    "collapsed": false
   },
   "outputs": [],
   "source": [
    "from sklearn.tree import DecisionTreeClassifier\n",
    "from sklearn.naive_bayes import MultinomialNB\n",
    "from xgboost import XGBClassifier\n",
    "from sklearn.metrics import accuracy_score\n",
    "from sklearn.model_selection import cross_val_score\n",
    "from sklearn.ensemble import RandomForestClassifier\n",
    "from sklearn.neighbors import KNeighborsClassifier"
   ]
  },
  {
   "cell_type": "code",
   "execution_count": 298,
   "metadata": {
    "collapsed": false
   },
   "outputs": [
    {
     "data": {
      "text/plain": [
       "XGBClassifier(base_score=0.5, colsample_bytree=1, gamma=0, learning_rate=0.1,\n",
       "       max_delta_step=0, max_depth=3, min_child_weight=1, missing=None,\n",
       "       n_estimators=100, nthread=-1, objective='multi:softprob', seed=0,\n",
       "       silent=True, subsample=1)"
      ]
     },
     "execution_count": 298,
     "metadata": {},
     "output_type": "execute_result"
    }
   ],
   "source": [
    "clf = DecisionTreeClassifier()\n",
    "clf2 = MultinomialNB()\n",
    "clf3 = XGBClassifier()\n",
    "clf3.fit(X_train,y_train)"
   ]
  },
  {
   "cell_type": "code",
   "execution_count": 299,
   "metadata": {
    "collapsed": false
   },
   "outputs": [],
   "source": [
    "y_pred = clf3.predict(X_train)\n",
    "accuracy_score(y_pred,y_train)\n",
    "scores = cross_val_score(clf2, X_train, y_train, cv=10)\n"
   ]
  },
  {
   "cell_type": "code",
   "execution_count": 300,
   "metadata": {
    "collapsed": false
   },
   "outputs": [
    {
     "name": "stdout",
     "output_type": "stream",
     "text": [
      "[ 0.51282051  0.41025641  0.48717949  0.39473684  0.55263158  0.57894737\n",
      "  0.52631579  0.5         0.48648649  0.47222222]\n",
      "0.492159669791\n"
     ]
    }
   ],
   "source": [
    "print scores\n",
    "print scores.mean()"
   ]
  },
  {
   "cell_type": "markdown",
   "metadata": {},
   "source": [
    "## Adding Recent Performance"
   ]
  },
  {
   "cell_type": "code",
   "execution_count": 189,
   "metadata": {
    "collapsed": false
   },
   "outputs": [],
   "source": [
    "ht = res_13.loc[40].HomeTeam\n",
    "at = res_13.loc[40].AwayTeam"
   ]
  },
  {
   "cell_type": "code",
   "execution_count": 190,
   "metadata": {
    "collapsed": false
   },
   "outputs": [],
   "source": [
    "feat_table = res_13.sort_index(ascending=False)\n",
    "feat_table = feat_table[['HomeTeam','AwayTeam','FTR','FTHG','FTAG','HS','AS','HC','AC']]\n",
    "feat_table[\"pastHS\"] = 0.0\n",
    "feat_table[\"pastHC\"] = 0.0\n",
    "feat_table[\"pastAS\"] = 0.0\n",
    "feat_table[\"pastAC\"] = 0.0\n",
    "feat_table[\"pastHG\"] = 0.0\n",
    "feat_table[\"pastAG\"] = 0.0\n",
    "\n"
   ]
  },
  {
   "cell_type": "code",
   "execution_count": 191,
   "metadata": {
    "collapsed": false
   },
   "outputs": [
    {
     "data": {
      "text/html": [
       "<div>\n",
       "<table border=\"1\" class=\"dataframe\">\n",
       "  <thead>\n",
       "    <tr style=\"text-align: right;\">\n",
       "      <th></th>\n",
       "      <th>HomeTeam</th>\n",
       "      <th>AwayTeam</th>\n",
       "      <th>FTR</th>\n",
       "      <th>FTHG</th>\n",
       "      <th>FTAG</th>\n",
       "      <th>HS</th>\n",
       "      <th>AS</th>\n",
       "      <th>HC</th>\n",
       "      <th>AC</th>\n",
       "      <th>pastHS</th>\n",
       "      <th>pastHC</th>\n",
       "      <th>pastAS</th>\n",
       "      <th>pastAC</th>\n",
       "      <th>pastHG</th>\n",
       "      <th>pastAG</th>\n",
       "    </tr>\n",
       "  </thead>\n",
       "  <tbody>\n",
       "    <tr>\n",
       "      <th>379</th>\n",
       "      <td>West Brom</td>\n",
       "      <td>Stoke</td>\n",
       "      <td>A</td>\n",
       "      <td>1</td>\n",
       "      <td>2</td>\n",
       "      <td>17</td>\n",
       "      <td>15</td>\n",
       "      <td>11</td>\n",
       "      <td>6</td>\n",
       "      <td>0.0</td>\n",
       "      <td>0.0</td>\n",
       "      <td>0.0</td>\n",
       "      <td>0.0</td>\n",
       "      <td>0.0</td>\n",
       "      <td>0.0</td>\n",
       "    </tr>\n",
       "    <tr>\n",
       "      <th>378</th>\n",
       "      <td>Tottenham</td>\n",
       "      <td>Aston Villa</td>\n",
       "      <td>H</td>\n",
       "      <td>3</td>\n",
       "      <td>0</td>\n",
       "      <td>12</td>\n",
       "      <td>4</td>\n",
       "      <td>5</td>\n",
       "      <td>1</td>\n",
       "      <td>0.0</td>\n",
       "      <td>0.0</td>\n",
       "      <td>0.0</td>\n",
       "      <td>0.0</td>\n",
       "      <td>0.0</td>\n",
       "      <td>0.0</td>\n",
       "    </tr>\n",
       "    <tr>\n",
       "      <th>377</th>\n",
       "      <td>Sunderland</td>\n",
       "      <td>Swansea</td>\n",
       "      <td>A</td>\n",
       "      <td>1</td>\n",
       "      <td>3</td>\n",
       "      <td>20</td>\n",
       "      <td>8</td>\n",
       "      <td>6</td>\n",
       "      <td>3</td>\n",
       "      <td>0.0</td>\n",
       "      <td>0.0</td>\n",
       "      <td>0.0</td>\n",
       "      <td>0.0</td>\n",
       "      <td>0.0</td>\n",
       "      <td>0.0</td>\n",
       "    </tr>\n",
       "    <tr>\n",
       "      <th>376</th>\n",
       "      <td>Southampton</td>\n",
       "      <td>Man United</td>\n",
       "      <td>D</td>\n",
       "      <td>1</td>\n",
       "      <td>1</td>\n",
       "      <td>15</td>\n",
       "      <td>8</td>\n",
       "      <td>6</td>\n",
       "      <td>2</td>\n",
       "      <td>0.0</td>\n",
       "      <td>0.0</td>\n",
       "      <td>0.0</td>\n",
       "      <td>0.0</td>\n",
       "      <td>0.0</td>\n",
       "      <td>0.0</td>\n",
       "    </tr>\n",
       "    <tr>\n",
       "      <th>375</th>\n",
       "      <td>Norwich</td>\n",
       "      <td>Arsenal</td>\n",
       "      <td>A</td>\n",
       "      <td>0</td>\n",
       "      <td>2</td>\n",
       "      <td>11</td>\n",
       "      <td>14</td>\n",
       "      <td>4</td>\n",
       "      <td>4</td>\n",
       "      <td>0.0</td>\n",
       "      <td>0.0</td>\n",
       "      <td>0.0</td>\n",
       "      <td>0.0</td>\n",
       "      <td>0.0</td>\n",
       "      <td>0.0</td>\n",
       "    </tr>\n",
       "  </tbody>\n",
       "</table>\n",
       "</div>"
      ],
      "text/plain": [
       "        HomeTeam     AwayTeam FTR  FTHG  FTAG  HS  AS  HC  AC  pastHS  pastHC  \\\n",
       "379    West Brom        Stoke   A     1     2  17  15  11   6     0.0     0.0   \n",
       "378    Tottenham  Aston Villa   H     3     0  12   4   5   1     0.0     0.0   \n",
       "377   Sunderland      Swansea   A     1     3  20   8   6   3     0.0     0.0   \n",
       "376  Southampton   Man United   D     1     1  15   8   6   2     0.0     0.0   \n",
       "375      Norwich      Arsenal   A     0     2  11  14   4   4     0.0     0.0   \n",
       "\n",
       "     pastAS  pastAC  pastHG  pastAG  \n",
       "379     0.0     0.0     0.0     0.0  \n",
       "378     0.0     0.0     0.0     0.0  \n",
       "377     0.0     0.0     0.0     0.0  \n",
       "376     0.0     0.0     0.0     0.0  \n",
       "375     0.0     0.0     0.0     0.0  "
      ]
     },
     "execution_count": 191,
     "metadata": {},
     "output_type": "execute_result"
    }
   ],
   "source": [
    "feat_table.head()"
   ]
  },
  {
   "cell_type": "code",
   "execution_count": 321,
   "metadata": {
    "collapsed": false,
    "scrolled": true
   },
   "outputs": [
    {
     "name": "stderr",
     "output_type": "stream",
     "text": [
      "/home/sibi/acad/prog_tools/anaconda2/lib/python2.7/site-packages/ipykernel/__main__.py:6: UserWarning: Boolean Series key will be reindexed to match DataFrame index.\n",
      "/home/sibi/acad/prog_tools/anaconda2/lib/python2.7/site-packages/ipykernel/__main__.py:7: UserWarning: Boolean Series key will be reindexed to match DataFrame index.\n"
     ]
    }
   ],
   "source": [
    "k = 3\n",
    "for i in range(379,-1,-1):\n",
    "    row = feat_table.loc[i]\n",
    "    ht = row.HomeTeam\n",
    "    at = row.AwayTeam\n",
    "    ht_stats = feat_table.loc[i-1:-1][(feat_table.HomeTeam == ht) | (feat_table.AwayTeam == ht)].head(k)\n",
    "    at_stats = feat_table.loc[i-1:-1][(feat_table.HomeTeam == at) | (feat_table.AwayTeam == at)].head(k)\n",
    "\n",
    "    feat_table.set_value(i, 'pastHC', (ht_stats[ht_stats[\"AwayTeam\"] == ht].sum().HC + ht_stats[ht_stats[\"HomeTeam\"] == ht].sum().HC)/k)\n",
    "    feat_table.set_value(i, 'pastAC', (at_stats[at_stats[\"AwayTeam\"] == at].sum().HC + at_stats[at_stats[\"HomeTeam\"] == at].sum().HC)/k)\n",
    "    feat_table.set_value(i, 'pastHS', (ht_stats[ht_stats[\"AwayTeam\"] == ht].sum().HS + ht_stats[ht_stats[\"HomeTeam\"] == ht].sum().AS)/k)\n",
    "    feat_table.set_value(i, 'pastAS', (at_stats[at_stats[\"AwayTeam\"] == at].sum().HS + at_stats[at_stats[\"HomeTeam\"] == at].sum().AS)/k)\n",
    "    feat_table.set_value(i, 'pastHG', (ht_stats[ht_stats[\"AwayTeam\"] == ht].sum().FTAG + ht_stats[ht_stats[\"HomeTeam\"] == ht].sum().FTHG)/k)\n",
    "    feat_table.set_value(i, 'pastAG', (at_stats[at_stats[\"AwayTeam\"] == at].sum().FTAG + at_stats[at_stats[\"HomeTeam\"] == at].sum().FTHG)/k)\n",
    "\n",
    "f_HAS = []\n",
    "f_HDS = []\n",
    "f_AAS = []\n",
    "f_ADS = []\n",
    "for index,row in feature_table.iterrows():\n",
    "    f_HAS.append(table_13[table_13['Team'] == row['HomeTeam']]['HAS'].values[0])\n",
    "    f_HDS.append(table_13[table_13['Team'] == row['HomeTeam']]['HDS'].values[0])\n",
    "    f_AAS.append(table_13[table_13['Team'] == row['HomeTeam']]['AAS'].values[0])\n",
    "    f_ADS.append(table_13[table_13['Team'] == row['HomeTeam']]['ADS'].values[0])\n",
    "    \n",
    "feat_table['HAS'] = f_HAS\n",
    "feat_table['HDS'] = f_HDS\n",
    "feat_table['AAS'] = f_AAS\n",
    "feat_table['ADS'] = f_ADS"
   ]
  },
  {
   "cell_type": "code",
   "execution_count": 322,
   "metadata": {
    "collapsed": false
   },
   "outputs": [],
   "source": [
    "test_table = feat_table.drop(['FTHG','FTAG','HS','AS','HC','AC'],axis=1)"
   ]
  },
  {
   "cell_type": "code",
   "execution_count": 323,
   "metadata": {
    "collapsed": false
   },
   "outputs": [
    {
     "data": {
      "text/html": [
       "<div>\n",
       "<table border=\"1\" class=\"dataframe\">\n",
       "  <thead>\n",
       "    <tr style=\"text-align: right;\">\n",
       "      <th></th>\n",
       "      <th>HomeTeam</th>\n",
       "      <th>AwayTeam</th>\n",
       "      <th>FTR</th>\n",
       "      <th>pastHS</th>\n",
       "      <th>pastHC</th>\n",
       "      <th>pastAS</th>\n",
       "      <th>pastAC</th>\n",
       "      <th>pastHG</th>\n",
       "      <th>pastAG</th>\n",
       "      <th>HAS</th>\n",
       "      <th>HDS</th>\n",
       "      <th>AAS</th>\n",
       "      <th>ADS</th>\n",
       "      <th>Result</th>\n",
       "    </tr>\n",
       "  </thead>\n",
       "  <tbody>\n",
       "    <tr>\n",
       "      <th>0</th>\n",
       "      <td>Arsenal</td>\n",
       "      <td>Aston Villa</td>\n",
       "      <td>A</td>\n",
       "      <td>0.0</td>\n",
       "      <td>0.0</td>\n",
       "      <td>0.0</td>\n",
       "      <td>0.0</td>\n",
       "      <td>0.0</td>\n",
       "      <td>0.0</td>\n",
       "      <td>0.802676</td>\n",
       "      <td>1.189427</td>\n",
       "      <td>0.837004</td>\n",
       "      <td>1.070234</td>\n",
       "      <td>-1</td>\n",
       "    </tr>\n",
       "    <tr>\n",
       "      <th>1</th>\n",
       "      <td>Liverpool</td>\n",
       "      <td>Stoke</td>\n",
       "      <td>H</td>\n",
       "      <td>0.0</td>\n",
       "      <td>0.0</td>\n",
       "      <td>0.0</td>\n",
       "      <td>0.0</td>\n",
       "      <td>0.0</td>\n",
       "      <td>0.0</td>\n",
       "      <td>1.003344</td>\n",
       "      <td>1.013216</td>\n",
       "      <td>1.101322</td>\n",
       "      <td>0.936455</td>\n",
       "      <td>1</td>\n",
       "    </tr>\n",
       "    <tr>\n",
       "      <th>2</th>\n",
       "      <td>Norwich</td>\n",
       "      <td>Everton</td>\n",
       "      <td>D</td>\n",
       "      <td>0.0</td>\n",
       "      <td>0.0</td>\n",
       "      <td>0.0</td>\n",
       "      <td>0.0</td>\n",
       "      <td>0.0</td>\n",
       "      <td>0.0</td>\n",
       "      <td>0.702341</td>\n",
       "      <td>1.189427</td>\n",
       "      <td>0.881057</td>\n",
       "      <td>1.103679</td>\n",
       "      <td>0</td>\n",
       "    </tr>\n",
       "    <tr>\n",
       "      <th>3</th>\n",
       "      <td>Sunderland</td>\n",
       "      <td>Fulham</td>\n",
       "      <td>A</td>\n",
       "      <td>0.0</td>\n",
       "      <td>0.0</td>\n",
       "      <td>0.0</td>\n",
       "      <td>0.0</td>\n",
       "      <td>0.0</td>\n",
       "      <td>0.0</td>\n",
       "      <td>1.070234</td>\n",
       "      <td>1.013216</td>\n",
       "      <td>0.969163</td>\n",
       "      <td>0.769231</td>\n",
       "      <td>-1</td>\n",
       "    </tr>\n",
       "    <tr>\n",
       "      <th>4</th>\n",
       "      <td>Swansea</td>\n",
       "      <td>Man United</td>\n",
       "      <td>A</td>\n",
       "      <td>0.0</td>\n",
       "      <td>0.0</td>\n",
       "      <td>0.0</td>\n",
       "      <td>0.0</td>\n",
       "      <td>0.0</td>\n",
       "      <td>0.0</td>\n",
       "      <td>0.568562</td>\n",
       "      <td>0.792952</td>\n",
       "      <td>0.484581</td>\n",
       "      <td>1.471572</td>\n",
       "      <td>-1</td>\n",
       "    </tr>\n",
       "  </tbody>\n",
       "</table>\n",
       "</div>"
      ],
      "text/plain": [
       "     HomeTeam     AwayTeam FTR  pastHS  pastHC  pastAS  pastAC  pastHG  \\\n",
       "0     Arsenal  Aston Villa   A     0.0     0.0     0.0     0.0     0.0   \n",
       "1   Liverpool        Stoke   H     0.0     0.0     0.0     0.0     0.0   \n",
       "2     Norwich      Everton   D     0.0     0.0     0.0     0.0     0.0   \n",
       "3  Sunderland       Fulham   A     0.0     0.0     0.0     0.0     0.0   \n",
       "4     Swansea   Man United   A     0.0     0.0     0.0     0.0     0.0   \n",
       "\n",
       "   pastAG       HAS       HDS       AAS       ADS  Result  \n",
       "0     0.0  0.802676  1.189427  0.837004  1.070234      -1  \n",
       "1     0.0  1.003344  1.013216  1.101322  0.936455       1  \n",
       "2     0.0  0.702341  1.189427  0.881057  1.103679       0  \n",
       "3     0.0  1.070234  1.013216  0.969163  0.769231      -1  \n",
       "4     0.0  0.568562  0.792952  0.484581  1.471572      -1  "
      ]
     },
     "execution_count": 323,
     "metadata": {},
     "output_type": "execute_result"
    }
   ],
   "source": [
    "test_table[\"Result\"] = test_table.apply(lambda row: transformResult(row),axis=1)\n",
    "test_table.sort_index().head()"
   ]
  },
  {
   "cell_type": "code",
   "execution_count": null,
   "metadata": {
    "collapsed": true
   },
   "outputs": [],
   "source": []
  },
  {
   "cell_type": "code",
   "execution_count": 13,
   "metadata": {
    "collapsed": false
   },
   "outputs": [
    {
     "ename": "NameError",
     "evalue": "name 'test_table' is not defined",
     "output_type": "error",
     "traceback": [
      "\u001b[1;31m---------------------------------------------------------------------------\u001b[0m",
      "\u001b[1;31mNameError\u001b[0m                                 Traceback (most recent call last)",
      "\u001b[1;32m<ipython-input-13-585c6eff3093>\u001b[0m in \u001b[0;36m<module>\u001b[1;34m()\u001b[0m\n\u001b[1;32m----> 1\u001b[1;33m \u001b[0mX_train\u001b[0m \u001b[1;33m=\u001b[0m \u001b[0mtest_table\u001b[0m\u001b[1;33m[\u001b[0m\u001b[1;33m[\u001b[0m\u001b[1;34m'pastHS'\u001b[0m\u001b[1;33m,\u001b[0m\u001b[1;34m'pastHC'\u001b[0m\u001b[1;33m,\u001b[0m\u001b[1;34m'pastAS'\u001b[0m\u001b[1;33m,\u001b[0m\u001b[1;34m'pastAC'\u001b[0m\u001b[1;33m,\u001b[0m\u001b[1;34m'pastHG'\u001b[0m\u001b[1;33m,\u001b[0m\u001b[1;34m'pastAG'\u001b[0m\u001b[1;33m,\u001b[0m\u001b[1;34m'HAS'\u001b[0m\u001b[1;33m,\u001b[0m\u001b[1;34m'HDS'\u001b[0m\u001b[1;33m,\u001b[0m\u001b[1;34m'AAS'\u001b[0m\u001b[1;33m,\u001b[0m\u001b[1;34m'ADS'\u001b[0m\u001b[1;33m]\u001b[0m\u001b[1;33m]\u001b[0m\u001b[1;33m\u001b[0m\u001b[0m\n\u001b[0m\u001b[0;32m      2\u001b[0m \u001b[0my_train\u001b[0m \u001b[1;33m=\u001b[0m \u001b[0mtest_table\u001b[0m\u001b[1;33m[\u001b[0m\u001b[1;34m'Result'\u001b[0m\u001b[1;33m]\u001b[0m\u001b[1;33m\u001b[0m\u001b[0m\n",
      "\u001b[1;31mNameError\u001b[0m: name 'test_table' is not defined"
     ]
    }
   ],
   "source": [
    "X_train = test_table[['pastHS','pastHC','pastAS','pastAC','pastHG','pastAG','HAS','HDS','AAS','ADS']]\n",
    "y_train = test_table['Result']"
   ]
  },
  {
   "cell_type": "code",
   "execution_count": null,
   "metadata": {
    "collapsed": true
   },
   "outputs": [],
   "source": []
  },
  {
   "cell_type": "code",
   "execution_count": 325,
   "metadata": {
    "collapsed": false
   },
   "outputs": [
    {
     "data": {
      "text/plain": [
       "KNeighborsClassifier(algorithm='auto', leaf_size=30, metric='minkowski',\n",
       "           metric_params=None, n_jobs=1, n_neighbors=5, p=2,\n",
       "           weights='uniform')"
      ]
     },
     "execution_count": 325,
     "metadata": {},
     "output_type": "execute_result"
    }
   ],
   "source": [
    "clf1 = DecisionTreeClassifier()\n",
    "clf2 = MultinomialNB(alpha=3)\n",
    "clf3 = XGBClassifier()\n",
    "clf4 = RandomForestClassifier()\n",
    "clf5 = KNeighborsClassifier(n_neighbors=5)\n",
    "clf5.fit(X_train,y_train)"
   ]
  },
  {
   "cell_type": "code",
   "execution_count": 326,
   "metadata": {
    "collapsed": false
   },
   "outputs": [
    {
     "data": {
      "text/plain": [
       "0.59999999999999998"
      ]
     },
     "execution_count": 326,
     "metadata": {},
     "output_type": "execute_result"
    }
   ],
   "source": [
    "accuracy_score(y_train,clf5.predict(X_train))"
   ]
  },
  {
   "cell_type": "code",
   "execution_count": 342,
   "metadata": {
    "collapsed": false
   },
   "outputs": [
    {
     "name": "stdout",
     "output_type": "stream",
     "text": [
      "[ 0.46153846  0.43589744  0.48717949  0.42105263  0.5         0.55263158\n",
      "  0.52631579  0.5         0.51351351  0.44444444] 0.484257334257\n"
     ]
    }
   ],
   "source": [
    "scores = cross_val_score(clf2, X_train, y_train, cv=10)\n",
    "print scores, scores.mean()"
   ]
  },
  {
   "cell_type": "code",
   "execution_count": 330,
   "metadata": {
    "collapsed": false
   },
   "outputs": [
    {
     "name": "stdout",
     "output_type": "stream",
     "text": [
      "0.400661390135\n",
      "0.379211498948\n",
      "0.421376943745\n",
      "0.415889168521\n",
      "0.429687784951\n",
      "0.439734167366\n",
      "0.434759455812\n",
      "0.421526789948\n",
      "0.429496601865\n",
      "0.416046309467\n",
      "0.426366548735\n",
      "0.424361101993\n",
      "0.434819941399\n",
      "0.432600515495\n",
      "0.429833983781\n",
      "0.416597366597\n",
      "0.429687784951\n",
      "0.442721972985\n",
      "0.432604162867\n",
      "0.437799844379\n",
      "0.437653645548\n",
      "0.429901460165\n",
      "0.429627907259\n",
      "0.437593767857\n",
      "0.432398086345\n",
      "0.424570825887\n",
      "0.429837631153\n",
      "0.432255534887\n",
      "0.440153919101\n"
     ]
    }
   ],
   "source": [
    "for n in xrange(1,30):\n",
    "    clf5 = KNeighborsClassifier(n_neighbors=n)\n",
    "    scores = cross_val_score(clf5, X_train, y_train, cv=10)\n",
    "    print scores.mean()\n"
   ]
  },
  {
   "cell_type": "code",
   "execution_count": null,
   "metadata": {
    "collapsed": true
   },
   "outputs": [],
   "source": []
  },
  {
   "cell_type": "code",
   "execution_count": null,
   "metadata": {
    "collapsed": true
   },
   "outputs": [],
   "source": []
  }
 ],
 "metadata": {
  "kernelspec": {
   "display_name": "Python [Root]",
   "language": "python",
   "name": "Python [Root]"
  },
  "language_info": {
   "codemirror_mode": {
    "name": "ipython",
    "version": 2
   },
   "file_extension": ".py",
   "mimetype": "text/x-python",
   "name": "python",
   "nbconvert_exporter": "python",
   "pygments_lexer": "ipython2",
   "version": "2.7.12"
  }
 },
 "nbformat": 4,
 "nbformat_minor": 0
}
