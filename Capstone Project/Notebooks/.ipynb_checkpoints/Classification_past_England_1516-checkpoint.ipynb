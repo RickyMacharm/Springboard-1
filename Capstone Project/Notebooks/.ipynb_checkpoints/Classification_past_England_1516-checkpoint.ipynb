{
 "cells": [
  {
   "cell_type": "code",
   "execution_count": 2,
   "metadata": {
    "collapsed": true
   },
   "outputs": [],
   "source": [
    "import pandas as pd\n",
    "import numpy as np\n",
    "import scipy.stats as scipy\n",
    "import matplotlib.pyplot as plt\n",
    "from __future__ import division\n",
    "%matplotlib inline"
   ]
  },
  {
   "cell_type": "markdown",
   "metadata": {},
   "source": [
    "### Load the data"
   ]
  },
  {
   "cell_type": "code",
   "execution_count": 3,
   "metadata": {
    "collapsed": false
   },
   "outputs": [],
   "source": [
    "df = pd.read_csv(\"../Data/England/E0_16.csv\")\n",
    "df_14 = pd.read_csv(\"../Data/England/E0_14.csv\")"
   ]
  },
  {
   "cell_type": "code",
   "execution_count": 4,
   "metadata": {
    "collapsed": false
   },
   "outputs": [
    {
     "data": {
      "text/plain": [
       "Index([u'Div', u'Date', u'HomeTeam', u'AwayTeam', u'FTHG', u'FTAG', u'FTR',\n",
       "       u'HTHG', u'HTAG', u'HTR', u'Referee', u'HS', u'AS', u'HST', u'AST',\n",
       "       u'HF', u'AF', u'HC', u'AC', u'HY', u'AY', u'HR', u'AR', u'B365H',\n",
       "       u'B365D', u'B365A', u'BWH', u'BWD', u'BWA', u'IWH', u'IWD', u'IWA',\n",
       "       u'LBH', u'LBD', u'LBA', u'PSH', u'PSD', u'PSA', u'WHH', u'WHD', u'WHA',\n",
       "       u'VCH', u'VCD', u'VCA', u'Bb1X2', u'BbMxH', u'BbAvH', u'BbMxD',\n",
       "       u'BbAvD', u'BbMxA', u'BbAvA', u'BbOU', u'BbMx>2.5', u'BbAv>2.5',\n",
       "       u'BbMx<2.5', u'BbAv<2.5', u'BbAH', u'BbAHh', u'BbMxAHH', u'BbAvAHH',\n",
       "       u'BbMxAHA', u'BbAvAHA', u'PSCH', u'PSCD', u'PSCA'],\n",
       "      dtype='object')"
      ]
     },
     "execution_count": 4,
     "metadata": {},
     "output_type": "execute_result"
    }
   ],
   "source": [
    "df.columns"
   ]
  },
  {
   "cell_type": "markdown",
   "metadata": {},
   "source": [
    "### Cleaning and subsetting required data\n",
    "\n",
    "Remove betting data as we don't need it for prediction. However, they could be good indicators of a team's current form - should try it out later."
   ]
  },
  {
   "cell_type": "code",
   "execution_count": 8,
   "metadata": {
    "collapsed": false
   },
   "outputs": [],
   "source": [
    "res_16 = df.ix[:,:23]\n",
    "res_16 = res_16.drop(['Div','Date'],axis=1)\n",
    "res_14 = df_14.ix[:,:23]\n",
    "res_14 = res_14.drop(['Div','Date'],axis=1)\n",
    "table_features = df.ix[:,:7]\n",
    "table_features = table_features.drop(['FTHG','FTAG','Div','Date'],axis=1)\n",
    "bet_16 = df.ix[:,23:]"
   ]
  },
  {
   "cell_type": "code",
   "execution_count": 9,
   "metadata": {
    "collapsed": false,
    "scrolled": true
   },
   "outputs": [],
   "source": [
    "res_16.head()\n",
    "feature_table = df.ix[:,:23]"
   ]
  },
  {
   "cell_type": "code",
   "execution_count": 10,
   "metadata": {
    "collapsed": false
   },
   "outputs": [
    {
     "data": {
      "text/html": [
       "<div>\n",
       "<table border=\"1\" class=\"dataframe\">\n",
       "  <thead>\n",
       "    <tr style=\"text-align: right;\">\n",
       "      <th></th>\n",
       "      <th>HomeTeam</th>\n",
       "      <th>AwayTeam</th>\n",
       "      <th>FTHG</th>\n",
       "      <th>FTAG</th>\n",
       "      <th>FTR</th>\n",
       "      <th>HTHG</th>\n",
       "      <th>HTAG</th>\n",
       "      <th>HTR</th>\n",
       "      <th>Referee</th>\n",
       "      <th>HS</th>\n",
       "      <th>...</th>\n",
       "      <th>HST</th>\n",
       "      <th>AST</th>\n",
       "      <th>HF</th>\n",
       "      <th>AF</th>\n",
       "      <th>HC</th>\n",
       "      <th>AC</th>\n",
       "      <th>HY</th>\n",
       "      <th>AY</th>\n",
       "      <th>HR</th>\n",
       "      <th>AR</th>\n",
       "    </tr>\n",
       "  </thead>\n",
       "  <tbody>\n",
       "    <tr>\n",
       "      <th>235</th>\n",
       "      <td>Tottenham</td>\n",
       "      <td>Middlesbrough</td>\n",
       "      <td>1</td>\n",
       "      <td>0</td>\n",
       "      <td>H</td>\n",
       "      <td>0</td>\n",
       "      <td>0</td>\n",
       "      <td>D</td>\n",
       "      <td>M Clattenburg</td>\n",
       "      <td>17</td>\n",
       "      <td>...</td>\n",
       "      <td>5</td>\n",
       "      <td>0</td>\n",
       "      <td>8</td>\n",
       "      <td>11</td>\n",
       "      <td>11</td>\n",
       "      <td>2</td>\n",
       "      <td>0</td>\n",
       "      <td>1</td>\n",
       "      <td>0</td>\n",
       "      <td>0</td>\n",
       "    </tr>\n",
       "    <tr>\n",
       "      <th>236</th>\n",
       "      <td>Watford</td>\n",
       "      <td>Burnley</td>\n",
       "      <td>2</td>\n",
       "      <td>1</td>\n",
       "      <td>H</td>\n",
       "      <td>2</td>\n",
       "      <td>0</td>\n",
       "      <td>H</td>\n",
       "      <td>M Oliver</td>\n",
       "      <td>16</td>\n",
       "      <td>...</td>\n",
       "      <td>7</td>\n",
       "      <td>7</td>\n",
       "      <td>12</td>\n",
       "      <td>10</td>\n",
       "      <td>3</td>\n",
       "      <td>6</td>\n",
       "      <td>5</td>\n",
       "      <td>0</td>\n",
       "      <td>0</td>\n",
       "      <td>1</td>\n",
       "    </tr>\n",
       "    <tr>\n",
       "      <th>237</th>\n",
       "      <td>West Brom</td>\n",
       "      <td>Stoke</td>\n",
       "      <td>1</td>\n",
       "      <td>0</td>\n",
       "      <td>H</td>\n",
       "      <td>1</td>\n",
       "      <td>0</td>\n",
       "      <td>H</td>\n",
       "      <td>K Friend</td>\n",
       "      <td>16</td>\n",
       "      <td>...</td>\n",
       "      <td>4</td>\n",
       "      <td>2</td>\n",
       "      <td>6</td>\n",
       "      <td>13</td>\n",
       "      <td>5</td>\n",
       "      <td>6</td>\n",
       "      <td>2</td>\n",
       "      <td>2</td>\n",
       "      <td>0</td>\n",
       "      <td>0</td>\n",
       "    </tr>\n",
       "    <tr>\n",
       "      <th>238</th>\n",
       "      <td>Leicester</td>\n",
       "      <td>Man United</td>\n",
       "      <td>0</td>\n",
       "      <td>3</td>\n",
       "      <td>A</td>\n",
       "      <td>0</td>\n",
       "      <td>2</td>\n",
       "      <td>A</td>\n",
       "      <td>A Taylor</td>\n",
       "      <td>11</td>\n",
       "      <td>...</td>\n",
       "      <td>1</td>\n",
       "      <td>9</td>\n",
       "      <td>12</td>\n",
       "      <td>13</td>\n",
       "      <td>10</td>\n",
       "      <td>3</td>\n",
       "      <td>2</td>\n",
       "      <td>4</td>\n",
       "      <td>0</td>\n",
       "      <td>0</td>\n",
       "    </tr>\n",
       "    <tr>\n",
       "      <th>239</th>\n",
       "      <td>Man City</td>\n",
       "      <td>Swansea</td>\n",
       "      <td>2</td>\n",
       "      <td>1</td>\n",
       "      <td>H</td>\n",
       "      <td>1</td>\n",
       "      <td>0</td>\n",
       "      <td>H</td>\n",
       "      <td>M Dean</td>\n",
       "      <td>17</td>\n",
       "      <td>...</td>\n",
       "      <td>5</td>\n",
       "      <td>2</td>\n",
       "      <td>9</td>\n",
       "      <td>13</td>\n",
       "      <td>10</td>\n",
       "      <td>3</td>\n",
       "      <td>2</td>\n",
       "      <td>3</td>\n",
       "      <td>0</td>\n",
       "      <td>0</td>\n",
       "    </tr>\n",
       "  </tbody>\n",
       "</table>\n",
       "<p>5 rows × 21 columns</p>\n",
       "</div>"
      ],
      "text/plain": [
       "      HomeTeam       AwayTeam  FTHG  FTAG FTR  HTHG  HTAG HTR        Referee  \\\n",
       "235  Tottenham  Middlesbrough     1     0   H     0     0   D  M Clattenburg   \n",
       "236    Watford        Burnley     2     1   H     2     0   H       M Oliver   \n",
       "237  West Brom          Stoke     1     0   H     1     0   H       K Friend   \n",
       "238  Leicester     Man United     0     3   A     0     2   A       A Taylor   \n",
       "239   Man City        Swansea     2     1   H     1     0   H         M Dean   \n",
       "\n",
       "     HS ...  HST  AST  HF  AF  HC  AC  HY  AY  HR  AR  \n",
       "235  17 ...    5    0   8  11  11   2   0   1   0   0  \n",
       "236  16 ...    7    7  12  10   3   6   5   0   0   1  \n",
       "237  16 ...    4    2   6  13   5   6   2   2   0   0  \n",
       "238  11 ...    1    9  12  13  10   3   2   4   0   0  \n",
       "239  17 ...    5    2   9  13  10   3   2   3   0   0  \n",
       "\n",
       "[5 rows x 21 columns]"
      ]
     },
     "execution_count": 10,
     "metadata": {},
     "output_type": "execute_result"
    }
   ],
   "source": [
    "res_16.tail()"
   ]
  },
  {
   "cell_type": "code",
   "execution_count": 15,
   "metadata": {
    "collapsed": false
   },
   "outputs": [],
   "source": [
    "#Team, Home Goals Score, Away Goals Score, Attack Strength, Home Goals Conceded, Away Goals Conceded, Defensive Strength\n",
    "table_16 = pd.DataFrame(columns=('Team','HGS','AGS','HAS','AAS','HGC','AGC','HDS','ADS',))"
   ]
  },
  {
   "cell_type": "code",
   "execution_count": 28,
   "metadata": {
    "collapsed": false
   },
   "outputs": [
    {
     "data": {
      "text/plain": [
       "240"
      ]
     },
     "execution_count": 28,
     "metadata": {},
     "output_type": "execute_result"
    }
   ],
   "source": [
    "res_16.shape[0]"
   ]
  },
  {
   "cell_type": "code",
   "execution_count": 18,
   "metadata": {
    "collapsed": false
   },
   "outputs": [
    {
     "name": "stdout",
     "output_type": "stream",
     "text": [
      "Average number of goals at home 1.60416666667\n",
      "Average number of goals away 1.24166666667\n",
      "Average number of goals conceded at home 1.60416666667\n",
      "Average number of goals conceded away 1.24166666667\n"
     ]
    }
   ],
   "source": [
    "avg_home_scored_16 = res_16.FTHG.sum()*1.0 / res_16.shape[0]\n",
    "avg_away_scored_16 = res_16.FTAG.sum()*1.0 / res_16.shape[0]\n",
    "avg_home_conceded_16 = avg_away_scored_16\n",
    "avg_away_conceded_16 = avg_home_scored_16\n",
    "print \"Average number of goals at home\",avg_home_scored_16\n",
    "print \"Average number of goals away\", avg_away_scored_16\n",
    "print \"Average number of goals conceded at home\",avg_away_conceded_16\n",
    "print \"Average number of goals conceded away\",avg_home_conceded_16"
   ]
  },
  {
   "cell_type": "code",
   "execution_count": 19,
   "metadata": {
    "collapsed": false
   },
   "outputs": [],
   "source": [
    "res_home = res_16.groupby('HomeTeam')\n",
    "res_away = res_16.groupby('AwayTeam')"
   ]
  },
  {
   "cell_type": "code",
   "execution_count": 215,
   "metadata": {
    "collapsed": false
   },
   "outputs": [],
   "source": [
    "# list(res_home)[0]"
   ]
  },
  {
   "cell_type": "code",
   "execution_count": 81,
   "metadata": {
    "collapsed": false
   },
   "outputs": [
    {
     "data": {
      "text/html": [
       "<div>\n",
       "<table border=\"1\" class=\"dataframe\">\n",
       "  <thead>\n",
       "    <tr style=\"text-align: right;\">\n",
       "      <th></th>\n",
       "      <th>Team</th>\n",
       "      <th>HGS</th>\n",
       "      <th>AGS</th>\n",
       "      <th>HAS</th>\n",
       "      <th>AAS</th>\n",
       "      <th>HGC</th>\n",
       "      <th>AGC</th>\n",
       "      <th>HDS</th>\n",
       "      <th>ADS</th>\n",
       "    </tr>\n",
       "  </thead>\n",
       "  <tbody>\n",
       "    <tr>\n",
       "      <th>0</th>\n",
       "      <td>Arsenal</td>\n",
       "      <td>24</td>\n",
       "      <td>28</td>\n",
       "      <td>1.246753</td>\n",
       "      <td>1.879195</td>\n",
       "      <td>13</td>\n",
       "      <td>15</td>\n",
       "      <td>0.872483</td>\n",
       "      <td>0.779221</td>\n",
       "    </tr>\n",
       "    <tr>\n",
       "      <th>1</th>\n",
       "      <td>Bournemouth</td>\n",
       "      <td>21</td>\n",
       "      <td>14</td>\n",
       "      <td>1.090909</td>\n",
       "      <td>0.939597</td>\n",
       "      <td>19</td>\n",
       "      <td>28</td>\n",
       "      <td>1.275168</td>\n",
       "      <td>1.454545</td>\n",
       "    </tr>\n",
       "    <tr>\n",
       "      <th>2</th>\n",
       "      <td>Burnley</td>\n",
       "      <td>21</td>\n",
       "      <td>5</td>\n",
       "      <td>1.090909</td>\n",
       "      <td>0.335570</td>\n",
       "      <td>11</td>\n",
       "      <td>24</td>\n",
       "      <td>0.738255</td>\n",
       "      <td>1.246753</td>\n",
       "    </tr>\n",
       "    <tr>\n",
       "      <th>3</th>\n",
       "      <td>Chelsea</td>\n",
       "      <td>33</td>\n",
       "      <td>18</td>\n",
       "      <td>1.714286</td>\n",
       "      <td>1.208054</td>\n",
       "      <td>7</td>\n",
       "      <td>10</td>\n",
       "      <td>0.469799</td>\n",
       "      <td>0.519481</td>\n",
       "    </tr>\n",
       "    <tr>\n",
       "      <th>4</th>\n",
       "      <td>Crystal Palace</td>\n",
       "      <td>13</td>\n",
       "      <td>19</td>\n",
       "      <td>0.675325</td>\n",
       "      <td>1.275168</td>\n",
       "      <td>20</td>\n",
       "      <td>25</td>\n",
       "      <td>1.342282</td>\n",
       "      <td>1.298701</td>\n",
       "    </tr>\n",
       "    <tr>\n",
       "      <th>5</th>\n",
       "      <td>Everton</td>\n",
       "      <td>25</td>\n",
       "      <td>15</td>\n",
       "      <td>1.298701</td>\n",
       "      <td>1.006711</td>\n",
       "      <td>10</td>\n",
       "      <td>17</td>\n",
       "      <td>0.671141</td>\n",
       "      <td>0.883117</td>\n",
       "    </tr>\n",
       "    <tr>\n",
       "      <th>6</th>\n",
       "      <td>Hull</td>\n",
       "      <td>16</td>\n",
       "      <td>6</td>\n",
       "      <td>0.831169</td>\n",
       "      <td>0.402685</td>\n",
       "      <td>21</td>\n",
       "      <td>26</td>\n",
       "      <td>1.409396</td>\n",
       "      <td>1.350649</td>\n",
       "    </tr>\n",
       "    <tr>\n",
       "      <th>7</th>\n",
       "      <td>Leicester</td>\n",
       "      <td>16</td>\n",
       "      <td>8</td>\n",
       "      <td>0.831169</td>\n",
       "      <td>0.536913</td>\n",
       "      <td>16</td>\n",
       "      <td>25</td>\n",
       "      <td>1.073826</td>\n",
       "      <td>1.298701</td>\n",
       "    </tr>\n",
       "    <tr>\n",
       "      <th>8</th>\n",
       "      <td>Liverpool</td>\n",
       "      <td>29</td>\n",
       "      <td>23</td>\n",
       "      <td>1.506494</td>\n",
       "      <td>1.543624</td>\n",
       "      <td>11</td>\n",
       "      <td>19</td>\n",
       "      <td>0.738255</td>\n",
       "      <td>0.987013</td>\n",
       "    </tr>\n",
       "    <tr>\n",
       "      <th>9</th>\n",
       "      <td>Man City</td>\n",
       "      <td>23</td>\n",
       "      <td>26</td>\n",
       "      <td>1.194805</td>\n",
       "      <td>1.744966</td>\n",
       "      <td>13</td>\n",
       "      <td>16</td>\n",
       "      <td>0.872483</td>\n",
       "      <td>0.831169</td>\n",
       "    </tr>\n",
       "    <tr>\n",
       "      <th>10</th>\n",
       "      <td>Man United</td>\n",
       "      <td>17</td>\n",
       "      <td>19</td>\n",
       "      <td>0.883117</td>\n",
       "      <td>1.275168</td>\n",
       "      <td>9</td>\n",
       "      <td>12</td>\n",
       "      <td>0.604027</td>\n",
       "      <td>0.623377</td>\n",
       "    </tr>\n",
       "    <tr>\n",
       "      <th>11</th>\n",
       "      <td>Middlesbrough</td>\n",
       "      <td>11</td>\n",
       "      <td>8</td>\n",
       "      <td>0.571429</td>\n",
       "      <td>0.536913</td>\n",
       "      <td>14</td>\n",
       "      <td>13</td>\n",
       "      <td>0.939597</td>\n",
       "      <td>0.675325</td>\n",
       "    </tr>\n",
       "    <tr>\n",
       "      <th>12</th>\n",
       "      <td>Southampton</td>\n",
       "      <td>14</td>\n",
       "      <td>10</td>\n",
       "      <td>0.727273</td>\n",
       "      <td>0.671141</td>\n",
       "      <td>14</td>\n",
       "      <td>17</td>\n",
       "      <td>0.939597</td>\n",
       "      <td>0.883117</td>\n",
       "    </tr>\n",
       "    <tr>\n",
       "      <th>13</th>\n",
       "      <td>Stoke</td>\n",
       "      <td>15</td>\n",
       "      <td>14</td>\n",
       "      <td>0.779221</td>\n",
       "      <td>0.939597</td>\n",
       "      <td>15</td>\n",
       "      <td>21</td>\n",
       "      <td>1.006711</td>\n",
       "      <td>1.090909</td>\n",
       "    </tr>\n",
       "    <tr>\n",
       "      <th>14</th>\n",
       "      <td>Sunderland</td>\n",
       "      <td>14</td>\n",
       "      <td>10</td>\n",
       "      <td>0.727273</td>\n",
       "      <td>0.671141</td>\n",
       "      <td>20</td>\n",
       "      <td>22</td>\n",
       "      <td>1.342282</td>\n",
       "      <td>1.142857</td>\n",
       "    </tr>\n",
       "    <tr>\n",
       "      <th>15</th>\n",
       "      <td>Swansea</td>\n",
       "      <td>16</td>\n",
       "      <td>13</td>\n",
       "      <td>0.831169</td>\n",
       "      <td>0.872483</td>\n",
       "      <td>28</td>\n",
       "      <td>26</td>\n",
       "      <td>1.879195</td>\n",
       "      <td>1.350649</td>\n",
       "    </tr>\n",
       "    <tr>\n",
       "      <th>16</th>\n",
       "      <td>Tottenham</td>\n",
       "      <td>26</td>\n",
       "      <td>20</td>\n",
       "      <td>1.350649</td>\n",
       "      <td>1.342282</td>\n",
       "      <td>5</td>\n",
       "      <td>11</td>\n",
       "      <td>0.335570</td>\n",
       "      <td>0.571429</td>\n",
       "    </tr>\n",
       "    <tr>\n",
       "      <th>17</th>\n",
       "      <td>Watford</td>\n",
       "      <td>17</td>\n",
       "      <td>12</td>\n",
       "      <td>0.883117</td>\n",
       "      <td>0.805369</td>\n",
       "      <td>18</td>\n",
       "      <td>22</td>\n",
       "      <td>1.208054</td>\n",
       "      <td>1.142857</td>\n",
       "    </tr>\n",
       "    <tr>\n",
       "      <th>18</th>\n",
       "      <td>West Brom</td>\n",
       "      <td>22</td>\n",
       "      <td>10</td>\n",
       "      <td>1.142857</td>\n",
       "      <td>0.671141</td>\n",
       "      <td>14</td>\n",
       "      <td>15</td>\n",
       "      <td>0.939597</td>\n",
       "      <td>0.779221</td>\n",
       "    </tr>\n",
       "    <tr>\n",
       "      <th>19</th>\n",
       "      <td>West Ham</td>\n",
       "      <td>12</td>\n",
       "      <td>20</td>\n",
       "      <td>0.623377</td>\n",
       "      <td>1.342282</td>\n",
       "      <td>20</td>\n",
       "      <td>21</td>\n",
       "      <td>1.342282</td>\n",
       "      <td>1.090909</td>\n",
       "    </tr>\n",
       "  </tbody>\n",
       "</table>\n",
       "</div>"
      ],
      "text/plain": [
       "              Team  HGS  AGS       HAS       AAS  HGC  AGC       HDS       ADS\n",
       "0          Arsenal   24   28  1.246753  1.879195   13   15  0.872483  0.779221\n",
       "1      Bournemouth   21   14  1.090909  0.939597   19   28  1.275168  1.454545\n",
       "2          Burnley   21    5  1.090909  0.335570   11   24  0.738255  1.246753\n",
       "3          Chelsea   33   18  1.714286  1.208054    7   10  0.469799  0.519481\n",
       "4   Crystal Palace   13   19  0.675325  1.275168   20   25  1.342282  1.298701\n",
       "5          Everton   25   15  1.298701  1.006711   10   17  0.671141  0.883117\n",
       "6             Hull   16    6  0.831169  0.402685   21   26  1.409396  1.350649\n",
       "7        Leicester   16    8  0.831169  0.536913   16   25  1.073826  1.298701\n",
       "8        Liverpool   29   23  1.506494  1.543624   11   19  0.738255  0.987013\n",
       "9         Man City   23   26  1.194805  1.744966   13   16  0.872483  0.831169\n",
       "10      Man United   17   19  0.883117  1.275168    9   12  0.604027  0.623377\n",
       "11   Middlesbrough   11    8  0.571429  0.536913   14   13  0.939597  0.675325\n",
       "12     Southampton   14   10  0.727273  0.671141   14   17  0.939597  0.883117\n",
       "13           Stoke   15   14  0.779221  0.939597   15   21  1.006711  1.090909\n",
       "14      Sunderland   14   10  0.727273  0.671141   20   22  1.342282  1.142857\n",
       "15         Swansea   16   13  0.831169  0.872483   28   26  1.879195  1.350649\n",
       "16       Tottenham   26   20  1.350649  1.342282    5   11  0.335570  0.571429\n",
       "17         Watford   17   12  0.883117  0.805369   18   22  1.208054  1.142857\n",
       "18       West Brom   22   10  1.142857  0.671141   14   15  0.939597  0.779221\n",
       "19        West Ham   12   20  0.623377  1.342282   20   21  1.342282  1.090909"
      ]
     },
     "execution_count": 81,
     "metadata": {},
     "output_type": "execute_result"
    }
   ],
   "source": [
    "table_16.Team = res_home.HomeTeam.all().values\n",
    "table_16.HGS = res_home.FTHG.sum().values\n",
    "table_16.HGC = res_home.FTAG.sum().values\n",
    "table_16.AGS = res_away.FTAG.sum().values\n",
    "table_16.AGC = res_away.FTHG.sum().values\n",
    "table_16"
   ]
  },
  {
   "cell_type": "code",
   "execution_count": 39,
   "metadata": {
    "collapsed": true
   },
   "outputs": [],
   "source": [
    "#Assuming number of home games = number of away games\n",
    "num_games = res_16.shape[0]/20"
   ]
  },
  {
   "cell_type": "code",
   "execution_count": 119,
   "metadata": {
    "collapsed": false
   },
   "outputs": [
    {
     "data": {
      "text/html": [
       "<div>\n",
       "<table border=\"1\" class=\"dataframe\">\n",
       "  <thead>\n",
       "    <tr style=\"text-align: right;\">\n",
       "      <th></th>\n",
       "      <th>Team</th>\n",
       "      <th>HGS</th>\n",
       "      <th>AGS</th>\n",
       "      <th>HAS</th>\n",
       "      <th>AAS</th>\n",
       "      <th>HGC</th>\n",
       "      <th>AGC</th>\n",
       "      <th>HDS</th>\n",
       "      <th>ADS</th>\n",
       "    </tr>\n",
       "  </thead>\n",
       "  <tbody>\n",
       "    <tr>\n",
       "      <th>0</th>\n",
       "      <td>Arsenal</td>\n",
       "      <td>24</td>\n",
       "      <td>28</td>\n",
       "      <td>1.246753</td>\n",
       "      <td>1.879195</td>\n",
       "      <td>13</td>\n",
       "      <td>15</td>\n",
       "      <td>0.872483</td>\n",
       "      <td>0.779221</td>\n",
       "    </tr>\n",
       "    <tr>\n",
       "      <th>1</th>\n",
       "      <td>Bournemouth</td>\n",
       "      <td>21</td>\n",
       "      <td>14</td>\n",
       "      <td>1.090909</td>\n",
       "      <td>0.939597</td>\n",
       "      <td>19</td>\n",
       "      <td>28</td>\n",
       "      <td>1.275168</td>\n",
       "      <td>1.454545</td>\n",
       "    </tr>\n",
       "    <tr>\n",
       "      <th>2</th>\n",
       "      <td>Burnley</td>\n",
       "      <td>21</td>\n",
       "      <td>5</td>\n",
       "      <td>1.090909</td>\n",
       "      <td>0.335570</td>\n",
       "      <td>11</td>\n",
       "      <td>24</td>\n",
       "      <td>0.738255</td>\n",
       "      <td>1.246753</td>\n",
       "    </tr>\n",
       "    <tr>\n",
       "      <th>3</th>\n",
       "      <td>Chelsea</td>\n",
       "      <td>33</td>\n",
       "      <td>18</td>\n",
       "      <td>1.714286</td>\n",
       "      <td>1.208054</td>\n",
       "      <td>7</td>\n",
       "      <td>10</td>\n",
       "      <td>0.469799</td>\n",
       "      <td>0.519481</td>\n",
       "    </tr>\n",
       "    <tr>\n",
       "      <th>4</th>\n",
       "      <td>Crystal Palace</td>\n",
       "      <td>13</td>\n",
       "      <td>19</td>\n",
       "      <td>0.675325</td>\n",
       "      <td>1.275168</td>\n",
       "      <td>20</td>\n",
       "      <td>25</td>\n",
       "      <td>1.342282</td>\n",
       "      <td>1.298701</td>\n",
       "    </tr>\n",
       "  </tbody>\n",
       "</table>\n",
       "</div>"
      ],
      "text/plain": [
       "             Team  HGS  AGS       HAS       AAS  HGC  AGC       HDS       ADS\n",
       "0         Arsenal   24   28  1.246753  1.879195   13   15  0.872483  0.779221\n",
       "1     Bournemouth   21   14  1.090909  0.939597   19   28  1.275168  1.454545\n",
       "2         Burnley   21    5  1.090909  0.335570   11   24  0.738255  1.246753\n",
       "3         Chelsea   33   18  1.714286  1.208054    7   10  0.469799  0.519481\n",
       "4  Crystal Palace   13   19  0.675325  1.275168   20   25  1.342282  1.298701"
      ]
     },
     "execution_count": 119,
     "metadata": {},
     "output_type": "execute_result"
    }
   ],
   "source": [
    "table_16.HAS = (table_16.HGS / num_games) / avg_home_scored_16\n",
    "table_16.AAS = (table_16.AGS / num_games) / avg_away_scored_16\n",
    "table_16.HDS = (table_16.HGC / num_games) / avg_home_conceded_16\n",
    "table_16.ADS = (table_16.AGC / num_games) / avg_away_conceded_16\n",
    "table_16.head()"
   ]
  },
  {
   "cell_type": "code",
   "execution_count": 46,
   "metadata": {
    "collapsed": false
   },
   "outputs": [],
   "source": [
    "''' feature_table contains all the fixtures in the current season.\n",
    "ftr = full time result\n",
    "hst = home shots on target\n",
    "ast = away shots on target\n",
    "'''\n",
    "\n",
    "feature_table = feature_table[['HomeTeam','AwayTeam','FTR','HST','AST']]\n",
    "f_HAS = []\n",
    "f_HDS = []\n",
    "f_AAS = []\n",
    "f_ADS = []\n",
    "for index,row in feature_table.iterrows():\n",
    "    f_HAS.append(table_16[table_16['Team'] == row['HomeTeam']]['HAS'].values[0])\n",
    "    f_HDS.append(table_16[table_16['Team'] == row['HomeTeam']]['HDS'].values[0])\n",
    "    f_AAS.append(table_16[table_16['Team'] == row['HomeTeam']]['AAS'].values[0])\n",
    "    f_ADS.append(table_16[table_16['Team'] == row['HomeTeam']]['ADS'].values[0])\n",
    "    \n",
    "feature_table['HAS'] = f_HAS\n",
    "feature_table['HDS'] = f_HDS\n",
    "feature_table['AAS'] = f_AAS\n",
    "feature_table['ADS'] = f_ADS"
   ]
  },
  {
   "cell_type": "code",
   "execution_count": 117,
   "metadata": {
    "collapsed": false
   },
   "outputs": [
    {
     "data": {
      "text/html": [
       "<div>\n",
       "<table border=\"1\" class=\"dataframe\">\n",
       "  <thead>\n",
       "    <tr style=\"text-align: right;\">\n",
       "      <th></th>\n",
       "      <th>HomeTeam</th>\n",
       "      <th>AwayTeam</th>\n",
       "      <th>FTR</th>\n",
       "      <th>HST</th>\n",
       "      <th>AST</th>\n",
       "      <th>HAS</th>\n",
       "      <th>HDS</th>\n",
       "      <th>AAS</th>\n",
       "      <th>ADS</th>\n",
       "      <th>Result</th>\n",
       "    </tr>\n",
       "  </thead>\n",
       "  <tbody>\n",
       "    <tr>\n",
       "      <th>0</th>\n",
       "      <td>Burnley</td>\n",
       "      <td>Swansea</td>\n",
       "      <td>A</td>\n",
       "      <td>3</td>\n",
       "      <td>9</td>\n",
       "      <td>1.090909</td>\n",
       "      <td>0.738255</td>\n",
       "      <td>0.335570</td>\n",
       "      <td>1.246753</td>\n",
       "      <td>-1</td>\n",
       "    </tr>\n",
       "    <tr>\n",
       "      <th>1</th>\n",
       "      <td>Crystal Palace</td>\n",
       "      <td>West Brom</td>\n",
       "      <td>A</td>\n",
       "      <td>4</td>\n",
       "      <td>3</td>\n",
       "      <td>0.675325</td>\n",
       "      <td>1.342282</td>\n",
       "      <td>1.275168</td>\n",
       "      <td>1.298701</td>\n",
       "      <td>-1</td>\n",
       "    </tr>\n",
       "    <tr>\n",
       "      <th>2</th>\n",
       "      <td>Everton</td>\n",
       "      <td>Tottenham</td>\n",
       "      <td>D</td>\n",
       "      <td>6</td>\n",
       "      <td>4</td>\n",
       "      <td>1.298701</td>\n",
       "      <td>0.671141</td>\n",
       "      <td>1.006711</td>\n",
       "      <td>0.883117</td>\n",
       "      <td>0</td>\n",
       "    </tr>\n",
       "    <tr>\n",
       "      <th>3</th>\n",
       "      <td>Hull</td>\n",
       "      <td>Leicester</td>\n",
       "      <td>H</td>\n",
       "      <td>5</td>\n",
       "      <td>5</td>\n",
       "      <td>0.831169</td>\n",
       "      <td>1.409396</td>\n",
       "      <td>0.402685</td>\n",
       "      <td>1.350649</td>\n",
       "      <td>1</td>\n",
       "    </tr>\n",
       "    <tr>\n",
       "      <th>4</th>\n",
       "      <td>Man City</td>\n",
       "      <td>Sunderland</td>\n",
       "      <td>H</td>\n",
       "      <td>4</td>\n",
       "      <td>3</td>\n",
       "      <td>1.194805</td>\n",
       "      <td>0.872483</td>\n",
       "      <td>1.744966</td>\n",
       "      <td>0.831169</td>\n",
       "      <td>1</td>\n",
       "    </tr>\n",
       "  </tbody>\n",
       "</table>\n",
       "</div>"
      ],
      "text/plain": [
       "         HomeTeam    AwayTeam FTR  HST  AST       HAS       HDS       AAS  \\\n",
       "0         Burnley     Swansea   A    3    9  1.090909  0.738255  0.335570   \n",
       "1  Crystal Palace   West Brom   A    4    3  0.675325  1.342282  1.275168   \n",
       "2         Everton   Tottenham   D    6    4  1.298701  0.671141  1.006711   \n",
       "3            Hull   Leicester   H    5    5  0.831169  1.409396  0.402685   \n",
       "4        Man City  Sunderland   H    4    3  1.194805  0.872483  1.744966   \n",
       "\n",
       "        ADS  Result  \n",
       "0  1.246753      -1  \n",
       "1  1.298701      -1  \n",
       "2  0.883117       0  \n",
       "3  1.350649       1  \n",
       "4  0.831169       1  "
      ]
     },
     "execution_count": 117,
     "metadata": {},
     "output_type": "execute_result"
    }
   ],
   "source": [
    "feature_table.head()"
   ]
  },
  {
   "cell_type": "code",
   "execution_count": 48,
   "metadata": {
    "collapsed": true
   },
   "outputs": [],
   "source": [
    "def transformResult(row):\n",
    "    '''Converts results (H,A or D) into numeric values'''\n",
    "    if(row.FTR == 'H'):\n",
    "        return 1\n",
    "    elif(row.FTR == 'A'):\n",
    "        return -1\n",
    "    else:\n",
    "        return 0"
   ]
  },
  {
   "cell_type": "code",
   "execution_count": 51,
   "metadata": {
    "collapsed": false
   },
   "outputs": [],
   "source": [
    "feature_table[\"Result\"] = feature_table.apply(lambda row: transformResult(row),axis=1)"
   ]
  },
  {
   "cell_type": "code",
   "execution_count": 52,
   "metadata": {
    "collapsed": false
   },
   "outputs": [
    {
     "data": {
      "text/html": [
       "<div>\n",
       "<table border=\"1\" class=\"dataframe\">\n",
       "  <thead>\n",
       "    <tr style=\"text-align: right;\">\n",
       "      <th></th>\n",
       "      <th>HomeTeam</th>\n",
       "      <th>AwayTeam</th>\n",
       "      <th>FTR</th>\n",
       "      <th>HST</th>\n",
       "      <th>AST</th>\n",
       "      <th>HAS</th>\n",
       "      <th>HDS</th>\n",
       "      <th>AAS</th>\n",
       "      <th>ADS</th>\n",
       "      <th>Result</th>\n",
       "    </tr>\n",
       "  </thead>\n",
       "  <tbody>\n",
       "    <tr>\n",
       "      <th>230</th>\n",
       "      <td>Chelsea</td>\n",
       "      <td>Arsenal</td>\n",
       "      <td>H</td>\n",
       "      <td>6</td>\n",
       "      <td>5</td>\n",
       "      <td>1.714286</td>\n",
       "      <td>0.469799</td>\n",
       "      <td>1.208054</td>\n",
       "      <td>0.519481</td>\n",
       "      <td>1</td>\n",
       "    </tr>\n",
       "    <tr>\n",
       "      <th>231</th>\n",
       "      <td>Crystal Palace</td>\n",
       "      <td>Sunderland</td>\n",
       "      <td>A</td>\n",
       "      <td>9</td>\n",
       "      <td>7</td>\n",
       "      <td>0.675325</td>\n",
       "      <td>1.342282</td>\n",
       "      <td>1.275168</td>\n",
       "      <td>1.298701</td>\n",
       "      <td>-1</td>\n",
       "    </tr>\n",
       "    <tr>\n",
       "      <th>232</th>\n",
       "      <td>Everton</td>\n",
       "      <td>Bournemouth</td>\n",
       "      <td>H</td>\n",
       "      <td>10</td>\n",
       "      <td>8</td>\n",
       "      <td>1.298701</td>\n",
       "      <td>0.671141</td>\n",
       "      <td>1.006711</td>\n",
       "      <td>0.883117</td>\n",
       "      <td>1</td>\n",
       "    </tr>\n",
       "    <tr>\n",
       "      <th>233</th>\n",
       "      <td>Hull</td>\n",
       "      <td>Liverpool</td>\n",
       "      <td>H</td>\n",
       "      <td>4</td>\n",
       "      <td>5</td>\n",
       "      <td>0.831169</td>\n",
       "      <td>1.409396</td>\n",
       "      <td>0.402685</td>\n",
       "      <td>1.350649</td>\n",
       "      <td>1</td>\n",
       "    </tr>\n",
       "    <tr>\n",
       "      <th>234</th>\n",
       "      <td>Southampton</td>\n",
       "      <td>West Ham</td>\n",
       "      <td>A</td>\n",
       "      <td>7</td>\n",
       "      <td>4</td>\n",
       "      <td>0.727273</td>\n",
       "      <td>0.939597</td>\n",
       "      <td>0.671141</td>\n",
       "      <td>0.883117</td>\n",
       "      <td>-1</td>\n",
       "    </tr>\n",
       "    <tr>\n",
       "      <th>235</th>\n",
       "      <td>Tottenham</td>\n",
       "      <td>Middlesbrough</td>\n",
       "      <td>H</td>\n",
       "      <td>5</td>\n",
       "      <td>0</td>\n",
       "      <td>1.350649</td>\n",
       "      <td>0.335570</td>\n",
       "      <td>1.342282</td>\n",
       "      <td>0.571429</td>\n",
       "      <td>1</td>\n",
       "    </tr>\n",
       "    <tr>\n",
       "      <th>236</th>\n",
       "      <td>Watford</td>\n",
       "      <td>Burnley</td>\n",
       "      <td>H</td>\n",
       "      <td>7</td>\n",
       "      <td>7</td>\n",
       "      <td>0.883117</td>\n",
       "      <td>1.208054</td>\n",
       "      <td>0.805369</td>\n",
       "      <td>1.142857</td>\n",
       "      <td>1</td>\n",
       "    </tr>\n",
       "    <tr>\n",
       "      <th>237</th>\n",
       "      <td>West Brom</td>\n",
       "      <td>Stoke</td>\n",
       "      <td>H</td>\n",
       "      <td>4</td>\n",
       "      <td>2</td>\n",
       "      <td>1.142857</td>\n",
       "      <td>0.939597</td>\n",
       "      <td>0.671141</td>\n",
       "      <td>0.779221</td>\n",
       "      <td>1</td>\n",
       "    </tr>\n",
       "    <tr>\n",
       "      <th>238</th>\n",
       "      <td>Leicester</td>\n",
       "      <td>Man United</td>\n",
       "      <td>A</td>\n",
       "      <td>1</td>\n",
       "      <td>9</td>\n",
       "      <td>0.831169</td>\n",
       "      <td>1.073826</td>\n",
       "      <td>0.536913</td>\n",
       "      <td>1.298701</td>\n",
       "      <td>-1</td>\n",
       "    </tr>\n",
       "    <tr>\n",
       "      <th>239</th>\n",
       "      <td>Man City</td>\n",
       "      <td>Swansea</td>\n",
       "      <td>H</td>\n",
       "      <td>5</td>\n",
       "      <td>2</td>\n",
       "      <td>1.194805</td>\n",
       "      <td>0.872483</td>\n",
       "      <td>1.744966</td>\n",
       "      <td>0.831169</td>\n",
       "      <td>1</td>\n",
       "    </tr>\n",
       "  </tbody>\n",
       "</table>\n",
       "</div>"
      ],
      "text/plain": [
       "           HomeTeam       AwayTeam FTR  HST  AST       HAS       HDS  \\\n",
       "230         Chelsea        Arsenal   H    6    5  1.714286  0.469799   \n",
       "231  Crystal Palace     Sunderland   A    9    7  0.675325  1.342282   \n",
       "232         Everton    Bournemouth   H   10    8  1.298701  0.671141   \n",
       "233            Hull      Liverpool   H    4    5  0.831169  1.409396   \n",
       "234     Southampton       West Ham   A    7    4  0.727273  0.939597   \n",
       "235       Tottenham  Middlesbrough   H    5    0  1.350649  0.335570   \n",
       "236         Watford        Burnley   H    7    7  0.883117  1.208054   \n",
       "237       West Brom          Stoke   H    4    2  1.142857  0.939597   \n",
       "238       Leicester     Man United   A    1    9  0.831169  1.073826   \n",
       "239        Man City        Swansea   H    5    2  1.194805  0.872483   \n",
       "\n",
       "          AAS       ADS  Result  \n",
       "230  1.208054  0.519481       1  \n",
       "231  1.275168  1.298701      -1  \n",
       "232  1.006711  0.883117       1  \n",
       "233  0.402685  1.350649       1  \n",
       "234  0.671141  0.883117      -1  \n",
       "235  1.342282  0.571429       1  \n",
       "236  0.805369  1.142857       1  \n",
       "237  0.671141  0.779221       1  \n",
       "238  0.536913  1.298701      -1  \n",
       "239  1.744966  0.831169       1  "
      ]
     },
     "execution_count": 52,
     "metadata": {},
     "output_type": "execute_result"
    }
   ],
   "source": [
    "feature_table.tail(10)"
   ]
  },
  {
   "cell_type": "code",
   "execution_count": 53,
   "metadata": {
    "collapsed": false
   },
   "outputs": [],
   "source": [
    "X_train = feature_table[['HST','AST','HAS','HDS','AAS','ADS',]]\n",
    "y_train = feature_table['Result']"
   ]
  },
  {
   "cell_type": "code",
   "execution_count": 209,
   "metadata": {
    "collapsed": false
   },
   "outputs": [],
   "source": [
    "from sklearn.tree import DecisionTreeClassifier\n",
    "from sklearn.naive_bayes import MultinomialNB\n",
    "from xgboost import XGBClassifier\n",
    "from sklearn.metrics import accuracy_score\n",
    "from sklearn.model_selection import cross_val_score\n",
    "from sklearn.linear_model import LogisticRegression\n",
    "from sklearn.ensemble import RandomForestClassifier\n",
    "from sklearn.neighbors import KNeighborsClassifier\n",
    "from sklearn.ensemble import voting_classifier"
   ]
  },
  {
   "cell_type": "code",
   "execution_count": 67,
   "metadata": {
    "collapsed": false
   },
   "outputs": [],
   "source": [
    "clf1 = RandomForestClassifier()\n",
    "clf2 = MultinomialNB()\n",
    "clf3 = XGBClassifier()"
   ]
  },
  {
   "cell_type": "code",
   "execution_count": 69,
   "metadata": {
    "collapsed": false
   },
   "outputs": [
    {
     "name": "stdout",
     "output_type": "stream",
     "text": [
      "[ 0.48        0.28        0.56        0.52        0.48        0.52173913\n",
      "  0.65217391  0.60869565  0.56521739  0.47826087]\n",
      "0.514608695652\n"
     ]
    }
   ],
   "source": [
    "y_pred = clf1.fit(X_train,y_train).predict(X_train)\n",
    "accuracy_score(y_pred,y_train)\n",
    "scores = cross_val_score(clf1, X_train, y_train, cv=10)\n",
    "print scores\n",
    "print scores.mean()"
   ]
  },
  {
   "cell_type": "code",
   "execution_count": 70,
   "metadata": {
    "collapsed": false
   },
   "outputs": [
    {
     "name": "stdout",
     "output_type": "stream",
     "text": [
      "[ 0.6         0.6         0.56        0.56        0.68        0.56521739\n",
      "  0.7826087   0.69565217  0.60869565  0.56521739]\n",
      "0.621739130435\n"
     ]
    }
   ],
   "source": [
    "y_pred = clf2.fit(X_train,y_train).predict(X_train)\n",
    "accuracy_score(y_pred,y_train)\n",
    "scores = cross_val_score(clf2, X_train, y_train, cv=10)\n",
    "print scores\n",
    "print scores.mean()"
   ]
  },
  {
   "cell_type": "code",
   "execution_count": 73,
   "metadata": {
    "collapsed": false
   },
   "outputs": [
    {
     "name": "stdout",
     "output_type": "stream",
     "text": [
      "[ 0.44        0.48        0.6         0.44        0.52        0.52173913\n",
      "  0.69565217  0.52173913  0.60869565  0.56521739]\n",
      "0.539304347826\n"
     ]
    }
   ],
   "source": [
    "y_pred = clf3.fit(X_train, y_train).predict(X_train)\n",
    "accuracy_score(y_pred,y_train)\n",
    "scores = cross_val_score(clf3, X_train, y_train, cv=10)\n",
    "print scores\n",
    "print scores.mean()"
   ]
  },
  {
   "cell_type": "markdown",
   "metadata": {},
   "source": [
    "## Adding Recent Performance"
   ]
  },
  {
   "cell_type": "code",
   "execution_count": 134,
   "metadata": {
    "collapsed": false
   },
   "outputs": [],
   "source": [
    "#What is this for?\n",
    "ht = res_16.loc[40].HomeTeam\n",
    "at = res_16.loc[40].AwayTeam"
   ]
  },
  {
   "cell_type": "code",
   "execution_count": 150,
   "metadata": {
    "collapsed": false
   },
   "outputs": [],
   "source": [
    "feat_table = res_16.sort_index(ascending=False)\n",
    "feat_table = feat_table[['HomeTeam','AwayTeam','FTR','FTHG','FTAG','HS','AS','HC','AC']]"
   ]
  },
  {
   "cell_type": "code",
   "execution_count": 151,
   "metadata": {
    "collapsed": false
   },
   "outputs": [],
   "source": [
    "# Adding next week fixtures\n",
    "new_fixtures = pd.DataFrame( [['Arsenal','Hull','D',0,0,0,0,0,0],\n",
    "                             ['Stoke','Crystal Palace','D',0,0,0,0,0,0],\n",
    "                             ['Man United','Watford','D',0,0,0,0,0,0],\n",
    "                             ['Middlesbrough','Everton','D',0,0,0,0,0,0],\n",
    "                             ['West Ham','West Brom','D',0,0,0,0,0,0],\n",
    "                             ['Sunderland','Southampton','D',0,0,0,0,0,0],\n",
    "                             ['Liverpool','Tottenham','D',0,0,0,0,0,0],\n",
    "                             ['Burnley','Chelsea','D',0,0,0,0,0,0],\n",
    "                             ['Swansea','Leicester','D',0,0,0,0,0,0],\n",
    "                             ['Bournemouth','Man City','D',0,0,0,0,0,0]],columns=feat_table.columns)"
   ]
  },
  {
   "cell_type": "code",
   "execution_count": 149,
   "metadata": {
    "collapsed": false
   },
   "outputs": [],
   "source": [
    "#del new_feat_table"
   ]
  },
  {
   "cell_type": "code",
   "execution_count": 152,
   "metadata": {
    "collapsed": false
   },
   "outputs": [
    {
     "data": {
      "text/plain": [
       "(250, 9)"
      ]
     },
     "execution_count": 152,
     "metadata": {},
     "output_type": "execute_result"
    }
   ],
   "source": [
    "new_feat_table = new_fixtures.append(feat_table,ignore_index=True)\n",
    "new_feat_table = new_feat_table.sort_index(ascending=False)\n",
    "new_feat_table = new_feat_table.reset_index().drop(['index'], axis=1)\n",
    "new_feat_table = new_feat_table.sort_index(ascending=False)\n",
    "# feat_table = n\n",
    "feat_table = new_feat_table\n",
    "feat_table.shape"
   ]
  },
  {
   "cell_type": "code",
   "execution_count": 153,
   "metadata": {
    "collapsed": true
   },
   "outputs": [],
   "source": [
    "#Adding k recent performance measures\n",
    "feat_table[\"pastHS\"] = 0.0\n",
    "feat_table[\"pastHC\"] = 0.0\n",
    "feat_table[\"pastAS\"] = 0.0\n",
    "feat_table[\"pastAC\"] = 0.0\n",
    "feat_table[\"pastHG\"] = 0.0\n",
    "feat_table[\"pastAG\"] = 0.0"
   ]
  },
  {
   "cell_type": "code",
   "execution_count": 154,
   "metadata": {
    "collapsed": false
   },
   "outputs": [
    {
     "data": {
      "text/html": [
       "<div>\n",
       "<table border=\"1\" class=\"dataframe\">\n",
       "  <thead>\n",
       "    <tr style=\"text-align: right;\">\n",
       "      <th></th>\n",
       "      <th>HomeTeam</th>\n",
       "      <th>AwayTeam</th>\n",
       "      <th>FTR</th>\n",
       "      <th>FTHG</th>\n",
       "      <th>FTAG</th>\n",
       "      <th>HS</th>\n",
       "      <th>AS</th>\n",
       "      <th>HC</th>\n",
       "      <th>AC</th>\n",
       "      <th>pastHS</th>\n",
       "      <th>pastHC</th>\n",
       "      <th>pastAS</th>\n",
       "      <th>pastAC</th>\n",
       "      <th>pastHG</th>\n",
       "      <th>pastAG</th>\n",
       "    </tr>\n",
       "  </thead>\n",
       "  <tbody>\n",
       "    <tr>\n",
       "      <th>249</th>\n",
       "      <td>Arsenal</td>\n",
       "      <td>Hull</td>\n",
       "      <td>D</td>\n",
       "      <td>0</td>\n",
       "      <td>0</td>\n",
       "      <td>0</td>\n",
       "      <td>0</td>\n",
       "      <td>0</td>\n",
       "      <td>0</td>\n",
       "      <td>0.0</td>\n",
       "      <td>0.0</td>\n",
       "      <td>0.0</td>\n",
       "      <td>0.0</td>\n",
       "      <td>0.0</td>\n",
       "      <td>0.0</td>\n",
       "    </tr>\n",
       "    <tr>\n",
       "      <th>248</th>\n",
       "      <td>Stoke</td>\n",
       "      <td>Crystal Palace</td>\n",
       "      <td>D</td>\n",
       "      <td>0</td>\n",
       "      <td>0</td>\n",
       "      <td>0</td>\n",
       "      <td>0</td>\n",
       "      <td>0</td>\n",
       "      <td>0</td>\n",
       "      <td>0.0</td>\n",
       "      <td>0.0</td>\n",
       "      <td>0.0</td>\n",
       "      <td>0.0</td>\n",
       "      <td>0.0</td>\n",
       "      <td>0.0</td>\n",
       "    </tr>\n",
       "    <tr>\n",
       "      <th>247</th>\n",
       "      <td>Man United</td>\n",
       "      <td>Watford</td>\n",
       "      <td>D</td>\n",
       "      <td>0</td>\n",
       "      <td>0</td>\n",
       "      <td>0</td>\n",
       "      <td>0</td>\n",
       "      <td>0</td>\n",
       "      <td>0</td>\n",
       "      <td>0.0</td>\n",
       "      <td>0.0</td>\n",
       "      <td>0.0</td>\n",
       "      <td>0.0</td>\n",
       "      <td>0.0</td>\n",
       "      <td>0.0</td>\n",
       "    </tr>\n",
       "    <tr>\n",
       "      <th>246</th>\n",
       "      <td>Middlesbrough</td>\n",
       "      <td>Everton</td>\n",
       "      <td>D</td>\n",
       "      <td>0</td>\n",
       "      <td>0</td>\n",
       "      <td>0</td>\n",
       "      <td>0</td>\n",
       "      <td>0</td>\n",
       "      <td>0</td>\n",
       "      <td>0.0</td>\n",
       "      <td>0.0</td>\n",
       "      <td>0.0</td>\n",
       "      <td>0.0</td>\n",
       "      <td>0.0</td>\n",
       "      <td>0.0</td>\n",
       "    </tr>\n",
       "    <tr>\n",
       "      <th>245</th>\n",
       "      <td>West Ham</td>\n",
       "      <td>West Brom</td>\n",
       "      <td>D</td>\n",
       "      <td>0</td>\n",
       "      <td>0</td>\n",
       "      <td>0</td>\n",
       "      <td>0</td>\n",
       "      <td>0</td>\n",
       "      <td>0</td>\n",
       "      <td>0.0</td>\n",
       "      <td>0.0</td>\n",
       "      <td>0.0</td>\n",
       "      <td>0.0</td>\n",
       "      <td>0.0</td>\n",
       "      <td>0.0</td>\n",
       "    </tr>\n",
       "  </tbody>\n",
       "</table>\n",
       "</div>"
      ],
      "text/plain": [
       "          HomeTeam        AwayTeam FTR  FTHG  FTAG  HS  AS  HC  AC  pastHS  \\\n",
       "249        Arsenal            Hull   D     0     0   0   0   0   0     0.0   \n",
       "248          Stoke  Crystal Palace   D     0     0   0   0   0   0     0.0   \n",
       "247     Man United         Watford   D     0     0   0   0   0   0     0.0   \n",
       "246  Middlesbrough         Everton   D     0     0   0   0   0   0     0.0   \n",
       "245       West Ham       West Brom   D     0     0   0   0   0   0     0.0   \n",
       "\n",
       "     pastHC  pastAS  pastAC  pastHG  pastAG  \n",
       "249     0.0     0.0     0.0     0.0     0.0  \n",
       "248     0.0     0.0     0.0     0.0     0.0  \n",
       "247     0.0     0.0     0.0     0.0     0.0  \n",
       "246     0.0     0.0     0.0     0.0     0.0  \n",
       "245     0.0     0.0     0.0     0.0     0.0  "
      ]
     },
     "execution_count": 154,
     "metadata": {},
     "output_type": "execute_result"
    }
   ],
   "source": [
    "feat_table.head()"
   ]
  },
  {
   "cell_type": "code",
   "execution_count": 156,
   "metadata": {
    "collapsed": false
   },
   "outputs": [],
   "source": [
    "for index,row in feat_table.iterrows():\n",
    "    #print row['HomeTeam'], table_16[table_16['Team'] == row['HomeTeam']]['HAS'].values"
   ]
  },
  {
   "cell_type": "code",
   "execution_count": null,
   "metadata": {
    "collapsed": true
   },
   "outputs": [],
   "source": []
  },
  {
   "cell_type": "code",
   "execution_count": 328,
   "metadata": {
    "collapsed": false,
    "scrolled": true
   },
   "outputs": [
    {
     "name": "stderr",
     "output_type": "stream",
     "text": [
      "/home/sibi/acad/prog_tools/anaconda2/lib/python2.7/site-packages/ipykernel/__main__.py:7: UserWarning: Boolean Series key will be reindexed to match DataFrame index.\n",
      "/home/sibi/acad/prog_tools/anaconda2/lib/python2.7/site-packages/ipykernel/__main__.py:8: UserWarning: Boolean Series key will be reindexed to match DataFrame index.\n"
     ]
    }
   ],
   "source": [
    "# Adding k recent performance metrics. Change value of k.\n",
    "k = 4\n",
    "for i in range(feat_table.shape[0]-1,-1,-1):\n",
    "    row = feat_table.loc[i]\n",
    "    ht = row.HomeTeam\n",
    "    at = row.AwayTeam\n",
    "    ht_stats = feat_table.loc[i-1:-1][(feat_table.HomeTeam == ht) | (feat_table.AwayTeam == ht)].head(k)\n",
    "    at_stats = feat_table.loc[i-1:-1][(feat_table.HomeTeam == at) | (feat_table.AwayTeam == at)].head(k)\n",
    "\n",
    "    feat_table.set_value(i, 'pastHC', (ht_stats[ht_stats[\"AwayTeam\"] == ht].sum().HC + ht_stats[ht_stats[\"HomeTeam\"] == ht].sum().HC)/k)\n",
    "    feat_table.set_value(i, 'pastAC', (at_stats[at_stats[\"AwayTeam\"] == at].sum().HC + at_stats[at_stats[\"HomeTeam\"] == at].sum().HC)/k)\n",
    "    feat_table.set_value(i, 'pastHS', (ht_stats[ht_stats[\"AwayTeam\"] == ht].sum().HS + ht_stats[ht_stats[\"HomeTeam\"] == ht].sum().AS)/k)\n",
    "    feat_table.set_value(i, 'pastAS', (at_stats[at_stats[\"AwayTeam\"] == at].sum().HS + at_stats[at_stats[\"HomeTeam\"] == at].sum().AS)/k)\n",
    "    feat_table.set_value(i, 'pastHG', (ht_stats[ht_stats[\"AwayTeam\"] == ht].sum().FTAG + ht_stats[ht_stats[\"HomeTeam\"] == ht].sum().FTHG)/k)\n",
    "    feat_table.set_value(i, 'pastAG', (at_stats[at_stats[\"AwayTeam\"] == at].sum().FTAG + at_stats[at_stats[\"HomeTeam\"] == at].sum().FTHG)/k)\n",
    "\n",
    "f_HAS = []\n",
    "f_HDS = []\n",
    "f_AAS = []\n",
    "f_ADS = []\n",
    "for index,row in feat_table.iterrows():\n",
    "    f_HAS.append(table_16[table_16['Team'] == row['HomeTeam']]['HAS'].values[0])\n",
    "    f_HDS.append(table_16[table_16['Team'] == row['HomeTeam']]['HDS'].values[0])\n",
    "    f_AAS.append(table_16[table_16['Team'] == row['HomeTeam']]['AAS'].values[0])\n",
    "    f_ADS.append(table_16[table_16['Team'] == row['HomeTeam']]['ADS'].values[0])\n",
    "    \n",
    "feat_table['HAS'] = f_HAS\n",
    "feat_table['HDS'] = f_HDS\n",
    "feat_table['AAS'] = f_AAS\n",
    "feat_table['ADS'] = f_ADS"
   ]
  },
  {
   "cell_type": "code",
   "execution_count": 329,
   "metadata": {
    "collapsed": false
   },
   "outputs": [],
   "source": [
    "test_table = feat_table.drop(['FTHG','FTAG','HS','AS','HC','AC'],axis=1)"
   ]
  },
  {
   "cell_type": "code",
   "execution_count": 330,
   "metadata": {
    "collapsed": false
   },
   "outputs": [],
   "source": [
    "test_table[\"Result\"] = test_table.apply(lambda row: transformResult(row),axis=1)\n",
    "test_table.sort_index(inplace=True)"
   ]
  },
  {
   "cell_type": "code",
   "execution_count": 331,
   "metadata": {
    "collapsed": false
   },
   "outputs": [
    {
     "name": "stdout",
     "output_type": "stream",
     "text": [
      "(250, 19)\n"
     ]
    },
    {
     "data": {
      "text/plain": [
       "240"
      ]
     },
     "execution_count": 331,
     "metadata": {},
     "output_type": "execute_result"
    }
   ],
   "source": [
    "# num_games decides the train-test split\n",
    "print feat_table.shape\n",
    "num_games = feat_table.shape[0]-10\n",
    "num_games"
   ]
  },
  {
   "cell_type": "code",
   "execution_count": 332,
   "metadata": {
    "collapsed": false
   },
   "outputs": [],
   "source": [
    "X_train = test_table[['pastHS','pastHC','pastAS','pastAC','pastHG','pastAG','HAS','HDS','AAS','ADS']].loc[0:num_games]\n",
    "y_train = test_table['Result'].loc[0:num_games]\n",
    "X_test = test_table[['pastHS','pastHC','pastAS','pastAC','pastHG','pastAG','HAS','HDS','AAS','ADS']].loc[num_games:]\n",
    "y_test = test_table['Result'].loc[num_games:]"
   ]
  },
  {
   "cell_type": "code",
   "execution_count": 333,
   "metadata": {
    "collapsed": true
   },
   "outputs": [],
   "source": [
    "### Try predictions here too."
   ]
  },
  {
   "cell_type": "markdown",
   "metadata": {
    "collapsed": true
   },
   "source": [
    "# Adding home advantage"
   ]
  },
  {
   "cell_type": "code",
   "execution_count": 334,
   "metadata": {
    "collapsed": false
   },
   "outputs": [],
   "source": [
    "test_table[\"pastCornerDiff\"] = (test_table[\"pastHC\"] - test_table[\"pastAC\"])/k\n",
    "test_table[\"pastGoalDiff\"] = (test_table[\"pastHG\"] - test_table[\"pastAG\"])/k\n",
    "test_table[\"pastShotsDiff\"] = (test_table[\"pastHS\"] - test_table[\"pastAG\"])/k"
   ]
  },
  {
   "cell_type": "code",
   "execution_count": 335,
   "metadata": {
    "collapsed": false
   },
   "outputs": [],
   "source": [
    "''' number of games to exclude in the training set for validation\n",
    "For example, if 240 games have been played, test_table has 250 fixtures - the last 10 being the ones that haven't\n",
    "been played. So, we set aside 20 fixtures from the training set containing 240 fixtures for validation.''' \n",
    "num_games\n",
    "v_split = 20\n",
    "n_games = num_games - v_split"
   ]
  },
  {
   "cell_type": "code",
   "execution_count": 336,
   "metadata": {
    "collapsed": false
   },
   "outputs": [],
   "source": [
    "test_table.drop(['pastHC','pastAS','pastAC','pastHG','pastAG'],axis=1)\n",
    "X_train = test_table[['pastCornerDiff','pastGoalDiff','pastShotsDiff','HAS','HDS','AAS','ADS']].loc[0:n_games]\n",
    "y_train = test_table['Result'].loc[0:n_games]\n",
    "X_test = test_table[['pastCornerDiff','pastGoalDiff','pastShotsDiff','HAS','HDS','AAS','ADS']].loc[n_games:num_games-1]\n",
    "y_test = test_table['Result'].loc[n_games:num_games-1]\n",
    "X_predict = test_table[['pastCornerDiff','pastGoalDiff','pastShotsDiff','HAS','HDS','AAS','ADS']].loc[num_games:]"
   ]
  },
  {
   "cell_type": "code",
   "execution_count": 337,
   "metadata": {
    "collapsed": false
   },
   "outputs": [
    {
     "data": {
      "text/plain": [
       "LogisticRegression(C=10, class_weight=None, dual=False, fit_intercept=True,\n",
       "          intercept_scaling=1, max_iter=100, multi_class='multinomial',\n",
       "          n_jobs=1, penalty='l2', random_state=None, solver='lbfgs',\n",
       "          tol=0.0001, verbose=0, warm_start=False)"
      ]
     },
     "execution_count": 337,
     "metadata": {},
     "output_type": "execute_result"
    }
   ],
   "source": [
    "# clf1.fit(X_train,y_train)\n",
    "# #clf2.fit(X_train,y_train)\n",
    "# clf3.fit(X_train,y_train)\n",
    "# clf4.fit(X_train,y_train)\n",
    "# clf5.fit(X_train,y_train)\n",
    "# clf6.fit(X_train,y_train)"
   ]
  },
  {
   "cell_type": "code",
   "execution_count": 392,
   "metadata": {
    "collapsed": false
   },
   "outputs": [],
   "source": [
    "#KNN\n",
    "plot_scores_knn = []\n",
    "for b in xrange(1,50):\n",
    "    clf_knn = KNeighborsClassifier(n_neighbors=b)\n",
    "    clf_knn.fit(X_train,y_train)\n",
    "    scores = accuracy_score(y_test,clf_knn.predict(X_test))\n",
    "    plot_scores_knn.append(scores)\n",
    "\n",
    "#XGBClassifier\n",
    "plot_scores_xgb = []\n",
    "for i in xrange(1,100):\n",
    "    clf_XGB = XGBClassifier(n_estimators=i,max_depth=100)\n",
    "    clf_XGB.fit(X_train, y_train)\n",
    "    scores = accuracy_score(y_test,clf_XGB.predict(X_test))\n",
    "    plot_scores_xgb.append(scores)\n",
    "    \n",
    "#Logistic Regression\n",
    "plot_scores_logreg= []\n",
    "cs = [0.01,0.02,0.1,0.5,1,3,4,5,10]\n",
    "for c in cs:\n",
    "    clf_logreg = LogisticRegression(C=c,solver='lbfgs',multi_class='ovr')\n",
    "    clf_logreg.fit(X_train, y_train)\n",
    "    scores = accuracy_score(y_test,clf_logreg.predict(X_test))\n",
    "    plot_scores_logreg.append(scores)"
   ]
  },
  {
   "cell_type": "code",
   "execution_count": 393,
   "metadata": {
    "collapsed": false
   },
   "outputs": [
    {
     "data": {
      "text/plain": [
       "<matplotlib.text.Text at 0x7f1e9b7e9c10>"
      ]
     },
     "execution_count": 393,
     "metadata": {},
     "output_type": "execute_result"
    },
    {
     "data": {
      "image/png": "[encoded data removed]",
      "text/plain": [
       "<matplotlib.figure.Figure at 0x7f1e9bc74ad0>"
      ]
     },
     "metadata": {},
     "output_type": "display_data"
    }
   ],
   "source": [
    "fig = plt.figure(figsize = (16,4))\n",
    "plt.style.use('ggplot')\n",
    "\n",
    "ax1 = fig.add_subplot(1,3,1)\n",
    "ax1.plot(xrange(1,50),plot_scores_knn);\n",
    "ax1.set_title(\"KNN - Accuracy vs N\")\n",
    "ax1.set_xticks(xrange(1,50,5));\n",
    "\n",
    "ax2 = fig.add_subplot(1,3,2)\n",
    "ax2.plot(xrange(1,100),plot_scores_xgb);\n",
    "ax2.set_xticks(xrange(1,100,6));\n",
    "ax2.set_title(\"XGB - Accuracy vs n_estimators\")\n",
    "\n",
    "ax3 = fig.add_subplot(1,3,3)\n",
    "ax3.plot(xrange(1,10),plot_scores_logreg);\n",
    "ax3.set_xticks(xrange(1,10));\n",
    "ax3.set_title(\"Logistic Regression - Accuracy vs C\")"
   ]
  },
  {
   "cell_type": "code",
   "execution_count": 394,
   "metadata": {
    "collapsed": false
   },
   "outputs": [],
   "source": [
    "clf_knn = KNeighborsClassifier(n_neighbors=17).fit(X_train,y_train)\n",
    "clf_XGB = XGBClassifier(n_estimators=16).fit(X_train,y_train)"
   ]
  },
  {
   "cell_type": "code",
   "execution_count": 395,
   "metadata": {
    "collapsed": false
   },
   "outputs": [],
   "source": [
    "y_pred_knn = clf_knn.predict(X_predict)\n",
    "y_pred_XGB = clf_XGB.predict(X_predict)"
   ]
  },
  {
   "cell_type": "code",
   "execution_count": 396,
   "metadata": {
    "collapsed": false
   },
   "outputs": [],
   "source": [
    "this_week = test_table[['HomeTeam','AwayTeam']].loc[num_games:]\n",
    "this_week['Result_knn']=y_pred_knn\n",
    "this_week['Result_XGB']=y_pred_XGB"
   ]
  },
  {
   "cell_type": "code",
   "execution_count": 397,
   "metadata": {
    "collapsed": false
   },
   "outputs": [
    {
     "data": {
      "text/html": [
       "<div>\n",
       "<table border=\"1\" class=\"dataframe\">\n",
       "  <thead>\n",
       "    <tr style=\"text-align: right;\">\n",
       "      <th></th>\n",
       "      <th>HomeTeam</th>\n",
       "      <th>AwayTeam</th>\n",
       "      <th>Result_knn</th>\n",
       "      <th>Result_XGB</th>\n",
       "    </tr>\n",
       "  </thead>\n",
       "  <tbody>\n",
       "    <tr>\n",
       "      <th>240</th>\n",
       "      <td>Bournemouth</td>\n",
       "      <td>Man City</td>\n",
       "      <td>-1</td>\n",
       "      <td>1</td>\n",
       "    </tr>\n",
       "    <tr>\n",
       "      <th>241</th>\n",
       "      <td>Swansea</td>\n",
       "      <td>Leicester</td>\n",
       "      <td>-1</td>\n",
       "      <td>-1</td>\n",
       "    </tr>\n",
       "    <tr>\n",
       "      <th>242</th>\n",
       "      <td>Burnley</td>\n",
       "      <td>Chelsea</td>\n",
       "      <td>1</td>\n",
       "      <td>1</td>\n",
       "    </tr>\n",
       "    <tr>\n",
       "      <th>243</th>\n",
       "      <td>Liverpool</td>\n",
       "      <td>Tottenham</td>\n",
       "      <td>1</td>\n",
       "      <td>1</td>\n",
       "    </tr>\n",
       "    <tr>\n",
       "      <th>244</th>\n",
       "      <td>Sunderland</td>\n",
       "      <td>Southampton</td>\n",
       "      <td>0</td>\n",
       "      <td>1</td>\n",
       "    </tr>\n",
       "    <tr>\n",
       "      <th>245</th>\n",
       "      <td>West Ham</td>\n",
       "      <td>West Brom</td>\n",
       "      <td>1</td>\n",
       "      <td>1</td>\n",
       "    </tr>\n",
       "    <tr>\n",
       "      <th>246</th>\n",
       "      <td>Middlesbrough</td>\n",
       "      <td>Everton</td>\n",
       "      <td>-1</td>\n",
       "      <td>-1</td>\n",
       "    </tr>\n",
       "    <tr>\n",
       "      <th>247</th>\n",
       "      <td>Man United</td>\n",
       "      <td>Watford</td>\n",
       "      <td>1</td>\n",
       "      <td>0</td>\n",
       "    </tr>\n",
       "    <tr>\n",
       "      <th>248</th>\n",
       "      <td>Stoke</td>\n",
       "      <td>Crystal Palace</td>\n",
       "      <td>1</td>\n",
       "      <td>1</td>\n",
       "    </tr>\n",
       "    <tr>\n",
       "      <th>249</th>\n",
       "      <td>Arsenal</td>\n",
       "      <td>Hull</td>\n",
       "      <td>1</td>\n",
       "      <td>1</td>\n",
       "    </tr>\n",
       "  </tbody>\n",
       "</table>\n",
       "</div>"
      ],
      "text/plain": [
       "          HomeTeam        AwayTeam  Result_knn  Result_XGB\n",
       "240    Bournemouth        Man City          -1           1\n",
       "241        Swansea       Leicester          -1          -1\n",
       "242        Burnley         Chelsea           1           1\n",
       "243      Liverpool       Tottenham           1           1\n",
       "244     Sunderland     Southampton           0           1\n",
       "245       West Ham       West Brom           1           1\n",
       "246  Middlesbrough         Everton          -1          -1\n",
       "247     Man United         Watford           1           0\n",
       "248          Stoke  Crystal Palace           1           1\n",
       "249        Arsenal            Hull           1           1"
      ]
     },
     "execution_count": 397,
     "metadata": {},
     "output_type": "execute_result"
    }
   ],
   "source": [
    "this_week"
   ]
  },
  {
   "cell_type": "code",
   "execution_count": 398,
   "metadata": {
    "collapsed": true
   },
   "outputs": [],
   "source": [
    "def transformknnResultBack(row):\n",
    "    if(row.Result_knn == 1):\n",
    "        return 'H'\n",
    "    elif(row.Result_knn == -1):\n",
    "        return 'A'\n",
    "    else:\n",
    "        return 'D'\n",
    "    \n",
    "def transformXGBResultBack(row):\n",
    "    if(row.Result_XGB == 1):\n",
    "        return 'H'\n",
    "    elif(row.Result_XGB == -1):\n",
    "        return 'A'\n",
    "    else:\n",
    "        return 'D'\n"
   ]
  },
  {
   "cell_type": "code",
   "execution_count": 399,
   "metadata": {
    "collapsed": false
   },
   "outputs": [],
   "source": [
    "this_week[\"Res_knn\"] = this_week.apply(lambda row: transformknnResultBack(row),axis=1)\n",
    "this_week[\"Res_XGB\"] = this_week.apply(lambda row: transformXGBResultBack(row),axis=1)\n",
    "this_week.drop([\"Result_knn\", \"Result_XGB\"],axis=1,inplace=True)"
   ]
  },
  {
   "cell_type": "code",
   "execution_count": 400,
   "metadata": {
    "collapsed": false
   },
   "outputs": [
    {
     "data": {
      "text/html": [
       "<div>\n",
       "<table border=\"1\" class=\"dataframe\">\n",
       "  <thead>\n",
       "    <tr style=\"text-align: right;\">\n",
       "      <th></th>\n",
       "      <th>HomeTeam</th>\n",
       "      <th>AwayTeam</th>\n",
       "      <th>Res_knn</th>\n",
       "      <th>Res_XGB</th>\n",
       "    </tr>\n",
       "  </thead>\n",
       "  <tbody>\n",
       "    <tr>\n",
       "      <th>240</th>\n",
       "      <td>Bournemouth</td>\n",
       "      <td>Man City</td>\n",
       "      <td>A</td>\n",
       "      <td>H</td>\n",
       "    </tr>\n",
       "    <tr>\n",
       "      <th>241</th>\n",
       "      <td>Swansea</td>\n",
       "      <td>Leicester</td>\n",
       "      <td>A</td>\n",
       "      <td>A</td>\n",
       "    </tr>\n",
       "    <tr>\n",
       "      <th>242</th>\n",
       "      <td>Burnley</td>\n",
       "      <td>Chelsea</td>\n",
       "      <td>H</td>\n",
       "      <td>H</td>\n",
       "    </tr>\n",
       "    <tr>\n",
       "      <th>243</th>\n",
       "      <td>Liverpool</td>\n",
       "      <td>Tottenham</td>\n",
       "      <td>H</td>\n",
       "      <td>H</td>\n",
       "    </tr>\n",
       "    <tr>\n",
       "      <th>244</th>\n",
       "      <td>Sunderland</td>\n",
       "      <td>Southampton</td>\n",
       "      <td>D</td>\n",
       "      <td>H</td>\n",
       "    </tr>\n",
       "    <tr>\n",
       "      <th>245</th>\n",
       "      <td>West Ham</td>\n",
       "      <td>West Brom</td>\n",
       "      <td>H</td>\n",
       "      <td>H</td>\n",
       "    </tr>\n",
       "    <tr>\n",
       "      <th>246</th>\n",
       "      <td>Middlesbrough</td>\n",
       "      <td>Everton</td>\n",
       "      <td>A</td>\n",
       "      <td>A</td>\n",
       "    </tr>\n",
       "    <tr>\n",
       "      <th>247</th>\n",
       "      <td>Man United</td>\n",
       "      <td>Watford</td>\n",
       "      <td>H</td>\n",
       "      <td>D</td>\n",
       "    </tr>\n",
       "    <tr>\n",
       "      <th>248</th>\n",
       "      <td>Stoke</td>\n",
       "      <td>Crystal Palace</td>\n",
       "      <td>H</td>\n",
       "      <td>H</td>\n",
       "    </tr>\n",
       "    <tr>\n",
       "      <th>249</th>\n",
       "      <td>Arsenal</td>\n",
       "      <td>Hull</td>\n",
       "      <td>H</td>\n",
       "      <td>H</td>\n",
       "    </tr>\n",
       "  </tbody>\n",
       "</table>\n",
       "</div>"
      ],
      "text/plain": [
       "          HomeTeam        AwayTeam Res_knn Res_XGB\n",
       "240    Bournemouth        Man City       A       H\n",
       "241        Swansea       Leicester       A       A\n",
       "242        Burnley         Chelsea       H       H\n",
       "243      Liverpool       Tottenham       H       H\n",
       "244     Sunderland     Southampton       D       H\n",
       "245       West Ham       West Brom       H       H\n",
       "246  Middlesbrough         Everton       A       A\n",
       "247     Man United         Watford       H       D\n",
       "248          Stoke  Crystal Palace       H       H\n",
       "249        Arsenal            Hull       H       H"
      ]
     },
     "execution_count": 400,
     "metadata": {},
     "output_type": "execute_result"
    }
   ],
   "source": [
    "this_week"
   ]
  },
  {
   "cell_type": "markdown",
   "metadata": {},
   "source": [
    "Yes. Burnley. "
   ]
  }
 ],
 "metadata": {
  "kernelspec": {
   "display_name": "Python [Root]",
   "language": "python",
   "name": "Python [Root]"
  },
  "language_info": {
   "codemirror_mode": {
    "name": "ipython",
    "version": 2
   },
   "file_extension": ".py",
   "mimetype": "text/x-python",
   "name": "python",
   "nbconvert_exporter": "python",
   "pygments_lexer": "ipython2",
   "version": "2.7.12"
  }
 },
 "nbformat": 4,
 "nbformat_minor": 0
}
