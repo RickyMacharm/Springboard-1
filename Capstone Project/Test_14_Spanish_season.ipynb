{
 "cells": [
  {
   "cell_type": "markdown",
   "metadata": {},
   "source": [
    "# Prediction Scores with Poisson Regression\n",
    "\n",
    "\n",
    "Notebook attempting to predict the scores of any fixture given the teams that are playing it based on their performance in the previous season. Such an approach using Poisson Regression employs only historic data and ignores other factors. Nevertheless, it is a good estimator of a team's attacking and defensive strength."
   ]
  },
  {
   "cell_type": "code",
   "execution_count": 2,
   "metadata": {
    "collapsed": true
   },
   "outputs": [],
   "source": [
    "import pandas as pd\n",
    "import numpy as np\n",
    "import scipy.stats as scipy\n",
    "import random\n"
   ]
  },
  {
   "cell_type": "markdown",
   "metadata": {},
   "source": [
    "### Load the data"
   ]
  },
  {
   "cell_type": "code",
   "execution_count": 5,
   "metadata": {
    "collapsed": false
   },
   "outputs": [],
   "source": [
    "df = pd.read_csv(\"./Data/Spain/SP1_13.csv\")\n",
    "df_14 = pd.read_csv(\"./Data/Spain/SP1_14.csv\")"
   ]
  },
  {
   "cell_type": "code",
   "execution_count": 6,
   "metadata": {
    "collapsed": false
   },
   "outputs": [
    {
     "data": {
      "text/plain": [
       "Index([u'Div', u'Date', u'HomeTeam', u'AwayTeam', u'FTHG', u'FTAG', u'FTR',\n",
       "       u'HTHG', u'HTAG', u'HTR', u'HS', u'AS', u'HST', u'AST', u'HF', u'AF',\n",
       "       u'HC', u'AC', u'HY', u'AY', u'HR', u'AR', u'B365H', u'B365D', u'B365A',\n",
       "       u'BWH', u'BWD', u'BWA', u'IWH', u'IWD', u'IWA', u'LBH', u'LBD', u'LBA',\n",
       "       u'PSH', u'PSD', u'PSA', u'WHH', u'WHD', u'WHA', u'SJH', u'SJD', u'SJA',\n",
       "       u'VCH', u'VCD', u'VCA', u'Bb1X2', u'BbMxH', u'BbAvH', u'BbMxD',\n",
       "       u'BbAvD', u'BbMxA', u'BbAvA', u'BbOU', u'BbMx>2.5', u'BbAv>2.5',\n",
       "       u'BbMx<2.5', u'BbAv<2.5', u'BbAH', u'BbAHh', u'BbMxAHH', u'BbAvAHH',\n",
       "       u'BbMxAHA', u'BbAvAHA', u'PSCH', u'PSCD', u'PSCA'],\n",
       "      dtype='object')"
      ]
     },
     "execution_count": 6,
     "metadata": {},
     "output_type": "execute_result"
    }
   ],
   "source": [
    "df.columns"
   ]
  },
  {
   "cell_type": "markdown",
   "metadata": {},
   "source": [
    "### Cleaning\n",
    "\n",
    "We do not need information about division, data, referee and the betting odds from various companies for this method. "
   ]
  },
  {
   "cell_type": "code",
   "execution_count": 9,
   "metadata": {
    "collapsed": false
   },
   "outputs": [],
   "source": [
    "res_13 = df.ix[:,:23]\n",
    "res_13 = res_13.drop(['Div','Date'],axis=1)\n",
    "res_14 = df_14.ix[:,:23]\n",
    "res_14 = res_14.drop(['Div','Date'],axis=1)\n",
    "bet_13 = df.ix[:,23:]"
   ]
  },
  {
   "cell_type": "code",
   "execution_count": 10,
   "metadata": {
    "collapsed": false
   },
   "outputs": [
    {
     "data": {
      "text/html": [
       "<div>\n",
       "<table border=\"1\" class=\"dataframe\">\n",
       "  <thead>\n",
       "    <tr style=\"text-align: right;\">\n",
       "      <th></th>\n",
       "      <th>HomeTeam</th>\n",
       "      <th>AwayTeam</th>\n",
       "      <th>FTHG</th>\n",
       "      <th>FTAG</th>\n",
       "      <th>FTR</th>\n",
       "      <th>HTHG</th>\n",
       "      <th>HTAG</th>\n",
       "      <th>HTR</th>\n",
       "      <th>HS</th>\n",
       "      <th>AS</th>\n",
       "      <th>...</th>\n",
       "      <th>AST</th>\n",
       "      <th>HF</th>\n",
       "      <th>AF</th>\n",
       "      <th>HC</th>\n",
       "      <th>AC</th>\n",
       "      <th>HY</th>\n",
       "      <th>AY</th>\n",
       "      <th>HR</th>\n",
       "      <th>AR</th>\n",
       "      <th>B365H</th>\n",
       "    </tr>\n",
       "  </thead>\n",
       "  <tbody>\n",
       "    <tr>\n",
       "      <th>0</th>\n",
       "      <td>Sociedad</td>\n",
       "      <td>Getafe</td>\n",
       "      <td>2</td>\n",
       "      <td>0</td>\n",
       "      <td>H</td>\n",
       "      <td>1</td>\n",
       "      <td>0</td>\n",
       "      <td>H</td>\n",
       "      <td>16</td>\n",
       "      <td>15</td>\n",
       "      <td>...</td>\n",
       "      <td>2</td>\n",
       "      <td>13</td>\n",
       "      <td>6</td>\n",
       "      <td>6</td>\n",
       "      <td>5</td>\n",
       "      <td>1</td>\n",
       "      <td>1</td>\n",
       "      <td>0</td>\n",
       "      <td>0</td>\n",
       "      <td>1.73</td>\n",
       "    </tr>\n",
       "    <tr>\n",
       "      <th>1</th>\n",
       "      <td>Valencia</td>\n",
       "      <td>Malaga</td>\n",
       "      <td>1</td>\n",
       "      <td>0</td>\n",
       "      <td>H</td>\n",
       "      <td>0</td>\n",
       "      <td>0</td>\n",
       "      <td>D</td>\n",
       "      <td>9</td>\n",
       "      <td>11</td>\n",
       "      <td>...</td>\n",
       "      <td>2</td>\n",
       "      <td>15</td>\n",
       "      <td>23</td>\n",
       "      <td>9</td>\n",
       "      <td>6</td>\n",
       "      <td>3</td>\n",
       "      <td>5</td>\n",
       "      <td>0</td>\n",
       "      <td>0</td>\n",
       "      <td>1.53</td>\n",
       "    </tr>\n",
       "    <tr>\n",
       "      <th>2</th>\n",
       "      <td>Valladolid</td>\n",
       "      <td>Ath Bilbao</td>\n",
       "      <td>1</td>\n",
       "      <td>2</td>\n",
       "      <td>A</td>\n",
       "      <td>1</td>\n",
       "      <td>1</td>\n",
       "      <td>D</td>\n",
       "      <td>8</td>\n",
       "      <td>13</td>\n",
       "      <td>...</td>\n",
       "      <td>3</td>\n",
       "      <td>10</td>\n",
       "      <td>8</td>\n",
       "      <td>5</td>\n",
       "      <td>5</td>\n",
       "      <td>1</td>\n",
       "      <td>0</td>\n",
       "      <td>0</td>\n",
       "      <td>0</td>\n",
       "      <td>2.50</td>\n",
       "    </tr>\n",
       "    <tr>\n",
       "      <th>3</th>\n",
       "      <td>Barcelona</td>\n",
       "      <td>Levante</td>\n",
       "      <td>7</td>\n",
       "      <td>0</td>\n",
       "      <td>H</td>\n",
       "      <td>6</td>\n",
       "      <td>0</td>\n",
       "      <td>H</td>\n",
       "      <td>22</td>\n",
       "      <td>4</td>\n",
       "      <td>...</td>\n",
       "      <td>1</td>\n",
       "      <td>15</td>\n",
       "      <td>16</td>\n",
       "      <td>9</td>\n",
       "      <td>3</td>\n",
       "      <td>1</td>\n",
       "      <td>3</td>\n",
       "      <td>0</td>\n",
       "      <td>0</td>\n",
       "      <td>1.08</td>\n",
       "    </tr>\n",
       "    <tr>\n",
       "      <th>4</th>\n",
       "      <td>Osasuna</td>\n",
       "      <td>Granada</td>\n",
       "      <td>1</td>\n",
       "      <td>2</td>\n",
       "      <td>A</td>\n",
       "      <td>0</td>\n",
       "      <td>2</td>\n",
       "      <td>A</td>\n",
       "      <td>14</td>\n",
       "      <td>13</td>\n",
       "      <td>...</td>\n",
       "      <td>4</td>\n",
       "      <td>15</td>\n",
       "      <td>17</td>\n",
       "      <td>7</td>\n",
       "      <td>6</td>\n",
       "      <td>1</td>\n",
       "      <td>4</td>\n",
       "      <td>0</td>\n",
       "      <td>0</td>\n",
       "      <td>2.00</td>\n",
       "    </tr>\n",
       "  </tbody>\n",
       "</table>\n",
       "<p>5 rows × 21 columns</p>\n",
       "</div>"
      ],
      "text/plain": [
       "     HomeTeam    AwayTeam  FTHG  FTAG FTR  HTHG  HTAG HTR  HS  AS  ...    AST  \\\n",
       "0    Sociedad      Getafe     2     0   H     1     0   H  16  15  ...      2   \n",
       "1    Valencia      Malaga     1     0   H     0     0   D   9  11  ...      2   \n",
       "2  Valladolid  Ath Bilbao     1     2   A     1     1   D   8  13  ...      3   \n",
       "3   Barcelona     Levante     7     0   H     6     0   H  22   4  ...      1   \n",
       "4     Osasuna     Granada     1     2   A     0     2   A  14  13  ...      4   \n",
       "\n",
       "   HF  AF  HC  AC  HY  AY  HR  AR  B365H  \n",
       "0  13   6   6   5   1   1   0   0   1.73  \n",
       "1  15  23   9   6   3   5   0   0   1.53  \n",
       "2  10   8   5   5   1   0   0   0   2.50  \n",
       "3  15  16   9   3   1   3   0   0   1.08  \n",
       "4  15  17   7   6   1   4   0   0   2.00  \n",
       "\n",
       "[5 rows x 21 columns]"
      ]
     },
     "execution_count": 10,
     "metadata": {},
     "output_type": "execute_result"
    }
   ],
   "source": [
    "res_13.head()"
   ]
  },
  {
   "cell_type": "markdown",
   "metadata": {},
   "source": [
    "### Dataframe to store the final league standings in 2013-14\n",
    "\n",
    "We create a table with the goals scored, conceded, attacking strength, defensive strength of both teams.\n",
    "\n",
    "Number of matches played at home = 19\n",
    "\n",
    "Attacking strength at home (HAS) = (Goals scored at home / 19) / Average Number of goals at home in the season \n",
    "\n",
    "Defensive strength at home (HAS) = (Goals conceded at home / 19) / Average Number of goals conceded at home in the season "
   ]
  },
  {
   "cell_type": "code",
   "execution_count": 11,
   "metadata": {
    "collapsed": false
   },
   "outputs": [],
   "source": [
    "#Team, Home Goals Score, Away Goals Score, Attack Strength, Home Goals Conceded, Away Goals Conceded, Defensive Strength\n",
    "table_13 = pd.DataFrame(columns=('Team','HGS','AGS','HAS','AAS','HGC','AGC','HDS','ADS'))"
   ]
  },
  {
   "cell_type": "code",
   "execution_count": 12,
   "metadata": {
    "collapsed": false
   },
   "outputs": [
    {
     "name": "stdout",
     "output_type": "stream",
     "text": [
      "Average number of goals at home 1.63157894737\n",
      "Average number of goals away 1.11842105263\n",
      "Average number of goals conceded at home 1.63157894737\n",
      "Average number of goals conceded away 1.11842105263\n"
     ]
    }
   ],
   "source": [
    "avg_home_scored_13 = res_13.FTHG.sum() / 380.0\n",
    "avg_away_scored_13 = res_13.FTAG.sum() / 380.0\n",
    "avg_home_conceded_13 = avg_away_scored_13\n",
    "avg_away_conceded_13 = avg_home_scored_13\n",
    "print \"Average number of goals at home\",avg_home_scored_13\n",
    "print \"Average number of goals away\", avg_away_scored_13\n",
    "print \"Average number of goals conceded at home\",avg_away_conceded_13\n",
    "print \"Average number of goals conceded away\",avg_home_conceded_13\n"
   ]
  },
  {
   "cell_type": "code",
   "execution_count": 13,
   "metadata": {
    "collapsed": false
   },
   "outputs": [],
   "source": [
    "res_home = res_13.groupby('HomeTeam')\n",
    "res_away = res_13.groupby('AwayTeam')"
   ]
  },
  {
   "cell_type": "code",
   "execution_count": 14,
   "metadata": {
    "collapsed": false
   },
   "outputs": [
    {
     "data": {
      "text/html": [
       "<div>\n",
       "<table border=\"1\" class=\"dataframe\">\n",
       "  <thead>\n",
       "    <tr style=\"text-align: right;\">\n",
       "      <th></th>\n",
       "      <th>Team</th>\n",
       "      <th>HGS</th>\n",
       "      <th>AGS</th>\n",
       "      <th>HAS</th>\n",
       "      <th>AAS</th>\n",
       "      <th>HGC</th>\n",
       "      <th>AGC</th>\n",
       "      <th>HDS</th>\n",
       "      <th>ADS</th>\n",
       "    </tr>\n",
       "  </thead>\n",
       "  <tbody>\n",
       "    <tr>\n",
       "      <th>0</th>\n",
       "      <td>Almeria</td>\n",
       "      <td>26</td>\n",
       "      <td>17</td>\n",
       "      <td>NaN</td>\n",
       "      <td>NaN</td>\n",
       "      <td>31</td>\n",
       "      <td>40</td>\n",
       "      <td>NaN</td>\n",
       "      <td>NaN</td>\n",
       "    </tr>\n",
       "    <tr>\n",
       "      <th>1</th>\n",
       "      <td>Ath Bilbao</td>\n",
       "      <td>42</td>\n",
       "      <td>24</td>\n",
       "      <td>NaN</td>\n",
       "      <td>NaN</td>\n",
       "      <td>18</td>\n",
       "      <td>21</td>\n",
       "      <td>NaN</td>\n",
       "      <td>NaN</td>\n",
       "    </tr>\n",
       "    <tr>\n",
       "      <th>2</th>\n",
       "      <td>Ath Madrid</td>\n",
       "      <td>49</td>\n",
       "      <td>28</td>\n",
       "      <td>NaN</td>\n",
       "      <td>NaN</td>\n",
       "      <td>10</td>\n",
       "      <td>16</td>\n",
       "      <td>NaN</td>\n",
       "      <td>NaN</td>\n",
       "    </tr>\n",
       "    <tr>\n",
       "      <th>3</th>\n",
       "      <td>Barcelona</td>\n",
       "      <td>64</td>\n",
       "      <td>36</td>\n",
       "      <td>NaN</td>\n",
       "      <td>NaN</td>\n",
       "      <td>15</td>\n",
       "      <td>18</td>\n",
       "      <td>NaN</td>\n",
       "      <td>NaN</td>\n",
       "    </tr>\n",
       "    <tr>\n",
       "      <th>4</th>\n",
       "      <td>Betis</td>\n",
       "      <td>19</td>\n",
       "      <td>17</td>\n",
       "      <td>NaN</td>\n",
       "      <td>NaN</td>\n",
       "      <td>31</td>\n",
       "      <td>47</td>\n",
       "      <td>NaN</td>\n",
       "      <td>NaN</td>\n",
       "    </tr>\n",
       "  </tbody>\n",
       "</table>\n",
       "</div>"
      ],
      "text/plain": [
       "         Team  HGS  AGS  HAS  AAS  HGC  AGC  HDS  ADS\n",
       "0     Almeria   26   17  NaN  NaN   31   40  NaN  NaN\n",
       "1  Ath Bilbao   42   24  NaN  NaN   18   21  NaN  NaN\n",
       "2  Ath Madrid   49   28  NaN  NaN   10   16  NaN  NaN\n",
       "3   Barcelona   64   36  NaN  NaN   15   18  NaN  NaN\n",
       "4       Betis   19   17  NaN  NaN   31   47  NaN  NaN"
      ]
     },
     "execution_count": 14,
     "metadata": {},
     "output_type": "execute_result"
    }
   ],
   "source": [
    "table_13.Team = res_home.HomeTeam.all().values\n",
    "table_13.HGS = res_home.FTHG.sum().values\n",
    "table_13.HGC = res_home.FTAG.sum().values\n",
    "table_13.AGS = res_away.FTAG.sum().values\n",
    "table_13.AGC = res_away.FTHG.sum().values\n",
    "table_13.head()"
   ]
  },
  {
   "cell_type": "code",
   "execution_count": 15,
   "metadata": {
    "collapsed": false
   },
   "outputs": [
    {
     "data": {
      "text/html": [
       "<div>\n",
       "<table border=\"1\" class=\"dataframe\">\n",
       "  <thead>\n",
       "    <tr style=\"text-align: right;\">\n",
       "      <th></th>\n",
       "      <th>Team</th>\n",
       "      <th>HGS</th>\n",
       "      <th>AGS</th>\n",
       "      <th>HAS</th>\n",
       "      <th>AAS</th>\n",
       "      <th>HGC</th>\n",
       "      <th>AGC</th>\n",
       "      <th>HDS</th>\n",
       "      <th>ADS</th>\n",
       "    </tr>\n",
       "  </thead>\n",
       "  <tbody>\n",
       "    <tr>\n",
       "      <th>0</th>\n",
       "      <td>Almeria</td>\n",
       "      <td>26</td>\n",
       "      <td>17</td>\n",
       "      <td>0.838710</td>\n",
       "      <td>0.800000</td>\n",
       "      <td>31</td>\n",
       "      <td>40</td>\n",
       "      <td>1.458824</td>\n",
       "      <td>1.290323</td>\n",
       "    </tr>\n",
       "    <tr>\n",
       "      <th>1</th>\n",
       "      <td>Ath Bilbao</td>\n",
       "      <td>42</td>\n",
       "      <td>24</td>\n",
       "      <td>1.354839</td>\n",
       "      <td>1.129412</td>\n",
       "      <td>18</td>\n",
       "      <td>21</td>\n",
       "      <td>0.847059</td>\n",
       "      <td>0.677419</td>\n",
       "    </tr>\n",
       "    <tr>\n",
       "      <th>2</th>\n",
       "      <td>Ath Madrid</td>\n",
       "      <td>49</td>\n",
       "      <td>28</td>\n",
       "      <td>1.580645</td>\n",
       "      <td>1.317647</td>\n",
       "      <td>10</td>\n",
       "      <td>16</td>\n",
       "      <td>0.470588</td>\n",
       "      <td>0.516129</td>\n",
       "    </tr>\n",
       "    <tr>\n",
       "      <th>3</th>\n",
       "      <td>Barcelona</td>\n",
       "      <td>64</td>\n",
       "      <td>36</td>\n",
       "      <td>2.064516</td>\n",
       "      <td>1.694118</td>\n",
       "      <td>15</td>\n",
       "      <td>18</td>\n",
       "      <td>0.705882</td>\n",
       "      <td>0.580645</td>\n",
       "    </tr>\n",
       "    <tr>\n",
       "      <th>4</th>\n",
       "      <td>Betis</td>\n",
       "      <td>19</td>\n",
       "      <td>17</td>\n",
       "      <td>0.612903</td>\n",
       "      <td>0.800000</td>\n",
       "      <td>31</td>\n",
       "      <td>47</td>\n",
       "      <td>1.458824</td>\n",
       "      <td>1.516129</td>\n",
       "    </tr>\n",
       "  </tbody>\n",
       "</table>\n",
       "</div>"
      ],
      "text/plain": [
       "         Team  HGS  AGS       HAS       AAS  HGC  AGC       HDS       ADS\n",
       "0     Almeria   26   17  0.838710  0.800000   31   40  1.458824  1.290323\n",
       "1  Ath Bilbao   42   24  1.354839  1.129412   18   21  0.847059  0.677419\n",
       "2  Ath Madrid   49   28  1.580645  1.317647   10   16  0.470588  0.516129\n",
       "3   Barcelona   64   36  2.064516  1.694118   15   18  0.705882  0.580645\n",
       "4       Betis   19   17  0.612903  0.800000   31   47  1.458824  1.516129"
      ]
     },
     "execution_count": 15,
     "metadata": {},
     "output_type": "execute_result"
    }
   ],
   "source": [
    "table_13.HAS = (table_13.HGS / 19.0) / avg_home_scored_13\n",
    "table_13.AAS = (table_13.AGS / 19.0) / avg_away_scored_13\n",
    "table_13.HDS = (table_13.HGC / 19.0) / avg_home_conceded_13\n",
    "table_13.ADS = (table_13.AGC / 19.0) / avg_away_conceded_13\n",
    "table_13.head()"
   ]
  },
  {
   "cell_type": "code",
   "execution_count": 16,
   "metadata": {
    "collapsed": true
   },
   "outputs": [],
   "source": [
    "#Expected number of goals based on the average poisson probability\n",
    "def exp_goals(mean):\n",
    "    max_pmf = 0;\n",
    "    for i in xrange(7):\n",
    "        pmf = scipy.distributions.poisson.pmf(i,mean) * 100 \n",
    "        if pmf > max_pmf:\n",
    "            max_pmf = pmf\n",
    "            goals = i\n",
    "    return goals"
   ]
  },
  {
   "cell_type": "code",
   "execution_count": 17,
   "metadata": {
    "collapsed": false
   },
   "outputs": [
    {
     "data": {
      "text/html": [
       "<div>\n",
       "<table border=\"1\" class=\"dataframe\">\n",
       "  <thead>\n",
       "    <tr style=\"text-align: right;\">\n",
       "      <th></th>\n",
       "      <th>HomeTeam</th>\n",
       "      <th>AwayTeam</th>\n",
       "      <th>FTHG</th>\n",
       "      <th>FTAG</th>\n",
       "      <th>FTR</th>\n",
       "    </tr>\n",
       "  </thead>\n",
       "  <tbody>\n",
       "    <tr>\n",
       "      <th>0</th>\n",
       "      <td>Almeria</td>\n",
       "      <td>Espanol</td>\n",
       "      <td>1</td>\n",
       "      <td>1</td>\n",
       "      <td>D</td>\n",
       "    </tr>\n",
       "    <tr>\n",
       "      <th>1</th>\n",
       "      <td>Granada</td>\n",
       "      <td>La Coruna</td>\n",
       "      <td>2</td>\n",
       "      <td>1</td>\n",
       "      <td>H</td>\n",
       "    </tr>\n",
       "    <tr>\n",
       "      <th>2</th>\n",
       "      <td>Malaga</td>\n",
       "      <td>Ath Bilbao</td>\n",
       "      <td>1</td>\n",
       "      <td>0</td>\n",
       "      <td>H</td>\n",
       "    </tr>\n",
       "    <tr>\n",
       "      <th>3</th>\n",
       "      <td>Sevilla</td>\n",
       "      <td>Valencia</td>\n",
       "      <td>1</td>\n",
       "      <td>1</td>\n",
       "      <td>D</td>\n",
       "    </tr>\n",
       "    <tr>\n",
       "      <th>4</th>\n",
       "      <td>Barcelona</td>\n",
       "      <td>Elche</td>\n",
       "      <td>3</td>\n",
       "      <td>0</td>\n",
       "      <td>H</td>\n",
       "    </tr>\n",
       "  </tbody>\n",
       "</table>\n",
       "</div>"
      ],
      "text/plain": [
       "    HomeTeam    AwayTeam  FTHG  FTAG FTR\n",
       "0    Almeria     Espanol     1     1   D\n",
       "1    Granada   La Coruna     2     1   H\n",
       "2     Malaga  Ath Bilbao     1     0   H\n",
       "3    Sevilla    Valencia     1     1   D\n",
       "4  Barcelona       Elche     3     0   H"
      ]
     },
     "execution_count": 17,
     "metadata": {},
     "output_type": "execute_result"
    }
   ],
   "source": [
    "test_13 = res_13.ix[:,0:5]\n",
    "test_13.head()\n",
    "test_14 = res_14.ix[:,0:5]\n",
    "test_14.head()"
   ]
  },
  {
   "cell_type": "code",
   "execution_count": 21,
   "metadata": {
    "collapsed": false
   },
   "outputs": [],
   "source": [
    "table_13[table_13['Team'] == 'Barcelona']\n",
    "test_14['ER'] = ''\n"
   ]
  },
  {
   "cell_type": "code",
   "execution_count": 32,
   "metadata": {
    "collapsed": false
   },
   "outputs": [],
   "source": [
    "results = []\n",
    "for index, row in test_13.iterrows():\n",
    "\n",
    "    home_team = table_13[table_13['Team'] == row['HomeTeam']]\n",
    "    away_team = table_13[table_13['Team'] == row['AwayTeam']]\n",
    "    #print \"Home : \", home_team.HAS.values, \"Away: \", away_team.AAS.\n",
    "    if row.HomeTeam not in ['Leicester', 'QPR', 'Burnley'] and row.AwayTeam not in ['Leicester', 'QPR', 'Burnley']:\n",
    "        EH = home_team.HAS.values * away_team.ADS.values * avg_home_scored_13\n",
    "        EA = home_team.HDS.values * away_team.AAS.values * avg_home_conceded_13\n",
    "        #print row.HomeTeam, row.AwayTeam\n",
    "        if exp_goals(EH) > exp_goals(EA):\n",
    "            results.append('H')\n",
    "        elif exp_goals(EH) < exp_goals(EA):\n",
    "            results.append('A')\n",
    "        else:\n",
    "            results.append('D')\n",
    "    else:\n",
    "        results.append('D')"
   ]
  },
  {
   "cell_type": "code",
   "execution_count": 33,
   "metadata": {
    "collapsed": false
   },
   "outputs": [
    {
     "data": {
      "text/plain": [
       "380"
      ]
     },
     "execution_count": 33,
     "metadata": {},
     "output_type": "execute_result"
    }
   ],
   "source": [
    "len(results)"
   ]
  },
  {
   "cell_type": "code",
   "execution_count": 34,
   "metadata": {
    "collapsed": false
   },
   "outputs": [],
   "source": [
    "test_13['ER'] = results"
   ]
  },
  {
   "cell_type": "code",
   "execution_count": 35,
   "metadata": {
    "collapsed": false
   },
   "outputs": [],
   "source": [
    "from sklearn.metrics import accuracy_score"
   ]
  },
  {
   "cell_type": "code",
   "execution_count": 36,
   "metadata": {
    "collapsed": false
   },
   "outputs": [
    {
     "data": {
      "text/plain": [
       "0.52368421052631575"
      ]
     },
     "execution_count": 36,
     "metadata": {},
     "output_type": "execute_result"
    }
   ],
   "source": [
    "accuracy_score(test_13['ER'],test_13['FTR'])"
   ]
  },
  {
   "cell_type": "markdown",
   "metadata": {},
   "source": [
    "### PREDICTION OF NUMBER OF GOALS\n",
    "\n",
    "Taking two sample teams, we predict the probability of number of goals that they might score in this fixture.\n"
   ]
  },
  {
   "cell_type": "code",
   "execution_count": 54,
   "metadata": {
    "collapsed": false
   },
   "outputs": [
    {
     "name": "stdout",
     "output_type": "stream",
     "text": [
      "[ 4.12903226] [ 0.63157895]\n"
     ]
    }
   ],
   "source": [
    "team_1 = 'Barcelona'\n",
    "team_2 = 'Elche'\n",
    "\n",
    "home_team = table_13[table_13['Team'] == team_1]\n",
    "away_team = table_13[table_13['Team'] == team_2]\n",
    "EH = home_team.HAS.values * away_team.ADS.values * avg_home_scored_13\n",
    "EA = home_team.HDS.values * away_team.AAS.values * avg_home_conceded_13\n",
    "print EH, EA"
   ]
  },
  {
   "cell_type": "code",
   "execution_count": 55,
   "metadata": {
    "collapsed": false
   },
   "outputs": [
    {
     "data": {
      "text/plain": [
       "'Barcelona'"
      ]
     },
     "execution_count": 55,
     "metadata": {},
     "output_type": "execute_result"
    }
   ],
   "source": [
    "home_team.Team.values[0]"
   ]
  },
  {
   "cell_type": "code",
   "execution_count": 63,
   "metadata": {
    "collapsed": true
   },
   "outputs": [],
   "source": [
    "def exp_goals_prob(mean):\n",
    "    max_pmf = 0;\n",
    "    prob = []\n",
    "    for i in xrange(0,6):\n",
    "        pmf = scipy.distributions.poisson.pmf(i,mean) * 100 \n",
    "        prob.append(pmf[0])\n",
    "    return prob"
   ]
  },
  {
   "cell_type": "code",
   "execution_count": 64,
   "metadata": {
    "collapsed": false
   },
   "outputs": [],
   "source": [
    "prob_goals = pd.DataFrame(columns=['Team','0','1','2','3','4','5'])\n",
    "home_team_prob = exp_goals_prob(EH)\n",
    "away_team_prob = exp_goals_prob(EA)"
   ]
  },
  {
   "cell_type": "code",
   "execution_count": 65,
   "metadata": {
    "collapsed": false
   },
   "outputs": [],
   "source": [
    "prob_goals.loc[0,1:] = home_team_prob\n",
    "prob_goals.loc[1,1:] = away_team_prob\n",
    "prob_goals.iloc[0,0] = team_1\n",
    "prob_goals.iloc[1,0] = team_2"
   ]
  },
  {
   "cell_type": "code",
   "execution_count": 66,
   "metadata": {
    "collapsed": false
   },
   "outputs": [
    {
     "data": {
      "text/html": [
       "<div>\n",
       "<table border=\"1\" class=\"dataframe\">\n",
       "  <thead>\n",
       "    <tr style=\"text-align: right;\">\n",
       "      <th></th>\n",
       "      <th>Team</th>\n",
       "      <th>0</th>\n",
       "      <th>1</th>\n",
       "      <th>2</th>\n",
       "      <th>3</th>\n",
       "      <th>4</th>\n",
       "      <th>5</th>\n",
       "    </tr>\n",
       "  </thead>\n",
       "  <tbody>\n",
       "    <tr>\n",
       "      <th>0</th>\n",
       "      <td>Barcelona</td>\n",
       "      <td>1.60985</td>\n",
       "      <td>6.6471</td>\n",
       "      <td>13.723</td>\n",
       "      <td>18.8876</td>\n",
       "      <td>19.4969</td>\n",
       "      <td>16.1007</td>\n",
       "    </tr>\n",
       "    <tr>\n",
       "      <th>1</th>\n",
       "      <td>Elche</td>\n",
       "      <td>53.1752</td>\n",
       "      <td>33.5843</td>\n",
       "      <td>10.6056</td>\n",
       "      <td>2.23275</td>\n",
       "      <td>0.35254</td>\n",
       "      <td>0.0445313</td>\n",
       "    </tr>\n",
       "  </tbody>\n",
       "</table>\n",
       "</div>"
      ],
      "text/plain": [
       "        Team        0        1        2        3        4          5\n",
       "0  Barcelona  1.60985   6.6471   13.723  18.8876  19.4969    16.1007\n",
       "1      Elche  53.1752  33.5843  10.6056  2.23275  0.35254  0.0445313"
      ]
     },
     "execution_count": 66,
     "metadata": {},
     "output_type": "execute_result"
    }
   ],
   "source": [
    "prob_goals"
   ]
  },
  {
   "cell_type": "markdown",
   "metadata": {},
   "source": [
    "To calculate the probability that the expected score is 2-2, we simply multiply the probability that team_1 scores 2 goals and team_2 scores 2 goals. In this case, it comes out to 2.57%. \n",
    "\n",
    "Similarly, if we want to calculate the possibility of a draw, we calculate the probability of each draw first (0-0, 1-1, 2-2) etc. and add them all together. \n",
    "\n",
    "Straightaway, such an analysis lends itself to efficient betting. There are different kinds like home win, draw, away win, over 2.5 goals, under 2.5  goals etc. We could calculate the probabilities of each of this happening through Poisson Regression."
   ]
  },
  {
   "cell_type": "code",
   "execution_count": null,
   "metadata": {
    "collapsed": true
   },
   "outputs": [],
   "source": []
  },
  {
   "cell_type": "code",
   "execution_count": null,
   "metadata": {
    "collapsed": true
   },
   "outputs": [],
   "source": []
  }
 ],
 "metadata": {
  "kernelspec": {
   "display_name": "Python [Root]",
   "language": "python",
   "name": "Python [Root]"
  },
  "language_info": {
   "codemirror_mode": {
    "name": "ipython",
    "version": 2
   },
   "file_extension": ".py",
   "mimetype": "text/x-python",
   "name": "python",
   "nbconvert_exporter": "python",
   "pygments_lexer": "ipython2",
   "version": "2.7.12"
  }
 },
 "nbformat": 4,
 "nbformat_minor": 0
}
