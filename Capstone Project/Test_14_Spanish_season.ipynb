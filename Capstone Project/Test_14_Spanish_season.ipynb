{
 "cells": [
  {
   "cell_type": "code",
   "execution_count": null,
   "metadata": {
    "collapsed": true
   },
   "outputs": [],
   "source": [
    "# Prediction Scores with Poisson Regression\n",
    "\n",
    "\n",
    "Notebook attempting to predict the scores of any fixture given the teams that are playing it based on their performance in the previous season. Such an approach using Poisson Regression employs only historic data and ignores other factors. Nevertheless, it is a good estimator of a team's attacking and defensive strength."
   ]
  },
  {
   "cell_type": "code",
   "execution_count": 2,
   "metadata": {
    "collapsed": true
   },
   "outputs": [],
   "source": [
    "import pandas as pd\n",
    "import numpy as np\n",
    "import scipy.stats as scipy\n",
    "import random\n"
   ]
  },
  {
   "cell_type": "markdown",
   "metadata": {},
   "source": [
    "### Load the data"
   ]
  },
  {
   "cell_type": "code",
   "execution_count": 3,
   "metadata": {
    "collapsed": false
   },
   "outputs": [],
   "source": [
    "df = pd.read_csv(\"./Data/Spain/SP1_13.csv\")\n",
    "df_14 = pd.read_csv(\"./Data/Spain/SP1_14.csv\")"
   ]
  },
  {
   "cell_type": "code",
   "execution_count": 4,
   "metadata": {
    "collapsed": false
   },
   "outputs": [
    {
     "data": {
      "text/plain": [
       "Index([u'Div', u'Date', u'HomeTeam', u'AwayTeam', u'FTHG', u'FTAG', u'FTR',\n",
       "       u'HTHG', u'HTAG', u'HTR', u'HS', u'AS', u'HST', u'AST', u'HF', u'AF',\n",
       "       u'HC', u'AC', u'HY', u'AY', u'HR', u'AR', u'B365H', u'B365D', u'B365A',\n",
       "       u'BWH', u'BWD', u'BWA', u'IWH', u'IWD', u'IWA', u'LBH', u'LBD', u'LBA',\n",
       "       u'PSH', u'PSD', u'PSA', u'WHH', u'WHD', u'WHA', u'SJH', u'SJD', u'SJA',\n",
       "       u'VCH', u'VCD', u'VCA', u'Bb1X2', u'BbMxH', u'BbAvH', u'BbMxD',\n",
       "       u'BbAvD', u'BbMxA', u'BbAvA', u'BbOU', u'BbMx>2.5', u'BbAv>2.5',\n",
       "       u'BbMx<2.5', u'BbAv<2.5', u'BbAH', u'BbAHh', u'BbMxAHH', u'BbAvAHH',\n",
       "       u'BbMxAHA', u'BbAvAHA', u'PSCH', u'PSCD', u'PSCA'],\n",
       "      dtype='object')"
      ]
     },
     "execution_count": 4,
     "metadata": {},
     "output_type": "execute_result"
    }
   ],
   "source": [
    "df.columns"
   ]
  },
  {
   "cell_type": "markdown",
   "metadata": {},
   "source": [
    "### Cleaning\n",
    "\n",
    "We do not need information about division, data, referee and the betting odds from various companies for this method. "
   ]
  },
  {
   "cell_type": "code",
   "execution_count": 5,
   "metadata": {
    "collapsed": false
   },
   "outputs": [],
   "source": [
    "res_13 = df.ix[:,:23]\n",
    "res_13 = res_13.drop(['Div','Date'],axis=1)\n",
    "res_14 = df_14.ix[:,:23]\n",
    "res_14 = res_14.drop(['Div','Date'],axis=1)\n",
    "bet_13 = df.ix[:,23:]"
   ]
  },
  {
   "cell_type": "code",
   "execution_count": 6,
   "metadata": {
    "collapsed": false
   },
   "outputs": [
    {
     "data": {
      "text/html": [
       "<div>\n",
       "<table border=\"1\" class=\"dataframe\">\n",
       "  <thead>\n",
       "    <tr style=\"text-align: right;\">\n",
       "      <th></th>\n",
       "      <th>HomeTeam</th>\n",
       "      <th>AwayTeam</th>\n",
       "      <th>FTHG</th>\n",
       "      <th>FTAG</th>\n",
       "      <th>FTR</th>\n",
       "      <th>HTHG</th>\n",
       "      <th>HTAG</th>\n",
       "      <th>HTR</th>\n",
       "      <th>HS</th>\n",
       "      <th>AS</th>\n",
       "      <th>...</th>\n",
       "      <th>AST</th>\n",
       "      <th>HF</th>\n",
       "      <th>AF</th>\n",
       "      <th>HC</th>\n",
       "      <th>AC</th>\n",
       "      <th>HY</th>\n",
       "      <th>AY</th>\n",
       "      <th>HR</th>\n",
       "      <th>AR</th>\n",
       "      <th>B365H</th>\n",
       "    </tr>\n",
       "  </thead>\n",
       "  <tbody>\n",
       "    <tr>\n",
       "      <th>0</th>\n",
       "      <td>Sociedad</td>\n",
       "      <td>Getafe</td>\n",
       "      <td>2</td>\n",
       "      <td>0</td>\n",
       "      <td>H</td>\n",
       "      <td>1</td>\n",
       "      <td>0</td>\n",
       "      <td>H</td>\n",
       "      <td>16</td>\n",
       "      <td>15</td>\n",
       "      <td>...</td>\n",
       "      <td>2</td>\n",
       "      <td>13</td>\n",
       "      <td>6</td>\n",
       "      <td>6</td>\n",
       "      <td>5</td>\n",
       "      <td>1</td>\n",
       "      <td>1</td>\n",
       "      <td>0</td>\n",
       "      <td>0</td>\n",
       "      <td>1.73</td>\n",
       "    </tr>\n",
       "    <tr>\n",
       "      <th>1</th>\n",
       "      <td>Valencia</td>\n",
       "      <td>Malaga</td>\n",
       "      <td>1</td>\n",
       "      <td>0</td>\n",
       "      <td>H</td>\n",
       "      <td>0</td>\n",
       "      <td>0</td>\n",
       "      <td>D</td>\n",
       "      <td>9</td>\n",
       "      <td>11</td>\n",
       "      <td>...</td>\n",
       "      <td>2</td>\n",
       "      <td>15</td>\n",
       "      <td>23</td>\n",
       "      <td>9</td>\n",
       "      <td>6</td>\n",
       "      <td>3</td>\n",
       "      <td>5</td>\n",
       "      <td>0</td>\n",
       "      <td>0</td>\n",
       "      <td>1.53</td>\n",
       "    </tr>\n",
       "    <tr>\n",
       "      <th>2</th>\n",
       "      <td>Valladolid</td>\n",
       "      <td>Ath Bilbao</td>\n",
       "      <td>1</td>\n",
       "      <td>2</td>\n",
       "      <td>A</td>\n",
       "      <td>1</td>\n",
       "      <td>1</td>\n",
       "      <td>D</td>\n",
       "      <td>8</td>\n",
       "      <td>13</td>\n",
       "      <td>...</td>\n",
       "      <td>3</td>\n",
       "      <td>10</td>\n",
       "      <td>8</td>\n",
       "      <td>5</td>\n",
       "      <td>5</td>\n",
       "      <td>1</td>\n",
       "      <td>0</td>\n",
       "      <td>0</td>\n",
       "      <td>0</td>\n",
       "      <td>2.50</td>\n",
       "    </tr>\n",
       "    <tr>\n",
       "      <th>3</th>\n",
       "      <td>Barcelona</td>\n",
       "      <td>Levante</td>\n",
       "      <td>7</td>\n",
       "      <td>0</td>\n",
       "      <td>H</td>\n",
       "      <td>6</td>\n",
       "      <td>0</td>\n",
       "      <td>H</td>\n",
       "      <td>22</td>\n",
       "      <td>4</td>\n",
       "      <td>...</td>\n",
       "      <td>1</td>\n",
       "      <td>15</td>\n",
       "      <td>16</td>\n",
       "      <td>9</td>\n",
       "      <td>3</td>\n",
       "      <td>1</td>\n",
       "      <td>3</td>\n",
       "      <td>0</td>\n",
       "      <td>0</td>\n",
       "      <td>1.08</td>\n",
       "    </tr>\n",
       "    <tr>\n",
       "      <th>4</th>\n",
       "      <td>Osasuna</td>\n",
       "      <td>Granada</td>\n",
       "      <td>1</td>\n",
       "      <td>2</td>\n",
       "      <td>A</td>\n",
       "      <td>0</td>\n",
       "      <td>2</td>\n",
       "      <td>A</td>\n",
       "      <td>14</td>\n",
       "      <td>13</td>\n",
       "      <td>...</td>\n",
       "      <td>4</td>\n",
       "      <td>15</td>\n",
       "      <td>17</td>\n",
       "      <td>7</td>\n",
       "      <td>6</td>\n",
       "      <td>1</td>\n",
       "      <td>4</td>\n",
       "      <td>0</td>\n",
       "      <td>0</td>\n",
       "      <td>2.00</td>\n",
       "    </tr>\n",
       "  </tbody>\n",
       "</table>\n",
       "<p>5 rows × 21 columns</p>\n",
       "</div>"
      ],
      "text/plain": [
       "     HomeTeam    AwayTeam  FTHG  FTAG FTR  HTHG  HTAG HTR  HS  AS  ...    AST  \\\n",
       "0    Sociedad      Getafe     2     0   H     1     0   H  16  15  ...      2   \n",
       "1    Valencia      Malaga     1     0   H     0     0   D   9  11  ...      2   \n",
       "2  Valladolid  Ath Bilbao     1     2   A     1     1   D   8  13  ...      3   \n",
       "3   Barcelona     Levante     7     0   H     6     0   H  22   4  ...      1   \n",
       "4     Osasuna     Granada     1     2   A     0     2   A  14  13  ...      4   \n",
       "\n",
       "   HF  AF  HC  AC  HY  AY  HR  AR  B365H  \n",
       "0  13   6   6   5   1   1   0   0   1.73  \n",
       "1  15  23   9   6   3   5   0   0   1.53  \n",
       "2  10   8   5   5   1   0   0   0   2.50  \n",
       "3  15  16   9   3   1   3   0   0   1.08  \n",
       "4  15  17   7   6   1   4   0   0   2.00  \n",
       "\n",
       "[5 rows x 21 columns]"
      ]
     },
     "execution_count": 6,
     "metadata": {},
     "output_type": "execute_result"
    }
   ],
   "source": [
    "res_13.head()"
   ]
  },
  {
   "cell_type": "markdown",
   "metadata": {},
   "source": [
    "### Dataframe to store the final league standings in 2013-14\n",
    "\n",
    "We create a table with the goals scored, conceded, attacking strength, defensive strength of both teams.\n",
    "\n",
    "Number of matches played at home = 19\n",
    "\n",
    "Attacking strength at home (HAS) = (Goals scored at home / 19) / Average Number of goals at home in the season \n",
    "\n",
    "Defensive strength at home (HAS) = (Goals conceded at home / 19) / Average Number of goals conceded at home in the season "
   ]
  },
  {
   "cell_type": "code",
   "execution_count": 7,
   "metadata": {
    "collapsed": false
   },
   "outputs": [],
   "source": [
    "#Team, Home Goals Score, Away Goals Score, Attack Strength, Home Goals Conceded, Away Goals Conceded, Defensive Strength\n",
    "table_13 = pd.DataFrame(columns=('Team','HGS','AGS','HAS','AAS','HGC','AGC','HDS','ADS'))"
   ]
  },
  {
   "cell_type": "code",
   "execution_count": 8,
   "metadata": {
    "collapsed": false
   },
   "outputs": [
    {
     "name": "stdout",
     "output_type": "stream",
     "text": [
      "Average number of goals at home 1.63157894737\n",
      "Average number of goals away 1.11842105263\n",
      "Average number of goals conceded at home 1.63157894737\n",
      "Average number of goals conceded away 1.11842105263\n"
     ]
    }
   ],
   "source": [
    "avg_home_scored_13 = res_13.FTHG.sum() / 380.0\n",
    "avg_away_scored_13 = res_13.FTAG.sum() / 380.0\n",
    "avg_home_conceded_13 = avg_away_scored_13\n",
    "avg_away_conceded_13 = avg_home_scored_13\n",
    "print \"Average number of goals at home\",avg_home_scored_13\n",
    "print \"Average number of goals away\", avg_away_scored_13\n",
    "print \"Average number of goals conceded at home\",avg_away_conceded_13\n",
    "print \"Average number of goals conceded away\",avg_home_conceded_13\n"
   ]
  },
  {
   "cell_type": "code",
   "execution_count": 9,
   "metadata": {
    "collapsed": false
   },
   "outputs": [],
   "source": [
    "res_home = res_13.groupby('HomeTeam')\n",
    "res_away = res_13.groupby('AwayTeam')"
   ]
  },
  {
   "cell_type": "code",
   "execution_count": 10,
   "metadata": {
    "collapsed": false
   },
   "outputs": [
    {
     "data": {
      "text/html": [
       "<div>\n",
       "<table border=\"1\" class=\"dataframe\">\n",
       "  <thead>\n",
       "    <tr style=\"text-align: right;\">\n",
       "      <th></th>\n",
       "      <th>Team</th>\n",
       "      <th>HGS</th>\n",
       "      <th>AGS</th>\n",
       "      <th>HAS</th>\n",
       "      <th>AAS</th>\n",
       "      <th>HGC</th>\n",
       "      <th>AGC</th>\n",
       "      <th>HDS</th>\n",
       "      <th>ADS</th>\n",
       "    </tr>\n",
       "  </thead>\n",
       "  <tbody>\n",
       "    <tr>\n",
       "      <th>0</th>\n",
       "      <td>Almeria</td>\n",
       "      <td>26</td>\n",
       "      <td>17</td>\n",
       "      <td>NaN</td>\n",
       "      <td>NaN</td>\n",
       "      <td>31</td>\n",
       "      <td>40</td>\n",
       "      <td>NaN</td>\n",
       "      <td>NaN</td>\n",
       "    </tr>\n",
       "    <tr>\n",
       "      <th>1</th>\n",
       "      <td>Ath Bilbao</td>\n",
       "      <td>42</td>\n",
       "      <td>24</td>\n",
       "      <td>NaN</td>\n",
       "      <td>NaN</td>\n",
       "      <td>18</td>\n",
       "      <td>21</td>\n",
       "      <td>NaN</td>\n",
       "      <td>NaN</td>\n",
       "    </tr>\n",
       "    <tr>\n",
       "      <th>2</th>\n",
       "      <td>Ath Madrid</td>\n",
       "      <td>49</td>\n",
       "      <td>28</td>\n",
       "      <td>NaN</td>\n",
       "      <td>NaN</td>\n",
       "      <td>10</td>\n",
       "      <td>16</td>\n",
       "      <td>NaN</td>\n",
       "      <td>NaN</td>\n",
       "    </tr>\n",
       "    <tr>\n",
       "      <th>3</th>\n",
       "      <td>Barcelona</td>\n",
       "      <td>64</td>\n",
       "      <td>36</td>\n",
       "      <td>NaN</td>\n",
       "      <td>NaN</td>\n",
       "      <td>15</td>\n",
       "      <td>18</td>\n",
       "      <td>NaN</td>\n",
       "      <td>NaN</td>\n",
       "    </tr>\n",
       "    <tr>\n",
       "      <th>4</th>\n",
       "      <td>Betis</td>\n",
       "      <td>19</td>\n",
       "      <td>17</td>\n",
       "      <td>NaN</td>\n",
       "      <td>NaN</td>\n",
       "      <td>31</td>\n",
       "      <td>47</td>\n",
       "      <td>NaN</td>\n",
       "      <td>NaN</td>\n",
       "    </tr>\n",
       "  </tbody>\n",
       "</table>\n",
       "</div>"
      ],
      "text/plain": [
       "         Team  HGS  AGS  HAS  AAS  HGC  AGC  HDS  ADS\n",
       "0     Almeria   26   17  NaN  NaN   31   40  NaN  NaN\n",
       "1  Ath Bilbao   42   24  NaN  NaN   18   21  NaN  NaN\n",
       "2  Ath Madrid   49   28  NaN  NaN   10   16  NaN  NaN\n",
       "3   Barcelona   64   36  NaN  NaN   15   18  NaN  NaN\n",
       "4       Betis   19   17  NaN  NaN   31   47  NaN  NaN"
      ]
     },
     "execution_count": 10,
     "metadata": {},
     "output_type": "execute_result"
    }
   ],
   "source": [
    "table_13.Team = res_home.HomeTeam.all().values\n",
    "table_13.HGS = res_home.FTHG.sum().values\n",
    "table_13.HGC = res_home.FTAG.sum().values\n",
    "table_13.AGS = res_away.FTAG.sum().values\n",
    "table_13.AGC = res_away.FTHG.sum().values\n",
    "table_13.head()"
   ]
  },
  {
   "cell_type": "code",
   "execution_count": 11,
   "metadata": {
    "collapsed": false
   },
   "outputs": [
    {
     "data": {
      "text/html": [
       "<div>\n",
       "<table border=\"1\" class=\"dataframe\">\n",
       "  <thead>\n",
       "    <tr style=\"text-align: right;\">\n",
       "      <th></th>\n",
       "      <th>Team</th>\n",
       "      <th>HGS</th>\n",
       "      <th>AGS</th>\n",
       "      <th>HAS</th>\n",
       "      <th>AAS</th>\n",
       "      <th>HGC</th>\n",
       "      <th>AGC</th>\n",
       "      <th>HDS</th>\n",
       "      <th>ADS</th>\n",
       "    </tr>\n",
       "  </thead>\n",
       "  <tbody>\n",
       "    <tr>\n",
       "      <th>0</th>\n",
       "      <td>Almeria</td>\n",
       "      <td>26</td>\n",
       "      <td>17</td>\n",
       "      <td>0.838710</td>\n",
       "      <td>0.800000</td>\n",
       "      <td>31</td>\n",
       "      <td>40</td>\n",
       "      <td>1.458824</td>\n",
       "      <td>1.290323</td>\n",
       "    </tr>\n",
       "    <tr>\n",
       "      <th>1</th>\n",
       "      <td>Ath Bilbao</td>\n",
       "      <td>42</td>\n",
       "      <td>24</td>\n",
       "      <td>1.354839</td>\n",
       "      <td>1.129412</td>\n",
       "      <td>18</td>\n",
       "      <td>21</td>\n",
       "      <td>0.847059</td>\n",
       "      <td>0.677419</td>\n",
       "    </tr>\n",
       "    <tr>\n",
       "      <th>2</th>\n",
       "      <td>Ath Madrid</td>\n",
       "      <td>49</td>\n",
       "      <td>28</td>\n",
       "      <td>1.580645</td>\n",
       "      <td>1.317647</td>\n",
       "      <td>10</td>\n",
       "      <td>16</td>\n",
       "      <td>0.470588</td>\n",
       "      <td>0.516129</td>\n",
       "    </tr>\n",
       "    <tr>\n",
       "      <th>3</th>\n",
       "      <td>Barcelona</td>\n",
       "      <td>64</td>\n",
       "      <td>36</td>\n",
       "      <td>2.064516</td>\n",
       "      <td>1.694118</td>\n",
       "      <td>15</td>\n",
       "      <td>18</td>\n",
       "      <td>0.705882</td>\n",
       "      <td>0.580645</td>\n",
       "    </tr>\n",
       "    <tr>\n",
       "      <th>4</th>\n",
       "      <td>Betis</td>\n",
       "      <td>19</td>\n",
       "      <td>17</td>\n",
       "      <td>0.612903</td>\n",
       "      <td>0.800000</td>\n",
       "      <td>31</td>\n",
       "      <td>47</td>\n",
       "      <td>1.458824</td>\n",
       "      <td>1.516129</td>\n",
       "    </tr>\n",
       "  </tbody>\n",
       "</table>\n",
       "</div>"
      ],
      "text/plain": [
       "         Team  HGS  AGS       HAS       AAS  HGC  AGC       HDS       ADS\n",
       "0     Almeria   26   17  0.838710  0.800000   31   40  1.458824  1.290323\n",
       "1  Ath Bilbao   42   24  1.354839  1.129412   18   21  0.847059  0.677419\n",
       "2  Ath Madrid   49   28  1.580645  1.317647   10   16  0.470588  0.516129\n",
       "3   Barcelona   64   36  2.064516  1.694118   15   18  0.705882  0.580645\n",
       "4       Betis   19   17  0.612903  0.800000   31   47  1.458824  1.516129"
      ]
     },
     "execution_count": 11,
     "metadata": {},
     "output_type": "execute_result"
    }
   ],
   "source": [
    "table_13.HAS = (table_13.HGS / 19.0) / avg_home_scored_13\n",
    "table_13.AAS = (table_13.AGS / 19.0) / avg_away_scored_13\n",
    "table_13.HDS = (table_13.HGC / 19.0) / avg_home_conceded_13\n",
    "table_13.ADS = (table_13.AGC / 19.0) / avg_away_conceded_13\n",
    "table_13.head()"
   ]
  },
  {
   "cell_type": "code",
   "execution_count": 12,
   "metadata": {
    "collapsed": true
   },
   "outputs": [],
   "source": [
    "#Expected number of goals based on the average poisson probability\n",
    "def exp_goals(mean):\n",
    "    max_pmf = 0;\n",
    "    for i in xrange(7):\n",
    "        pmf = scipy.distributions.poisson.pmf(i,mean) * 100 \n",
    "        if pmf > max_pmf:\n",
    "            max_pmf = pmf\n",
    "            goals = i\n",
    "    return goals"
   ]
  },
  {
   "cell_type": "code",
   "execution_count": 13,
   "metadata": {
    "collapsed": false
   },
   "outputs": [
    {
     "data": {
      "text/html": [
       "<div>\n",
       "<table border=\"1\" class=\"dataframe\">\n",
       "  <thead>\n",
       "    <tr style=\"text-align: right;\">\n",
       "      <th></th>\n",
       "      <th>HomeTeam</th>\n",
       "      <th>AwayTeam</th>\n",
       "      <th>FTHG</th>\n",
       "      <th>FTAG</th>\n",
       "      <th>FTR</th>\n",
       "    </tr>\n",
       "  </thead>\n",
       "  <tbody>\n",
       "    <tr>\n",
       "      <th>0</th>\n",
       "      <td>Almeria</td>\n",
       "      <td>Espanol</td>\n",
       "      <td>1</td>\n",
       "      <td>1</td>\n",
       "      <td>D</td>\n",
       "    </tr>\n",
       "    <tr>\n",
       "      <th>1</th>\n",
       "      <td>Granada</td>\n",
       "      <td>La Coruna</td>\n",
       "      <td>2</td>\n",
       "      <td>1</td>\n",
       "      <td>H</td>\n",
       "    </tr>\n",
       "    <tr>\n",
       "      <th>2</th>\n",
       "      <td>Malaga</td>\n",
       "      <td>Ath Bilbao</td>\n",
       "      <td>1</td>\n",
       "      <td>0</td>\n",
       "      <td>H</td>\n",
       "    </tr>\n",
       "    <tr>\n",
       "      <th>3</th>\n",
       "      <td>Sevilla</td>\n",
       "      <td>Valencia</td>\n",
       "      <td>1</td>\n",
       "      <td>1</td>\n",
       "      <td>D</td>\n",
       "    </tr>\n",
       "    <tr>\n",
       "      <th>4</th>\n",
       "      <td>Barcelona</td>\n",
       "      <td>Elche</td>\n",
       "      <td>3</td>\n",
       "      <td>0</td>\n",
       "      <td>H</td>\n",
       "    </tr>\n",
       "  </tbody>\n",
       "</table>\n",
       "</div>"
      ],
      "text/plain": [
       "    HomeTeam    AwayTeam  FTHG  FTAG FTR\n",
       "0    Almeria     Espanol     1     1   D\n",
       "1    Granada   La Coruna     2     1   H\n",
       "2     Malaga  Ath Bilbao     1     0   H\n",
       "3    Sevilla    Valencia     1     1   D\n",
       "4  Barcelona       Elche     3     0   H"
      ]
     },
     "execution_count": 13,
     "metadata": {},
     "output_type": "execute_result"
    }
   ],
   "source": [
    "test_13 = res_13.ix[:,0:5]\n",
    "test_13.head()\n",
    "test_14 = res_14.ix[:,0:5]\n",
    "test_14.head()"
   ]
  },
  {
   "cell_type": "code",
   "execution_count": 14,
   "metadata": {
    "collapsed": false
   },
   "outputs": [],
   "source": [
    "table_13[table_13['Team'] == 'Barcelona']\n",
    "test_14['ER'] = ''\n"
   ]
  },
  {
   "cell_type": "code",
   "execution_count": 15,
   "metadata": {
    "collapsed": false
   },
   "outputs": [],
   "source": [
    "results = []\n",
    "for index, row in test_14.iterrows():\n",
    "\n",
    "    home_team = table_13[table_13['Team'] == row['HomeTeam']]\n",
    "    away_team = table_13[table_13['Team'] == row['AwayTeam']]\n",
    "    #print \"Home : \", home_team.HAS.values, \"Away: \", away_team.AAS.\n",
    "     \n",
    "    if row.HomeTeam not in ['Leicester', 'QPR', 'Burnley'] and row.AwayTeam not in ['Leicester', 'QPR', 'Burnley']:\n",
    "        EH = home_team.HAS.values * away_team.ADS.values * avg_home_scored_13\n",
    "        EA = home_team.HDS.values * away_team.AAS.values * avg_home_conceded_13\n",
    "        #print row.HomeTeam, row.AwayTeam\n",
    "        if exp_goals(EH) > exp_goals(EA):\n",
    "            results.append('H')\n",
    "        elif exp_goals(EH) < exp_goals(EA):\n",
    "            results.append('A')\n",
    "        else:\n",
    "            results.append('D')\n",
    "    else:\n",
    "        results.append('D')"
   ]
  },
  {
   "cell_type": "code",
   "execution_count": 16,
   "metadata": {
    "collapsed": false
   },
   "outputs": [
    {
     "data": {
      "text/plain": [
       "380"
      ]
     },
     "execution_count": 16,
     "metadata": {},
     "output_type": "execute_result"
    }
   ],
   "source": [
    "len(results)"
   ]
  },
  {
   "cell_type": "code",
   "execution_count": 35,
   "metadata": {
    "collapsed": false
   },
   "outputs": [],
   "source": [
    "test_14['ER'] = results"
   ]
  },
  {
   "cell_type": "code",
   "execution_count": 36,
   "metadata": {
    "collapsed": false
   },
   "outputs": [
    {
     "data": {
      "text/html": [
       "<div>\n",
       "<table border=\"1\" class=\"dataframe\">\n",
       "  <thead>\n",
       "    <tr style=\"text-align: right;\">\n",
       "      <th></th>\n",
       "      <th>HomeTeam</th>\n",
       "      <th>AwayTeam</th>\n",
       "      <th>FTHG</th>\n",
       "      <th>FTAG</th>\n",
       "      <th>FTR</th>\n",
       "      <th>ER</th>\n",
       "    </tr>\n",
       "  </thead>\n",
       "  <tbody>\n",
       "    <tr>\n",
       "      <th>4</th>\n",
       "      <td>Barcelona</td>\n",
       "      <td>Elche</td>\n",
       "      <td>3</td>\n",
       "      <td>0</td>\n",
       "      <td>H</td>\n",
       "      <td>H</td>\n",
       "    </tr>\n",
       "    <tr>\n",
       "      <th>21</th>\n",
       "      <td>Barcelona</td>\n",
       "      <td>Ath Bilbao</td>\n",
       "      <td>2</td>\n",
       "      <td>0</td>\n",
       "      <td>H</td>\n",
       "      <td>D</td>\n",
       "    </tr>\n",
       "    <tr>\n",
       "      <th>53</th>\n",
       "      <td>Barcelona</td>\n",
       "      <td>Granada</td>\n",
       "      <td>6</td>\n",
       "      <td>0</td>\n",
       "      <td>H</td>\n",
       "      <td>H</td>\n",
       "    </tr>\n",
       "    <tr>\n",
       "      <th>72</th>\n",
       "      <td>Barcelona</td>\n",
       "      <td>Eibar</td>\n",
       "      <td>3</td>\n",
       "      <td>0</td>\n",
       "      <td>H</td>\n",
       "      <td>H</td>\n",
       "    </tr>\n",
       "    <tr>\n",
       "      <th>92</th>\n",
       "      <td>Barcelona</td>\n",
       "      <td>Celta</td>\n",
       "      <td>0</td>\n",
       "      <td>1</td>\n",
       "      <td>A</td>\n",
       "      <td>D</td>\n",
       "    </tr>\n",
       "    <tr>\n",
       "      <th>112</th>\n",
       "      <td>Barcelona</td>\n",
       "      <td>Sevilla</td>\n",
       "      <td>5</td>\n",
       "      <td>1</td>\n",
       "      <td>H</td>\n",
       "      <td>H</td>\n",
       "    </tr>\n",
       "    <tr>\n",
       "      <th>134</th>\n",
       "      <td>Barcelona</td>\n",
       "      <td>Espanol</td>\n",
       "      <td>5</td>\n",
       "      <td>1</td>\n",
       "      <td>H</td>\n",
       "      <td>D</td>\n",
       "    </tr>\n",
       "    <tr>\n",
       "      <th>151</th>\n",
       "      <td>Barcelona</td>\n",
       "      <td>Cordoba</td>\n",
       "      <td>5</td>\n",
       "      <td>0</td>\n",
       "      <td>H</td>\n",
       "      <td>H</td>\n",
       "    </tr>\n",
       "    <tr>\n",
       "      <th>176</th>\n",
       "      <td>Barcelona</td>\n",
       "      <td>Ath Madrid</td>\n",
       "      <td>3</td>\n",
       "      <td>1</td>\n",
       "      <td>H</td>\n",
       "      <td>H</td>\n",
       "    </tr>\n",
       "    <tr>\n",
       "      <th>205</th>\n",
       "      <td>Barcelona</td>\n",
       "      <td>Villarreal</td>\n",
       "      <td>3</td>\n",
       "      <td>2</td>\n",
       "      <td>H</td>\n",
       "      <td>D</td>\n",
       "    </tr>\n",
       "    <tr>\n",
       "      <th>225</th>\n",
       "      <td>Barcelona</td>\n",
       "      <td>Levante</td>\n",
       "      <td>5</td>\n",
       "      <td>0</td>\n",
       "      <td>H</td>\n",
       "      <td>H</td>\n",
       "    </tr>\n",
       "    <tr>\n",
       "      <th>232</th>\n",
       "      <td>Barcelona</td>\n",
       "      <td>Malaga</td>\n",
       "      <td>0</td>\n",
       "      <td>1</td>\n",
       "      <td>A</td>\n",
       "      <td>H</td>\n",
       "    </tr>\n",
       "    <tr>\n",
       "      <th>256</th>\n",
       "      <td>Barcelona</td>\n",
       "      <td>Vallecano</td>\n",
       "      <td>6</td>\n",
       "      <td>1</td>\n",
       "      <td>H</td>\n",
       "      <td>H</td>\n",
       "    </tr>\n",
       "    <tr>\n",
       "      <th>276</th>\n",
       "      <td>Barcelona</td>\n",
       "      <td>Real Madrid</td>\n",
       "      <td>2</td>\n",
       "      <td>1</td>\n",
       "      <td>H</td>\n",
       "      <td>H</td>\n",
       "    </tr>\n",
       "    <tr>\n",
       "      <th>293</th>\n",
       "      <td>Barcelona</td>\n",
       "      <td>Almeria</td>\n",
       "      <td>4</td>\n",
       "      <td>0</td>\n",
       "      <td>H</td>\n",
       "      <td>H</td>\n",
       "    </tr>\n",
       "    <tr>\n",
       "      <th>312</th>\n",
       "      <td>Barcelona</td>\n",
       "      <td>Valencia</td>\n",
       "      <td>2</td>\n",
       "      <td>0</td>\n",
       "      <td>H</td>\n",
       "      <td>H</td>\n",
       "    </tr>\n",
       "    <tr>\n",
       "      <th>331</th>\n",
       "      <td>Barcelona</td>\n",
       "      <td>Getafe</td>\n",
       "      <td>6</td>\n",
       "      <td>0</td>\n",
       "      <td>H</td>\n",
       "      <td>D</td>\n",
       "    </tr>\n",
       "    <tr>\n",
       "      <th>352</th>\n",
       "      <td>Barcelona</td>\n",
       "      <td>Sociedad</td>\n",
       "      <td>2</td>\n",
       "      <td>0</td>\n",
       "      <td>H</td>\n",
       "      <td>D</td>\n",
       "    </tr>\n",
       "    <tr>\n",
       "      <th>372</th>\n",
       "      <td>Barcelona</td>\n",
       "      <td>La Coruna</td>\n",
       "      <td>2</td>\n",
       "      <td>2</td>\n",
       "      <td>D</td>\n",
       "      <td>H</td>\n",
       "    </tr>\n",
       "  </tbody>\n",
       "</table>\n",
       "</div>"
      ],
      "text/plain": [
       "      HomeTeam     AwayTeam  FTHG  FTAG FTR ER\n",
       "4    Barcelona        Elche     3     0   H  H\n",
       "21   Barcelona   Ath Bilbao     2     0   H  D\n",
       "53   Barcelona      Granada     6     0   H  H\n",
       "72   Barcelona        Eibar     3     0   H  H\n",
       "92   Barcelona        Celta     0     1   A  D\n",
       "112  Barcelona      Sevilla     5     1   H  H\n",
       "134  Barcelona      Espanol     5     1   H  D\n",
       "151  Barcelona      Cordoba     5     0   H  H\n",
       "176  Barcelona   Ath Madrid     3     1   H  H\n",
       "205  Barcelona   Villarreal     3     2   H  D\n",
       "225  Barcelona      Levante     5     0   H  H\n",
       "232  Barcelona       Malaga     0     1   A  H\n",
       "256  Barcelona    Vallecano     6     1   H  H\n",
       "276  Barcelona  Real Madrid     2     1   H  H\n",
       "293  Barcelona      Almeria     4     0   H  H\n",
       "312  Barcelona     Valencia     2     0   H  H\n",
       "331  Barcelona       Getafe     6     0   H  D\n",
       "352  Barcelona     Sociedad     2     0   H  D\n",
       "372  Barcelona    La Coruna     2     2   D  H"
      ]
     },
     "execution_count": 36,
     "metadata": {},
     "output_type": "execute_result"
    }
   ],
   "source": [
    "test_14[test_14[\"HomeTeam\"]=='Barcelona']"
   ]
  },
  {
   "cell_type": "code",
   "execution_count": 19,
   "metadata": {
    "collapsed": false
   },
   "outputs": [],
   "source": [
    "from sklearn.metrics import accuracy_score\n"
   ]
  },
  {
   "cell_type": "code",
   "execution_count": 95,
   "metadata": {
    "collapsed": true
   },
   "outputs": [],
   "source": [
    "curr_table_14 = pd.DataFrame(columns=('Team','Streak','Position','Form'))"
   ]
  },
  {
   "cell_type": "code",
   "execution_count": 96,
   "metadata": {
    "collapsed": false
   },
   "outputs": [
    {
     "data": {
      "text/plain": [
       "array(['Almeria', 'Granada', 'Malaga', 'Sevilla', 'Barcelona', 'Celta',\n",
       "       'Eibar', 'Levante', 'Real Madrid', 'Vallecano', 'Getafe',\n",
       "       'Valencia', 'Ath Bilbao', 'Ath Madrid', 'Cordoba', 'Espanol',\n",
       "       'Elche', 'La Coruna', 'Sociedad', 'Villarreal'], dtype=object)"
      ]
     },
     "execution_count": 96,
     "metadata": {},
     "output_type": "execute_result"
    }
   ],
   "source": [
    "test_14.HomeTeam.unique()"
   ]
  },
  {
   "cell_type": "code",
   "execution_count": 103,
   "metadata": {
    "collapsed": false
   },
   "outputs": [],
   "source": [
    "curr_table_14.Team = test_14.HomeTeam.unique()\n",
    "curr_table_14.Streak = 0\n",
    "curr_table_14.Form = 0\n",
    "curr_table_14.sort_values(by='Team',inplace=True)\n",
    "curr_table_14.Position = xrange(1,21)"
   ]
  },
  {
   "cell_type": "code",
   "execution_count": 102,
   "metadata": {
    "collapsed": false
   },
   "outputs": [
    {
     "data": {
      "text/html": [
       "<div>\n",
       "<table border=\"1\" class=\"dataframe\">\n",
       "  <thead>\n",
       "    <tr style=\"text-align: right;\">\n",
       "      <th></th>\n",
       "      <th>Team</th>\n",
       "      <th>Streak</th>\n",
       "      <th>Position</th>\n",
       "      <th>Form</th>\n",
       "    </tr>\n",
       "  </thead>\n",
       "  <tbody>\n",
       "    <tr>\n",
       "      <th>0</th>\n",
       "      <td>Almeria</td>\n",
       "      <td>0</td>\n",
       "      <td>1</td>\n",
       "      <td>0</td>\n",
       "    </tr>\n",
       "    <tr>\n",
       "      <th>12</th>\n",
       "      <td>Ath Bilbao</td>\n",
       "      <td>0</td>\n",
       "      <td>2</td>\n",
       "      <td>0</td>\n",
       "    </tr>\n",
       "    <tr>\n",
       "      <th>13</th>\n",
       "      <td>Ath Madrid</td>\n",
       "      <td>0</td>\n",
       "      <td>3</td>\n",
       "      <td>0</td>\n",
       "    </tr>\n",
       "    <tr>\n",
       "      <th>4</th>\n",
       "      <td>Barcelona</td>\n",
       "      <td>0</td>\n",
       "      <td>4</td>\n",
       "      <td>0</td>\n",
       "    </tr>\n",
       "    <tr>\n",
       "      <th>5</th>\n",
       "      <td>Celta</td>\n",
       "      <td>0</td>\n",
       "      <td>5</td>\n",
       "      <td>0</td>\n",
       "    </tr>\n",
       "    <tr>\n",
       "      <th>14</th>\n",
       "      <td>Cordoba</td>\n",
       "      <td>0</td>\n",
       "      <td>6</td>\n",
       "      <td>0</td>\n",
       "    </tr>\n",
       "    <tr>\n",
       "      <th>6</th>\n",
       "      <td>Eibar</td>\n",
       "      <td>0</td>\n",
       "      <td>7</td>\n",
       "      <td>0</td>\n",
       "    </tr>\n",
       "    <tr>\n",
       "      <th>16</th>\n",
       "      <td>Elche</td>\n",
       "      <td>0</td>\n",
       "      <td>8</td>\n",
       "      <td>0</td>\n",
       "    </tr>\n",
       "    <tr>\n",
       "      <th>15</th>\n",
       "      <td>Espanol</td>\n",
       "      <td>0</td>\n",
       "      <td>9</td>\n",
       "      <td>0</td>\n",
       "    </tr>\n",
       "    <tr>\n",
       "      <th>10</th>\n",
       "      <td>Getafe</td>\n",
       "      <td>0</td>\n",
       "      <td>10</td>\n",
       "      <td>0</td>\n",
       "    </tr>\n",
       "    <tr>\n",
       "      <th>1</th>\n",
       "      <td>Granada</td>\n",
       "      <td>0</td>\n",
       "      <td>11</td>\n",
       "      <td>0</td>\n",
       "    </tr>\n",
       "    <tr>\n",
       "      <th>17</th>\n",
       "      <td>La Coruna</td>\n",
       "      <td>0</td>\n",
       "      <td>12</td>\n",
       "      <td>0</td>\n",
       "    </tr>\n",
       "    <tr>\n",
       "      <th>7</th>\n",
       "      <td>Levante</td>\n",
       "      <td>0</td>\n",
       "      <td>13</td>\n",
       "      <td>0</td>\n",
       "    </tr>\n",
       "    <tr>\n",
       "      <th>2</th>\n",
       "      <td>Malaga</td>\n",
       "      <td>0</td>\n",
       "      <td>14</td>\n",
       "      <td>0</td>\n",
       "    </tr>\n",
       "    <tr>\n",
       "      <th>8</th>\n",
       "      <td>Real Madrid</td>\n",
       "      <td>0</td>\n",
       "      <td>15</td>\n",
       "      <td>0</td>\n",
       "    </tr>\n",
       "    <tr>\n",
       "      <th>3</th>\n",
       "      <td>Sevilla</td>\n",
       "      <td>0</td>\n",
       "      <td>16</td>\n",
       "      <td>0</td>\n",
       "    </tr>\n",
       "    <tr>\n",
       "      <th>18</th>\n",
       "      <td>Sociedad</td>\n",
       "      <td>0</td>\n",
       "      <td>17</td>\n",
       "      <td>0</td>\n",
       "    </tr>\n",
       "    <tr>\n",
       "      <th>11</th>\n",
       "      <td>Valencia</td>\n",
       "      <td>0</td>\n",
       "      <td>18</td>\n",
       "      <td>0</td>\n",
       "    </tr>\n",
       "    <tr>\n",
       "      <th>9</th>\n",
       "      <td>Vallecano</td>\n",
       "      <td>0</td>\n",
       "      <td>19</td>\n",
       "      <td>0</td>\n",
       "    </tr>\n",
       "    <tr>\n",
       "      <th>19</th>\n",
       "      <td>Villarreal</td>\n",
       "      <td>0</td>\n",
       "      <td>20</td>\n",
       "      <td>0</td>\n",
       "    </tr>\n",
       "  </tbody>\n",
       "</table>\n",
       "</div>"
      ],
      "text/plain": [
       "           Team  Streak  Position  Form\n",
       "0       Almeria       0         1     0\n",
       "12   Ath Bilbao       0         2     0\n",
       "13   Ath Madrid       0         3     0\n",
       "4     Barcelona       0         4     0\n",
       "5         Celta       0         5     0\n",
       "14      Cordoba       0         6     0\n",
       "6         Eibar       0         7     0\n",
       "16        Elche       0         8     0\n",
       "15      Espanol       0         9     0\n",
       "10       Getafe       0        10     0\n",
       "1       Granada       0        11     0\n",
       "17    La Coruna       0        12     0\n",
       "7       Levante       0        13     0\n",
       "2        Malaga       0        14     0\n",
       "8   Real Madrid       0        15     0\n",
       "3       Sevilla       0        16     0\n",
       "18     Sociedad       0        17     0\n",
       "11     Valencia       0        18     0\n",
       "9     Vallecano       0        19     0\n",
       "19   Villarreal       0        20     0"
      ]
     },
     "execution_count": 102,
     "metadata": {},
     "output_type": "execute_result"
    }
   ],
   "source": [
    "curr_table_14"
   ]
  },
  {
   "cell_type": "code",
   "execution_count": 42,
   "metadata": {
    "collapsed": false
   },
   "outputs": [
    {
     "data": {
      "text/plain": [
       "0.57894736842105265"
      ]
     },
     "execution_count": 42,
     "metadata": {},
     "output_type": "execute_result"
    }
   ],
   "source": [
    "accuracy_score(test_14[(test_14[\"HomeTeam\"]=='Barcelona') ]['ER'], test_14[(test_14[\"HomeTeam\"]=='Barcelona')]['FTR'])"
   ]
  }
 ],
 "metadata": {
  "kernelspec": {
   "display_name": "Python [Root]",
   "language": "python",
   "name": "Python [Root]"
  },
  "language_info": {
   "codemirror_mode": {
    "name": "ipython",
    "version": 2
   },
   "file_extension": ".py",
   "mimetype": "text/x-python",
   "name": "python",
   "nbconvert_exporter": "python",
   "pygments_lexer": "ipython2",
   "version": "2.7.12"
  }
 },
 "nbformat": 4,
 "nbformat_minor": 0
}
