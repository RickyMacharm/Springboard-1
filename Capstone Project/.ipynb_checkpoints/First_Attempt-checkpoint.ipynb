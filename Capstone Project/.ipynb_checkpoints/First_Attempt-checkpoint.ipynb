{
 "cells": [
  {
   "cell_type": "code",
   "execution_count": 144,
   "metadata": {
    "collapsed": true
   },
   "outputs": [],
   "source": [
    "import pandas as pd\n",
    "import numpy as np\n",
    "import scipy.stats as scipy"
   ]
  },
  {
   "cell_type": "code",
   "execution_count": 52,
   "metadata": {
    "collapsed": true
   },
   "outputs": [],
   "source": [
    "df = pd.read_csv(\"./Data/E0_13.csv\")"
   ]
  },
  {
   "cell_type": "code",
   "execution_count": 53,
   "metadata": {
    "collapsed": false
   },
   "outputs": [
    {
     "data": {
      "text/plain": [
       "Index([u'Div', u'Date', u'HomeTeam', u'AwayTeam', u'FTHG', u'FTAG', u'FTR',\n",
       "       u'HTHG', u'HTAG', u'HTR', u'Referee', u'HS', u'AS', u'HST', u'AST',\n",
       "       u'HF', u'AF', u'HC', u'AC', u'HY', u'AY', u'HR', u'AR', u'B365H',\n",
       "       u'B365D', u'B365A', u'BWH', u'BWD', u'BWA', u'IWH', u'IWD', u'IWA',\n",
       "       u'LBH', u'LBD', u'LBA', u'PSH', u'PSD', u'PSA', u'WHH', u'WHD', u'WHA',\n",
       "       u'SJH', u'SJD', u'SJA', u'VCH', u'VCD', u'VCA', u'Bb1X2', u'BbMxH',\n",
       "       u'BbAvH', u'BbMxD', u'BbAvD', u'BbMxA', u'BbAvA', u'BbOU', u'BbMx>2.5',\n",
       "       u'BbAv>2.5', u'BbMx<2.5', u'BbAv<2.5', u'BbAH', u'BbAHh', u'BbMxAHH',\n",
       "       u'BbAvAHH', u'BbMxAHA', u'BbAvAHA', u'PSCH', u'PSCD', u'PSCA'],\n",
       "      dtype='object')"
      ]
     },
     "execution_count": 53,
     "metadata": {},
     "output_type": "execute_result"
    }
   ],
   "source": [
    "df.columns"
   ]
  },
  {
   "cell_type": "code",
   "execution_count": 54,
   "metadata": {
    "collapsed": false
   },
   "outputs": [],
   "source": [
    "res_15 = df.ix[:,:23]\n",
    "res_15 = res_15.drop(['Div','Date','Referee'],axis=1)\n",
    "\n",
    "bet_15 = df.ix[:,23:]"
   ]
  },
  {
   "cell_type": "code",
   "execution_count": 69,
   "metadata": {
    "collapsed": false
   },
   "outputs": [
    {
     "data": {
      "text/html": [
       "<div>\n",
       "<table border=\"1\" class=\"dataframe\">\n",
       "  <thead>\n",
       "    <tr style=\"text-align: right;\">\n",
       "      <th></th>\n",
       "      <th>HomeTeam</th>\n",
       "      <th>AwayTeam</th>\n",
       "      <th>FTHG</th>\n",
       "      <th>FTAG</th>\n",
       "      <th>FTR</th>\n",
       "      <th>HTHG</th>\n",
       "      <th>HTAG</th>\n",
       "      <th>HTR</th>\n",
       "      <th>HS</th>\n",
       "      <th>AS</th>\n",
       "      <th>HST</th>\n",
       "      <th>AST</th>\n",
       "      <th>HF</th>\n",
       "      <th>AF</th>\n",
       "      <th>HC</th>\n",
       "      <th>AC</th>\n",
       "      <th>HY</th>\n",
       "      <th>AY</th>\n",
       "      <th>HR</th>\n",
       "      <th>AR</th>\n",
       "    </tr>\n",
       "  </thead>\n",
       "  <tbody>\n",
       "    <tr>\n",
       "      <th>0</th>\n",
       "      <td>Arsenal</td>\n",
       "      <td>Aston Villa</td>\n",
       "      <td>1</td>\n",
       "      <td>3</td>\n",
       "      <td>A</td>\n",
       "      <td>1</td>\n",
       "      <td>1</td>\n",
       "      <td>D</td>\n",
       "      <td>16</td>\n",
       "      <td>9</td>\n",
       "      <td>4</td>\n",
       "      <td>4</td>\n",
       "      <td>15</td>\n",
       "      <td>18</td>\n",
       "      <td>4</td>\n",
       "      <td>3</td>\n",
       "      <td>4</td>\n",
       "      <td>5</td>\n",
       "      <td>1</td>\n",
       "      <td>0</td>\n",
       "    </tr>\n",
       "    <tr>\n",
       "      <th>1</th>\n",
       "      <td>Liverpool</td>\n",
       "      <td>Stoke</td>\n",
       "      <td>1</td>\n",
       "      <td>0</td>\n",
       "      <td>H</td>\n",
       "      <td>1</td>\n",
       "      <td>0</td>\n",
       "      <td>H</td>\n",
       "      <td>26</td>\n",
       "      <td>10</td>\n",
       "      <td>11</td>\n",
       "      <td>4</td>\n",
       "      <td>11</td>\n",
       "      <td>11</td>\n",
       "      <td>12</td>\n",
       "      <td>6</td>\n",
       "      <td>1</td>\n",
       "      <td>1</td>\n",
       "      <td>0</td>\n",
       "      <td>0</td>\n",
       "    </tr>\n",
       "    <tr>\n",
       "      <th>2</th>\n",
       "      <td>Norwich</td>\n",
       "      <td>Everton</td>\n",
       "      <td>2</td>\n",
       "      <td>2</td>\n",
       "      <td>D</td>\n",
       "      <td>0</td>\n",
       "      <td>0</td>\n",
       "      <td>D</td>\n",
       "      <td>8</td>\n",
       "      <td>19</td>\n",
       "      <td>2</td>\n",
       "      <td>6</td>\n",
       "      <td>13</td>\n",
       "      <td>10</td>\n",
       "      <td>6</td>\n",
       "      <td>8</td>\n",
       "      <td>2</td>\n",
       "      <td>0</td>\n",
       "      <td>0</td>\n",
       "      <td>0</td>\n",
       "    </tr>\n",
       "    <tr>\n",
       "      <th>3</th>\n",
       "      <td>Sunderland</td>\n",
       "      <td>Fulham</td>\n",
       "      <td>0</td>\n",
       "      <td>1</td>\n",
       "      <td>A</td>\n",
       "      <td>0</td>\n",
       "      <td>0</td>\n",
       "      <td>D</td>\n",
       "      <td>20</td>\n",
       "      <td>5</td>\n",
       "      <td>3</td>\n",
       "      <td>1</td>\n",
       "      <td>14</td>\n",
       "      <td>14</td>\n",
       "      <td>6</td>\n",
       "      <td>1</td>\n",
       "      <td>0</td>\n",
       "      <td>3</td>\n",
       "      <td>0</td>\n",
       "      <td>0</td>\n",
       "    </tr>\n",
       "    <tr>\n",
       "      <th>4</th>\n",
       "      <td>Swansea</td>\n",
       "      <td>Man United</td>\n",
       "      <td>1</td>\n",
       "      <td>4</td>\n",
       "      <td>A</td>\n",
       "      <td>0</td>\n",
       "      <td>2</td>\n",
       "      <td>A</td>\n",
       "      <td>17</td>\n",
       "      <td>15</td>\n",
       "      <td>6</td>\n",
       "      <td>7</td>\n",
       "      <td>13</td>\n",
       "      <td>10</td>\n",
       "      <td>7</td>\n",
       "      <td>4</td>\n",
       "      <td>1</td>\n",
       "      <td>3</td>\n",
       "      <td>0</td>\n",
       "      <td>0</td>\n",
       "    </tr>\n",
       "  </tbody>\n",
       "</table>\n",
       "</div>"
      ],
      "text/plain": [
       "     HomeTeam     AwayTeam  FTHG  FTAG FTR  HTHG  HTAG HTR  HS  AS  HST  AST  \\\n",
       "0     Arsenal  Aston Villa     1     3   A     1     1   D  16   9    4    4   \n",
       "1   Liverpool        Stoke     1     0   H     1     0   H  26  10   11    4   \n",
       "2     Norwich      Everton     2     2   D     0     0   D   8  19    2    6   \n",
       "3  Sunderland       Fulham     0     1   A     0     0   D  20   5    3    1   \n",
       "4     Swansea   Man United     1     4   A     0     2   A  17  15    6    7   \n",
       "\n",
       "   HF  AF  HC  AC  HY  AY  HR  AR  \n",
       "0  15  18   4   3   4   5   1   0  \n",
       "1  11  11  12   6   1   1   0   0  \n",
       "2  13  10   6   8   2   0   0   0  \n",
       "3  14  14   6   1   0   3   0   0  \n",
       "4  13  10   7   4   1   3   0   0  "
      ]
     },
     "execution_count": 69,
     "metadata": {},
     "output_type": "execute_result"
    }
   ],
   "source": [
    "res_15.head()"
   ]
  },
  {
   "cell_type": "code",
   "execution_count": 125,
   "metadata": {
    "collapsed": false
   },
   "outputs": [],
   "source": [
    "#Team, Home Goals Score, Away Goals Score, Attack Strength, Home Goals Conceded, Away Goals Conceded, Defensive Strength\n",
    "table_15 = pd.DataFrame(columns=('Team','HGS','AGS','HAS','AAS','HGC','AGC','HDS','ADS'))"
   ]
  },
  {
   "cell_type": "code",
   "execution_count": 126,
   "metadata": {
    "collapsed": false
   },
   "outputs": [
    {
     "name": "stdout",
     "output_type": "stream",
     "text": [
      "Average number of goals at home 1.57368421053\n",
      "Average number of goals away 1.19473684211\n",
      "Average number of goals conceded at home 1.19473684211\n",
      "Average number of goals conceded away 1.57368421053\n"
     ]
    }
   ],
   "source": [
    "avg_home_scored_15 = res_15.FTHG.sum() / 380.0\n",
    "avg_away_scored_15 = res_15.FTAG.sum() / 380.0\n",
    "avg_home_conceded_15 = avg_away_scored_15\n",
    "avg_away_conceded_15 = avg_home_scored_15\n",
    "print \"Average number of goals at home\",avg_home_scored_15\n",
    "print \"Average number of goals away\", avg_away_scored_15\n",
    "print \"Average number of goals conceded at home\",avg_away_goals_15\n",
    "print \"Average number of goals conceded away\",avg_home_goals_15\n"
   ]
  },
  {
   "cell_type": "code",
   "execution_count": 127,
   "metadata": {
    "collapsed": false
   },
   "outputs": [],
   "source": [
    "res_home = res_15.groupby('HomeTeam')\n",
    "res_away = res_15.groupby('AwayTeam')"
   ]
  },
  {
   "cell_type": "code",
   "execution_count": 128,
   "metadata": {
    "collapsed": false
   },
   "outputs": [
    {
     "data": {
      "text/plain": [
       "('Arsenal',\n",
       "     HomeTeam        AwayTeam  FTHG  FTAG FTR  HTHG  HTAG HTR  HS  AS  HST  \\\n",
       " 0    Arsenal     Aston Villa     1     3   A     1     1   D  16   9    4   \n",
       " 27   Arsenal       Tottenham     1     0   H     1     0   H  12  14    5   \n",
       " 46   Arsenal           Stoke     3     1   H     2     1   H  16   9    8   \n",
       " 70   Arsenal         Norwich     4     1   H     1     0   H  20  12   11   \n",
       " 90   Arsenal       Liverpool     2     0   H     1     0   H  12  12    7   \n",
       " 110  Arsenal     Southampton     2     0   H     1     0   H   9  10    4   \n",
       " 131  Arsenal            Hull     2     0   H     1     0   H  20   7    7   \n",
       " 147  Arsenal         Everton     1     1   D     0     0   D  11  12    5   \n",
       " 169  Arsenal         Chelsea     0     0   D     0     0   D   7  13    2   \n",
       " 190  Arsenal         Cardiff     2     0   H     0     0   D  28   8    6   \n",
       " 210  Arsenal          Fulham     2     0   H     0     0   D  22   8    8   \n",
       " 237  Arsenal  Crystal Palace     2     0   H     0     0   D  11  10    6   \n",
       " 254  Arsenal      Man United     0     0   D     0     0   D  17   6    5   \n",
       " 258  Arsenal      Sunderland     4     1   H     3     0   H  12   7    9   \n",
       " 301  Arsenal         Swansea     2     2   D     0     1   A  13   8    4   \n",
       " 306  Arsenal        Man City     1     1   D     0     1   A  10  15    3   \n",
       " 334  Arsenal        West Ham     3     1   H     1     1   D  14  12    8   \n",
       " 356  Arsenal       Newcastle     3     0   H     2     0   H  20   8    8   \n",
       " 364  Arsenal       West Brom     1     0   H     1     0   H  15  11    4   \n",
       " \n",
       "      AST  HF  AF  HC  AC  HY  AY  HR  AR  \n",
       " 0      4  15  18   4   3   4   5   1   0  \n",
       " 27     4  15  14   3   6   2   2   0   0  \n",
       " 46     3   8  15   6   7   0   2   0   0  \n",
       " 70     6   8   7  10   1   0   0   0   0  \n",
       " 90     4  11   7   3   5   2   1   0   0  \n",
       " 110    4  10  14   5   6   0   3   0   0  \n",
       " 131    2   9   6  11   1   0   0   0   0  \n",
       " 147    4  13  11   3   2   0   4   0   0  \n",
       " 169    4   7  11   8   6   2   1   0   0  \n",
       " 190    2   6  11  12   2   1   2   0   0  \n",
       " 210    2   5   7   4   4   0   0   0   0  \n",
       " 237    2   9  14   6   5   1   2   0   0  \n",
       " 254    2  10  14   5   5   1   2   0   0  \n",
       " 258    3  10  11   7   3   0   1   0   0  \n",
       " 301    2  11  12   7   0   0   1   0   0  \n",
       " 306    4   8  11   6   6   1   4   0   0  \n",
       " 334    2  14  12   4   3   2   2   0   0  \n",
       " 356    3   9   8  14   0   3   2   0   0  \n",
       " 364    1   9   6   9  10   2   2   0   0  )"
      ]
     },
     "execution_count": 128,
     "metadata": {},
     "output_type": "execute_result"
    }
   ],
   "source": [
    "list(res_home)[0]"
   ]
  },
  {
   "cell_type": "code",
   "execution_count": 160,
   "metadata": {
    "collapsed": false
   },
   "outputs": [
    {
     "data": {
      "text/html": [
       "<div>\n",
       "<table border=\"1\" class=\"dataframe\">\n",
       "  <thead>\n",
       "    <tr style=\"text-align: right;\">\n",
       "      <th></th>\n",
       "      <th>Team</th>\n",
       "      <th>HGS</th>\n",
       "      <th>AGS</th>\n",
       "      <th>HAS</th>\n",
       "      <th>AAS</th>\n",
       "      <th>HGC</th>\n",
       "      <th>AGC</th>\n",
       "      <th>HDS</th>\n",
       "      <th>ADS</th>\n",
       "    </tr>\n",
       "  </thead>\n",
       "  <tbody>\n",
       "    <tr>\n",
       "      <th>0</th>\n",
       "      <td>Arsenal</td>\n",
       "      <td>36</td>\n",
       "      <td>32</td>\n",
       "      <td>1.204013</td>\n",
       "      <td>1.409692</td>\n",
       "      <td>11</td>\n",
       "      <td>30</td>\n",
       "      <td>0.484581</td>\n",
       "      <td>1.003344</td>\n",
       "    </tr>\n",
       "    <tr>\n",
       "      <th>1</th>\n",
       "      <td>Aston Villa</td>\n",
       "      <td>22</td>\n",
       "      <td>17</td>\n",
       "      <td>0.735786</td>\n",
       "      <td>0.748899</td>\n",
       "      <td>29</td>\n",
       "      <td>32</td>\n",
       "      <td>1.277533</td>\n",
       "      <td>1.070234</td>\n",
       "    </tr>\n",
       "    <tr>\n",
       "      <th>2</th>\n",
       "      <td>Cardiff</td>\n",
       "      <td>20</td>\n",
       "      <td>12</td>\n",
       "      <td>0.668896</td>\n",
       "      <td>0.528634</td>\n",
       "      <td>35</td>\n",
       "      <td>39</td>\n",
       "      <td>1.541850</td>\n",
       "      <td>1.304348</td>\n",
       "    </tr>\n",
       "    <tr>\n",
       "      <th>3</th>\n",
       "      <td>Chelsea</td>\n",
       "      <td>43</td>\n",
       "      <td>28</td>\n",
       "      <td>1.438127</td>\n",
       "      <td>1.233480</td>\n",
       "      <td>11</td>\n",
       "      <td>16</td>\n",
       "      <td>0.484581</td>\n",
       "      <td>0.535117</td>\n",
       "    </tr>\n",
       "    <tr>\n",
       "      <th>4</th>\n",
       "      <td>Crystal Palace</td>\n",
       "      <td>18</td>\n",
       "      <td>15</td>\n",
       "      <td>0.602007</td>\n",
       "      <td>0.660793</td>\n",
       "      <td>23</td>\n",
       "      <td>25</td>\n",
       "      <td>1.013216</td>\n",
       "      <td>0.836120</td>\n",
       "    </tr>\n",
       "  </tbody>\n",
       "</table>\n",
       "</div>"
      ],
      "text/plain": [
       "             Team  HGS  AGS       HAS       AAS  HGC  AGC       HDS       ADS\n",
       "0         Arsenal   36   32  1.204013  1.409692   11   30  0.484581  1.003344\n",
       "1     Aston Villa   22   17  0.735786  0.748899   29   32  1.277533  1.070234\n",
       "2         Cardiff   20   12  0.668896  0.528634   35   39  1.541850  1.304348\n",
       "3         Chelsea   43   28  1.438127  1.233480   11   16  0.484581  0.535117\n",
       "4  Crystal Palace   18   15  0.602007  0.660793   23   25  1.013216  0.836120"
      ]
     },
     "execution_count": 160,
     "metadata": {},
     "output_type": "execute_result"
    }
   ],
   "source": [
    "table_15.Team = res_home.HomeTeam.all().values\n",
    "table_15.HGS = res_home.FTHG.sum().values\n",
    "table_15.HGC = res_home.FTAG.sum().values\n",
    "table_15.AGS = res_away.FTAG.sum().values\n",
    "table_15.AGC = res_away.FTHG.sum().values\n",
    "table_15.head()"
   ]
  },
  {
   "cell_type": "code",
   "execution_count": 171,
   "metadata": {
    "collapsed": false
   },
   "outputs": [
    {
     "data": {
      "text/html": [
       "<div>\n",
       "<table border=\"1\" class=\"dataframe\">\n",
       "  <thead>\n",
       "    <tr style=\"text-align: right;\">\n",
       "      <th></th>\n",
       "      <th>Team</th>\n",
       "      <th>HGS</th>\n",
       "      <th>AGS</th>\n",
       "      <th>HAS</th>\n",
       "      <th>AAS</th>\n",
       "      <th>HGC</th>\n",
       "      <th>AGC</th>\n",
       "      <th>HDS</th>\n",
       "      <th>ADS</th>\n",
       "    </tr>\n",
       "  </thead>\n",
       "  <tbody>\n",
       "    <tr>\n",
       "      <th>0</th>\n",
       "      <td>Arsenal</td>\n",
       "      <td>36</td>\n",
       "      <td>32</td>\n",
       "      <td>1.204013</td>\n",
       "      <td>1.409692</td>\n",
       "      <td>11</td>\n",
       "      <td>30</td>\n",
       "      <td>0.484581</td>\n",
       "      <td>1.003344</td>\n",
       "    </tr>\n",
       "    <tr>\n",
       "      <th>1</th>\n",
       "      <td>Aston Villa</td>\n",
       "      <td>22</td>\n",
       "      <td>17</td>\n",
       "      <td>0.735786</td>\n",
       "      <td>0.748899</td>\n",
       "      <td>29</td>\n",
       "      <td>32</td>\n",
       "      <td>1.277533</td>\n",
       "      <td>1.070234</td>\n",
       "    </tr>\n",
       "    <tr>\n",
       "      <th>2</th>\n",
       "      <td>Cardiff</td>\n",
       "      <td>20</td>\n",
       "      <td>12</td>\n",
       "      <td>0.668896</td>\n",
       "      <td>0.528634</td>\n",
       "      <td>35</td>\n",
       "      <td>39</td>\n",
       "      <td>1.541850</td>\n",
       "      <td>1.304348</td>\n",
       "    </tr>\n",
       "    <tr>\n",
       "      <th>3</th>\n",
       "      <td>Chelsea</td>\n",
       "      <td>43</td>\n",
       "      <td>28</td>\n",
       "      <td>1.438127</td>\n",
       "      <td>1.233480</td>\n",
       "      <td>11</td>\n",
       "      <td>16</td>\n",
       "      <td>0.484581</td>\n",
       "      <td>0.535117</td>\n",
       "    </tr>\n",
       "    <tr>\n",
       "      <th>4</th>\n",
       "      <td>Crystal Palace</td>\n",
       "      <td>18</td>\n",
       "      <td>15</td>\n",
       "      <td>0.602007</td>\n",
       "      <td>0.660793</td>\n",
       "      <td>23</td>\n",
       "      <td>25</td>\n",
       "      <td>1.013216</td>\n",
       "      <td>0.836120</td>\n",
       "    </tr>\n",
       "    <tr>\n",
       "      <th>5</th>\n",
       "      <td>Everton</td>\n",
       "      <td>38</td>\n",
       "      <td>23</td>\n",
       "      <td>1.270903</td>\n",
       "      <td>1.013216</td>\n",
       "      <td>19</td>\n",
       "      <td>20</td>\n",
       "      <td>0.837004</td>\n",
       "      <td>0.668896</td>\n",
       "    </tr>\n",
       "    <tr>\n",
       "      <th>6</th>\n",
       "      <td>Fulham</td>\n",
       "      <td>24</td>\n",
       "      <td>16</td>\n",
       "      <td>0.802676</td>\n",
       "      <td>0.704846</td>\n",
       "      <td>38</td>\n",
       "      <td>47</td>\n",
       "      <td>1.674009</td>\n",
       "      <td>1.571906</td>\n",
       "    </tr>\n",
       "    <tr>\n",
       "      <th>7</th>\n",
       "      <td>Hull</td>\n",
       "      <td>20</td>\n",
       "      <td>18</td>\n",
       "      <td>0.668896</td>\n",
       "      <td>0.792952</td>\n",
       "      <td>21</td>\n",
       "      <td>32</td>\n",
       "      <td>0.925110</td>\n",
       "      <td>1.070234</td>\n",
       "    </tr>\n",
       "    <tr>\n",
       "      <th>8</th>\n",
       "      <td>Liverpool</td>\n",
       "      <td>53</td>\n",
       "      <td>48</td>\n",
       "      <td>1.772575</td>\n",
       "      <td>2.114537</td>\n",
       "      <td>18</td>\n",
       "      <td>32</td>\n",
       "      <td>0.792952</td>\n",
       "      <td>1.070234</td>\n",
       "    </tr>\n",
       "    <tr>\n",
       "      <th>9</th>\n",
       "      <td>Man City</td>\n",
       "      <td>63</td>\n",
       "      <td>39</td>\n",
       "      <td>2.107023</td>\n",
       "      <td>1.718062</td>\n",
       "      <td>13</td>\n",
       "      <td>24</td>\n",
       "      <td>0.572687</td>\n",
       "      <td>0.802676</td>\n",
       "    </tr>\n",
       "    <tr>\n",
       "      <th>10</th>\n",
       "      <td>Man United</td>\n",
       "      <td>29</td>\n",
       "      <td>35</td>\n",
       "      <td>0.969900</td>\n",
       "      <td>1.541850</td>\n",
       "      <td>21</td>\n",
       "      <td>22</td>\n",
       "      <td>0.925110</td>\n",
       "      <td>0.735786</td>\n",
       "    </tr>\n",
       "    <tr>\n",
       "      <th>11</th>\n",
       "      <td>Newcastle</td>\n",
       "      <td>23</td>\n",
       "      <td>20</td>\n",
       "      <td>0.769231</td>\n",
       "      <td>0.881057</td>\n",
       "      <td>28</td>\n",
       "      <td>31</td>\n",
       "      <td>1.233480</td>\n",
       "      <td>1.036789</td>\n",
       "    </tr>\n",
       "    <tr>\n",
       "      <th>12</th>\n",
       "      <td>Norwich</td>\n",
       "      <td>17</td>\n",
       "      <td>11</td>\n",
       "      <td>0.568562</td>\n",
       "      <td>0.484581</td>\n",
       "      <td>18</td>\n",
       "      <td>44</td>\n",
       "      <td>0.792952</td>\n",
       "      <td>1.471572</td>\n",
       "    </tr>\n",
       "    <tr>\n",
       "      <th>13</th>\n",
       "      <td>Southampton</td>\n",
       "      <td>32</td>\n",
       "      <td>22</td>\n",
       "      <td>1.070234</td>\n",
       "      <td>0.969163</td>\n",
       "      <td>23</td>\n",
       "      <td>23</td>\n",
       "      <td>1.013216</td>\n",
       "      <td>0.769231</td>\n",
       "    </tr>\n",
       "    <tr>\n",
       "      <th>14</th>\n",
       "      <td>Stoke</td>\n",
       "      <td>27</td>\n",
       "      <td>18</td>\n",
       "      <td>0.903010</td>\n",
       "      <td>0.792952</td>\n",
       "      <td>17</td>\n",
       "      <td>35</td>\n",
       "      <td>0.748899</td>\n",
       "      <td>1.170569</td>\n",
       "    </tr>\n",
       "    <tr>\n",
       "      <th>15</th>\n",
       "      <td>Sunderland</td>\n",
       "      <td>21</td>\n",
       "      <td>20</td>\n",
       "      <td>0.702341</td>\n",
       "      <td>0.881057</td>\n",
       "      <td>27</td>\n",
       "      <td>33</td>\n",
       "      <td>1.189427</td>\n",
       "      <td>1.103679</td>\n",
       "    </tr>\n",
       "    <tr>\n",
       "      <th>16</th>\n",
       "      <td>Swansea</td>\n",
       "      <td>33</td>\n",
       "      <td>21</td>\n",
       "      <td>1.103679</td>\n",
       "      <td>0.925110</td>\n",
       "      <td>26</td>\n",
       "      <td>28</td>\n",
       "      <td>1.145374</td>\n",
       "      <td>0.936455</td>\n",
       "    </tr>\n",
       "    <tr>\n",
       "      <th>17</th>\n",
       "      <td>Tottenham</td>\n",
       "      <td>30</td>\n",
       "      <td>25</td>\n",
       "      <td>1.003344</td>\n",
       "      <td>1.101322</td>\n",
       "      <td>23</td>\n",
       "      <td>28</td>\n",
       "      <td>1.013216</td>\n",
       "      <td>0.936455</td>\n",
       "    </tr>\n",
       "    <tr>\n",
       "      <th>18</th>\n",
       "      <td>West Brom</td>\n",
       "      <td>24</td>\n",
       "      <td>19</td>\n",
       "      <td>0.802676</td>\n",
       "      <td>0.837004</td>\n",
       "      <td>27</td>\n",
       "      <td>32</td>\n",
       "      <td>1.189427</td>\n",
       "      <td>1.070234</td>\n",
       "    </tr>\n",
       "    <tr>\n",
       "      <th>19</th>\n",
       "      <td>West Ham</td>\n",
       "      <td>25</td>\n",
       "      <td>15</td>\n",
       "      <td>0.836120</td>\n",
       "      <td>0.660793</td>\n",
       "      <td>26</td>\n",
       "      <td>25</td>\n",
       "      <td>1.145374</td>\n",
       "      <td>0.836120</td>\n",
       "    </tr>\n",
       "  </tbody>\n",
       "</table>\n",
       "</div>"
      ],
      "text/plain": [
       "              Team  HGS  AGS       HAS       AAS  HGC  AGC       HDS       ADS\n",
       "0          Arsenal   36   32  1.204013  1.409692   11   30  0.484581  1.003344\n",
       "1      Aston Villa   22   17  0.735786  0.748899   29   32  1.277533  1.070234\n",
       "2          Cardiff   20   12  0.668896  0.528634   35   39  1.541850  1.304348\n",
       "3          Chelsea   43   28  1.438127  1.233480   11   16  0.484581  0.535117\n",
       "4   Crystal Palace   18   15  0.602007  0.660793   23   25  1.013216  0.836120\n",
       "5          Everton   38   23  1.270903  1.013216   19   20  0.837004  0.668896\n",
       "6           Fulham   24   16  0.802676  0.704846   38   47  1.674009  1.571906\n",
       "7             Hull   20   18  0.668896  0.792952   21   32  0.925110  1.070234\n",
       "8        Liverpool   53   48  1.772575  2.114537   18   32  0.792952  1.070234\n",
       "9         Man City   63   39  2.107023  1.718062   13   24  0.572687  0.802676\n",
       "10      Man United   29   35  0.969900  1.541850   21   22  0.925110  0.735786\n",
       "11       Newcastle   23   20  0.769231  0.881057   28   31  1.233480  1.036789\n",
       "12         Norwich   17   11  0.568562  0.484581   18   44  0.792952  1.471572\n",
       "13     Southampton   32   22  1.070234  0.969163   23   23  1.013216  0.769231\n",
       "14           Stoke   27   18  0.903010  0.792952   17   35  0.748899  1.170569\n",
       "15      Sunderland   21   20  0.702341  0.881057   27   33  1.189427  1.103679\n",
       "16         Swansea   33   21  1.103679  0.925110   26   28  1.145374  0.936455\n",
       "17       Tottenham   30   25  1.003344  1.101322   23   28  1.013216  0.936455\n",
       "18       West Brom   24   19  0.802676  0.837004   27   32  1.189427  1.070234\n",
       "19        West Ham   25   15  0.836120  0.660793   26   25  1.145374  0.836120"
      ]
     },
     "execution_count": 171,
     "metadata": {},
     "output_type": "execute_result"
    }
   ],
   "source": [
    "table_15.HAS = (table_15.HGS / 19.0) / avg_home_scored_15\n",
    "table_15.AAS = (table_15.AGS / 19.0) / avg_away_scored_15\n",
    "table_15.HDS = (table_15.HGC / 19.0) / avg_home_conceded_15\n",
    "table_15.ADS = (table_15.AGC / 19.0) / avg_away_conceded_15\n",
    "table_15"
   ]
  },
  {
   "cell_type": "code",
   "execution_count": 163,
   "metadata": {
    "collapsed": true
   },
   "outputs": [],
   "source": [
    "def exp_goals(mean):\n",
    "    max_pmf = 0;\n",
    "    for i in xrange(7):\n",
    "        pmf = scipy.distributions.poisson.pmf(i,mean) * 100 \n",
    "        if pmf > max_pmf:\n",
    "            max_pmf = pmf\n",
    "            goals = i\n",
    "    return goals"
   ]
  },
  {
   "cell_type": "code",
   "execution_count": 142,
   "metadata": {
    "collapsed": false
   },
   "outputs": [
    {
     "data": {
      "text/html": [
       "<div>\n",
       "<table border=\"1\" class=\"dataframe\">\n",
       "  <thead>\n",
       "    <tr style=\"text-align: right;\">\n",
       "      <th></th>\n",
       "      <th>HomeTeam</th>\n",
       "      <th>AwayTeam</th>\n",
       "      <th>FTHG</th>\n",
       "      <th>FTAG</th>\n",
       "      <th>FTR</th>\n",
       "    </tr>\n",
       "  </thead>\n",
       "  <tbody>\n",
       "    <tr>\n",
       "      <th>0</th>\n",
       "      <td>Arsenal</td>\n",
       "      <td>Aston Villa</td>\n",
       "      <td>1</td>\n",
       "      <td>3</td>\n",
       "      <td>A</td>\n",
       "    </tr>\n",
       "    <tr>\n",
       "      <th>1</th>\n",
       "      <td>Liverpool</td>\n",
       "      <td>Stoke</td>\n",
       "      <td>1</td>\n",
       "      <td>0</td>\n",
       "      <td>H</td>\n",
       "    </tr>\n",
       "    <tr>\n",
       "      <th>2</th>\n",
       "      <td>Norwich</td>\n",
       "      <td>Everton</td>\n",
       "      <td>2</td>\n",
       "      <td>2</td>\n",
       "      <td>D</td>\n",
       "    </tr>\n",
       "    <tr>\n",
       "      <th>3</th>\n",
       "      <td>Sunderland</td>\n",
       "      <td>Fulham</td>\n",
       "      <td>0</td>\n",
       "      <td>1</td>\n",
       "      <td>A</td>\n",
       "    </tr>\n",
       "    <tr>\n",
       "      <th>4</th>\n",
       "      <td>Swansea</td>\n",
       "      <td>Man United</td>\n",
       "      <td>1</td>\n",
       "      <td>4</td>\n",
       "      <td>A</td>\n",
       "    </tr>\n",
       "  </tbody>\n",
       "</table>\n",
       "</div>"
      ],
      "text/plain": [
       "     HomeTeam     AwayTeam  FTHG  FTAG FTR\n",
       "0     Arsenal  Aston Villa     1     3   A\n",
       "1   Liverpool        Stoke     1     0   H\n",
       "2     Norwich      Everton     2     2   D\n",
       "3  Sunderland       Fulham     0     1   A\n",
       "4     Swansea   Man United     1     4   A"
      ]
     },
     "execution_count": 142,
     "metadata": {},
     "output_type": "execute_result"
    }
   ],
   "source": [
    "test_15 = res_15.ix[:,0:5]\n",
    "test_15.head()"
   ]
  },
  {
   "cell_type": "code",
   "execution_count": 190,
   "metadata": {
    "collapsed": false
   },
   "outputs": [],
   "source": [
    "table_15[table_15['Team'] == 'Arsenal']\n",
    "test_15['ER'] = ''"
   ]
  },
  {
   "cell_type": "code",
   "execution_count": 231,
   "metadata": {
    "collapsed": false
   },
   "outputs": [],
   "source": [
    "results = []\n",
    "for index, row in test_15.iterrows():\n",
    "    home_team = table_15[table_15['Team'] == row['HomeTeam']]\n",
    "    away_team = table_15[table_15['Team'] == row['AwayTeam']]\n",
    "    #print \"Home : \", home_team.HAS.values, \"Away: \", away_team.AAS.values\n",
    "    EH = home_team.HAS.values * away_team.ADS.values * avg_home_scored_15\n",
    "    EA = home_team.HDS.values * away_team.AAS.values * avg_home_conceded_15\n",
    "    #print EH[0], EA[0]\n",
    "    if EH[0] > EA[0]:\n",
    "        results.append('H')\n",
    "    else:\n",
    "        results.append('A')"
   ]
  },
  {
   "cell_type": "code",
   "execution_count": 237,
   "metadata": {
    "collapsed": false
   },
   "outputs": [],
   "source": [
    "test_15['ER'] = results"
   ]
  },
  {
   "cell_type": "code",
   "execution_count": 239,
   "metadata": {
    "collapsed": false
   },
   "outputs": [],
   "source": [
    "from sklearn.metrics import accuracy_score"
   ]
  },
  {
   "cell_type": "code",
   "execution_count": 240,
   "metadata": {
    "collapsed": false
   },
   "outputs": [
    {
     "data": {
      "text/plain": [
       "0.60789473684210527"
      ]
     },
     "execution_count": 240,
     "metadata": {},
     "output_type": "execute_result"
    }
   ],
   "source": [
    "accuracy_score(test_15['FTR'],test_15['ER'])"
   ]
  },
  {
   "cell_type": "code",
   "execution_count": 159,
   "metadata": {
    "collapsed": false
   },
   "outputs": [
    {
     "name": "stdout",
     "output_type": "stream",
     "text": [
      "1\n"
     ]
    }
   ],
   "source": [
    "print exp_goals(1.022)"
   ]
  }
 ],
 "metadata": {
  "kernelspec": {
   "display_name": "Python [Root]",
   "language": "python",
   "name": "Python [Root]"
  },
  "language_info": {
   "codemirror_mode": {
    "name": "ipython",
    "version": 2
   },
   "file_extension": ".py",
   "mimetype": "text/x-python",
   "name": "python",
   "nbconvert_exporter": "python",
   "pygments_lexer": "ipython2",
   "version": "2.7.12"
  }
 },
 "nbformat": 4,
 "nbformat_minor": 0
}
